{
  "nbformat": 4,
  "nbformat_minor": 0,
  "metadata": {
    "colab": {
      "provenance": []
    },
    "kernelspec": {
      "name": "python3",
      "display_name": "Python 3"
    },
    "language_info": {
      "name": "python"
    }
  },
  "cells": [
    {
      "cell_type": "markdown",
      "source": [
        "# **I- Analysis of Student Mental Health Survey**"
      ],
      "metadata": {
        "id": "3Ok-6GaEEzFO"
      }
    },
    {
      "cell_type": "markdown",
      "source": [
        "1. [Introduction](#introduction)\n",
        "2. [Data Overview](#data-overview)\n",
        "3. [Data Cleaning and Exploration](#data-cleaning-and-exploration)\n",
        "4. [Analysis and Results](#analysis-and-results)\n",
        "   - [Stress Frequency Distribution](#stress-frequency-distribution)\n",
        "   - [Stress Frequency by Gender](#stress-frequency-by-gender)\n",
        "   - [Sleep Hours by Gender](#sleep-hours-by-gender)\n",
        "   - [Distribution of Stress Levels by UIR Student Status](#distribution-of-stress-levels-by-uir-student-status)\n",
        "   - [Stress Evaluation Distribution by Study Level](#stress-evaluation-distribution-by-study-level)\n",
        "   - [Academic-Social Balance as a Function of Study Year](#academic-social-balance-as-a-function-of-study-year)\n",
        "5. [Conclusions](#conclusions)"
      ],
      "metadata": {
        "id": "SD7cdCllJbOz"
      }
    },
    {
      "cell_type": "markdown",
      "source": [
        "## Introduction\n",
        "\n",
        "This report presents an analysis of a survey conducted to assess the mental health status of students. The survey aims to identify the primary sources of stress among students, their stress management techniques, and the overall impact on their academic and social life. Understanding these factors is crucial for developing strategies to support student well-being."
      ],
      "metadata": {
        "id": "-THUVfhRKUFx"
      }
    },
    {
      "cell_type": "markdown",
      "source": [
        "## **Loading the Dataset**"
      ],
      "metadata": {
        "id": "BUGC2usgMuNb"
      }
    },
    {
      "cell_type": "code",
      "source": [
        "import pandas as pd\n",
        "from google.colab import files\n",
        "\n",
        "# Upload and load the Excel file in a single step\n",
        "uploaded = files.upload()  # User uploads the file\n",
        "\n",
        "# Extract the file name dynamically for flexibility\n",
        "file_name = list(uploaded.keys())[0]\n",
        "\n",
        "# Load and preview the data\n",
        "data = pd.read_excel(file_name)\n",
        "print(\"File loaded successfully!\")\n",
        "data.head()\n"
      ],
      "metadata": {
        "colab": {
          "base_uri": "https://localhost:8080/",
          "height": 696
        },
        "id": "E_mPLed6EWV_",
        "outputId": "38788159-5b16-4728-bf29-ae61ddd4a9ba"
      },
      "execution_count": 1,
      "outputs": [
        {
          "output_type": "display_data",
          "data": {
            "text/plain": [
              "<IPython.core.display.HTML object>"
            ],
            "text/html": [
              "\n",
              "     <input type=\"file\" id=\"files-ef19109a-6397-47b8-859d-b8381c182364\" name=\"files[]\" multiple disabled\n",
              "        style=\"border:none\" />\n",
              "     <output id=\"result-ef19109a-6397-47b8-859d-b8381c182364\">\n",
              "      Upload widget is only available when the cell has been executed in the\n",
              "      current browser session. Please rerun this cell to enable.\n",
              "      </output>\n",
              "      <script>// Copyright 2017 Google LLC\n",
              "//\n",
              "// Licensed under the Apache License, Version 2.0 (the \"License\");\n",
              "// you may not use this file except in compliance with the License.\n",
              "// You may obtain a copy of the License at\n",
              "//\n",
              "//      http://www.apache.org/licenses/LICENSE-2.0\n",
              "//\n",
              "// Unless required by applicable law or agreed to in writing, software\n",
              "// distributed under the License is distributed on an \"AS IS\" BASIS,\n",
              "// WITHOUT WARRANTIES OR CONDITIONS OF ANY KIND, either express or implied.\n",
              "// See the License for the specific language governing permissions and\n",
              "// limitations under the License.\n",
              "\n",
              "/**\n",
              " * @fileoverview Helpers for google.colab Python module.\n",
              " */\n",
              "(function(scope) {\n",
              "function span(text, styleAttributes = {}) {\n",
              "  const element = document.createElement('span');\n",
              "  element.textContent = text;\n",
              "  for (const key of Object.keys(styleAttributes)) {\n",
              "    element.style[key] = styleAttributes[key];\n",
              "  }\n",
              "  return element;\n",
              "}\n",
              "\n",
              "// Max number of bytes which will be uploaded at a time.\n",
              "const MAX_PAYLOAD_SIZE = 100 * 1024;\n",
              "\n",
              "function _uploadFiles(inputId, outputId) {\n",
              "  const steps = uploadFilesStep(inputId, outputId);\n",
              "  const outputElement = document.getElementById(outputId);\n",
              "  // Cache steps on the outputElement to make it available for the next call\n",
              "  // to uploadFilesContinue from Python.\n",
              "  outputElement.steps = steps;\n",
              "\n",
              "  return _uploadFilesContinue(outputId);\n",
              "}\n",
              "\n",
              "// This is roughly an async generator (not supported in the browser yet),\n",
              "// where there are multiple asynchronous steps and the Python side is going\n",
              "// to poll for completion of each step.\n",
              "// This uses a Promise to block the python side on completion of each step,\n",
              "// then passes the result of the previous step as the input to the next step.\n",
              "function _uploadFilesContinue(outputId) {\n",
              "  const outputElement = document.getElementById(outputId);\n",
              "  const steps = outputElement.steps;\n",
              "\n",
              "  const next = steps.next(outputElement.lastPromiseValue);\n",
              "  return Promise.resolve(next.value.promise).then((value) => {\n",
              "    // Cache the last promise value to make it available to the next\n",
              "    // step of the generator.\n",
              "    outputElement.lastPromiseValue = value;\n",
              "    return next.value.response;\n",
              "  });\n",
              "}\n",
              "\n",
              "/**\n",
              " * Generator function which is called between each async step of the upload\n",
              " * process.\n",
              " * @param {string} inputId Element ID of the input file picker element.\n",
              " * @param {string} outputId Element ID of the output display.\n",
              " * @return {!Iterable<!Object>} Iterable of next steps.\n",
              " */\n",
              "function* uploadFilesStep(inputId, outputId) {\n",
              "  const inputElement = document.getElementById(inputId);\n",
              "  inputElement.disabled = false;\n",
              "\n",
              "  const outputElement = document.getElementById(outputId);\n",
              "  outputElement.innerHTML = '';\n",
              "\n",
              "  const pickedPromise = new Promise((resolve) => {\n",
              "    inputElement.addEventListener('change', (e) => {\n",
              "      resolve(e.target.files);\n",
              "    });\n",
              "  });\n",
              "\n",
              "  const cancel = document.createElement('button');\n",
              "  inputElement.parentElement.appendChild(cancel);\n",
              "  cancel.textContent = 'Cancel upload';\n",
              "  const cancelPromise = new Promise((resolve) => {\n",
              "    cancel.onclick = () => {\n",
              "      resolve(null);\n",
              "    };\n",
              "  });\n",
              "\n",
              "  // Wait for the user to pick the files.\n",
              "  const files = yield {\n",
              "    promise: Promise.race([pickedPromise, cancelPromise]),\n",
              "    response: {\n",
              "      action: 'starting',\n",
              "    }\n",
              "  };\n",
              "\n",
              "  cancel.remove();\n",
              "\n",
              "  // Disable the input element since further picks are not allowed.\n",
              "  inputElement.disabled = true;\n",
              "\n",
              "  if (!files) {\n",
              "    return {\n",
              "      response: {\n",
              "        action: 'complete',\n",
              "      }\n",
              "    };\n",
              "  }\n",
              "\n",
              "  for (const file of files) {\n",
              "    const li = document.createElement('li');\n",
              "    li.append(span(file.name, {fontWeight: 'bold'}));\n",
              "    li.append(span(\n",
              "        `(${file.type || 'n/a'}) - ${file.size} bytes, ` +\n",
              "        `last modified: ${\n",
              "            file.lastModifiedDate ? file.lastModifiedDate.toLocaleDateString() :\n",
              "                                    'n/a'} - `));\n",
              "    const percent = span('0% done');\n",
              "    li.appendChild(percent);\n",
              "\n",
              "    outputElement.appendChild(li);\n",
              "\n",
              "    const fileDataPromise = new Promise((resolve) => {\n",
              "      const reader = new FileReader();\n",
              "      reader.onload = (e) => {\n",
              "        resolve(e.target.result);\n",
              "      };\n",
              "      reader.readAsArrayBuffer(file);\n",
              "    });\n",
              "    // Wait for the data to be ready.\n",
              "    let fileData = yield {\n",
              "      promise: fileDataPromise,\n",
              "      response: {\n",
              "        action: 'continue',\n",
              "      }\n",
              "    };\n",
              "\n",
              "    // Use a chunked sending to avoid message size limits. See b/62115660.\n",
              "    let position = 0;\n",
              "    do {\n",
              "      const length = Math.min(fileData.byteLength - position, MAX_PAYLOAD_SIZE);\n",
              "      const chunk = new Uint8Array(fileData, position, length);\n",
              "      position += length;\n",
              "\n",
              "      const base64 = btoa(String.fromCharCode.apply(null, chunk));\n",
              "      yield {\n",
              "        response: {\n",
              "          action: 'append',\n",
              "          file: file.name,\n",
              "          data: base64,\n",
              "        },\n",
              "      };\n",
              "\n",
              "      let percentDone = fileData.byteLength === 0 ?\n",
              "          100 :\n",
              "          Math.round((position / fileData.byteLength) * 100);\n",
              "      percent.textContent = `${percentDone}% done`;\n",
              "\n",
              "    } while (position < fileData.byteLength);\n",
              "  }\n",
              "\n",
              "  // All done.\n",
              "  yield {\n",
              "    response: {\n",
              "      action: 'complete',\n",
              "    }\n",
              "  };\n",
              "}\n",
              "\n",
              "scope.google = scope.google || {};\n",
              "scope.google.colab = scope.google.colab || {};\n",
              "scope.google.colab._files = {\n",
              "  _uploadFiles,\n",
              "  _uploadFilesContinue,\n",
              "};\n",
              "})(self);\n",
              "</script> "
            ]
          },
          "metadata": {}
        },
        {
          "output_type": "stream",
          "name": "stdout",
          "text": [
            "Saving Student_Mental_Health_DATA.xlsx to Student_Mental_Health_DATA.xlsx\n",
            "File loaded successfully!\n"
          ]
        },
        {
          "output_type": "execute_result",
          "data": {
            "text/plain": [
              "  Quel est votre sexe ?  Entrez votre âge :\\n  \\\n",
              "0                 Femme                    21   \n",
              "1                 Femme                    22   \n",
              "2                 Homme                    24   \n",
              "3                 Femme                    20   \n",
              "4                 Femme                    21   \n",
              "\n",
              "  Quel est votre niveaux d'études ?\\n Dans quelle année d’étude êtes-vous ?\\n  \\\n",
              "0                     Cycle ingénieur                              4ème année   \n",
              "1                              Master                              4ème année   \n",
              "2                             Licence                              3ème année   \n",
              "3                     Cycle ingénieur                              3ème année   \n",
              "4                     Cycle ingénieur                              4ème année   \n",
              "\n",
              "  Êtes-vous étudiant au sein de l'UIR ?  \\\n",
              "0                                   Oui   \n",
              "1                                   Oui   \n",
              "2                                   Oui   \n",
              "3                                   Oui   \n",
              "4                                   Oui   \n",
              "\n",
              "  Quelles sont vos principales sources de stress liées à la vie étudiante ?  \\\n",
              "0     Charge de travail académique;Pression sociale;                          \n",
              "1              Pression sociale;Problèmes financiers                          \n",
              "2              Problèmes financiers;Pression sociale                          \n",
              "3              Pression sociale;Problèmes financiers                          \n",
              "4      Charge de travail académique;Pression sociale                          \n",
              "\n",
              "         Comment gérez-vous le stress au quotidien ?  \\\n",
              "0  Temps avec des amis/famille;Méditation/Relaxat...   \n",
              "1  Exercice physique;Divertissements personnels (...   \n",
              "2            Méditation/Relaxation;Exercice physique   \n",
              "3      Exercice physique;Temps avec des amis/famille   \n",
              "4  Divertissements personnels (lecture, films, sé...   \n",
              "\n",
              "   À quelle fréquence ressentez-vous des symptômes physiques liés au stress (maux de tête, troubles du sommeil, etc.) ?  \\\n",
              "0                                                  5                                                                      \n",
              "1                                                  4                                                                      \n",
              "2                                                  7                                                                      \n",
              "3                                                  4                                                                      \n",
              "4                                                  9                                                                      \n",
              "\n",
              "  Quelle est votre perception de l'équilibre entre travail académique, vie sociale et activités de bien-être personnel?  \\\n",
              "0           Déséquilibré en faveur de la vie sociale                                                                      \n",
              "1           Déséquilibré en faveur de la vie sociale                                                                      \n",
              "2  Déséquilibré en faveur des activités personnel...                                                                      \n",
              "3                                          Équilibré                                                                      \n",
              "4                                          Équilibré                                                                      \n",
              "\n",
              "   Comment évaluez-vous votre niveau de stress global en tant qu’étudiant ?  \\\n",
              "0                                                  4                          \n",
              "1                                                  5                          \n",
              "2                                                  4                          \n",
              "3                                                  1                          \n",
              "4                                                  2                          \n",
              "\n",
              "   Combien d’heures de sommeil en moyenne obtenez-vous par nuit ?  \\\n",
              "0                                                  6                \n",
              "1                                                  7                \n",
              "2                                                  6                \n",
              "3                                                  8                \n",
              "4                                                  8                \n",
              "\n",
              "   Combien d'heures en moyenne passez-vous par jour sur les appareils électroniques (téléphone, ordinateur) ?  \\\n",
              "0                                                 10                                                            \n",
              "1                                                  9                                                            \n",
              "2                                                  6                                                            \n",
              "3                                                  4                                                            \n",
              "4                                                  6                                                            \n",
              "\n",
              "  À quelle fréquence participez-vous aux activités universitaires (Sports, Clubs, Workshops, etc.) ?  \n",
              "0                                           rarement                                                  \n",
              "1                                             jamais                                                  \n",
              "2                                           rarement                                                  \n",
              "3                                        fréquemment                                                  \n",
              "4                                  occasionnellement                                                  "
            ],
            "text/html": [
              "\n",
              "  <div id=\"df-d706732b-1e09-49ea-9249-8d85543ae36a\" class=\"colab-df-container\">\n",
              "    <div>\n",
              "<style scoped>\n",
              "    .dataframe tbody tr th:only-of-type {\n",
              "        vertical-align: middle;\n",
              "    }\n",
              "\n",
              "    .dataframe tbody tr th {\n",
              "        vertical-align: top;\n",
              "    }\n",
              "\n",
              "    .dataframe thead th {\n",
              "        text-align: right;\n",
              "    }\n",
              "</style>\n",
              "<table border=\"1\" class=\"dataframe\">\n",
              "  <thead>\n",
              "    <tr style=\"text-align: right;\">\n",
              "      <th></th>\n",
              "      <th>Quel est votre sexe ?</th>\n",
              "      <th>Entrez votre âge :\\n</th>\n",
              "      <th>Quel est votre niveaux d'études ?\\n</th>\n",
              "      <th>Dans quelle année d’étude êtes-vous ?\\n</th>\n",
              "      <th>Êtes-vous étudiant au sein de l'UIR ?</th>\n",
              "      <th>Quelles sont vos principales sources de stress liées à la vie étudiante ?</th>\n",
              "      <th>Comment gérez-vous le stress au quotidien ?</th>\n",
              "      <th>À quelle fréquence ressentez-vous des symptômes physiques liés au stress (maux de tête, troubles du sommeil, etc.) ?</th>\n",
              "      <th>Quelle est votre perception de l'équilibre entre travail académique, vie sociale et activités de bien-être personnel?</th>\n",
              "      <th>Comment évaluez-vous votre niveau de stress global en tant qu’étudiant ?</th>\n",
              "      <th>Combien d’heures de sommeil en moyenne obtenez-vous par nuit ?</th>\n",
              "      <th>Combien d'heures en moyenne passez-vous par jour sur les appareils électroniques (téléphone, ordinateur) ?</th>\n",
              "      <th>À quelle fréquence participez-vous aux activités universitaires (Sports, Clubs, Workshops, etc.) ?</th>\n",
              "    </tr>\n",
              "  </thead>\n",
              "  <tbody>\n",
              "    <tr>\n",
              "      <th>0</th>\n",
              "      <td>Femme</td>\n",
              "      <td>21</td>\n",
              "      <td>Cycle ingénieur</td>\n",
              "      <td>4ème année</td>\n",
              "      <td>Oui</td>\n",
              "      <td>Charge de travail académique;Pression sociale;</td>\n",
              "      <td>Temps avec des amis/famille;Méditation/Relaxat...</td>\n",
              "      <td>5</td>\n",
              "      <td>Déséquilibré en faveur de la vie sociale</td>\n",
              "      <td>4</td>\n",
              "      <td>6</td>\n",
              "      <td>10</td>\n",
              "      <td>rarement</td>\n",
              "    </tr>\n",
              "    <tr>\n",
              "      <th>1</th>\n",
              "      <td>Femme</td>\n",
              "      <td>22</td>\n",
              "      <td>Master</td>\n",
              "      <td>4ème année</td>\n",
              "      <td>Oui</td>\n",
              "      <td>Pression sociale;Problèmes financiers</td>\n",
              "      <td>Exercice physique;Divertissements personnels (...</td>\n",
              "      <td>4</td>\n",
              "      <td>Déséquilibré en faveur de la vie sociale</td>\n",
              "      <td>5</td>\n",
              "      <td>7</td>\n",
              "      <td>9</td>\n",
              "      <td>jamais</td>\n",
              "    </tr>\n",
              "    <tr>\n",
              "      <th>2</th>\n",
              "      <td>Homme</td>\n",
              "      <td>24</td>\n",
              "      <td>Licence</td>\n",
              "      <td>3ème année</td>\n",
              "      <td>Oui</td>\n",
              "      <td>Problèmes financiers;Pression sociale</td>\n",
              "      <td>Méditation/Relaxation;Exercice physique</td>\n",
              "      <td>7</td>\n",
              "      <td>Déséquilibré en faveur des activités personnel...</td>\n",
              "      <td>4</td>\n",
              "      <td>6</td>\n",
              "      <td>6</td>\n",
              "      <td>rarement</td>\n",
              "    </tr>\n",
              "    <tr>\n",
              "      <th>3</th>\n",
              "      <td>Femme</td>\n",
              "      <td>20</td>\n",
              "      <td>Cycle ingénieur</td>\n",
              "      <td>3ème année</td>\n",
              "      <td>Oui</td>\n",
              "      <td>Pression sociale;Problèmes financiers</td>\n",
              "      <td>Exercice physique;Temps avec des amis/famille</td>\n",
              "      <td>4</td>\n",
              "      <td>Équilibré</td>\n",
              "      <td>1</td>\n",
              "      <td>8</td>\n",
              "      <td>4</td>\n",
              "      <td>fréquemment</td>\n",
              "    </tr>\n",
              "    <tr>\n",
              "      <th>4</th>\n",
              "      <td>Femme</td>\n",
              "      <td>21</td>\n",
              "      <td>Cycle ingénieur</td>\n",
              "      <td>4ème année</td>\n",
              "      <td>Oui</td>\n",
              "      <td>Charge de travail académique;Pression sociale</td>\n",
              "      <td>Divertissements personnels (lecture, films, sé...</td>\n",
              "      <td>9</td>\n",
              "      <td>Équilibré</td>\n",
              "      <td>2</td>\n",
              "      <td>8</td>\n",
              "      <td>6</td>\n",
              "      <td>occasionnellement</td>\n",
              "    </tr>\n",
              "  </tbody>\n",
              "</table>\n",
              "</div>\n",
              "    <div class=\"colab-df-buttons\">\n",
              "\n",
              "  <div class=\"colab-df-container\">\n",
              "    <button class=\"colab-df-convert\" onclick=\"convertToInteractive('df-d706732b-1e09-49ea-9249-8d85543ae36a')\"\n",
              "            title=\"Convert this dataframe to an interactive table.\"\n",
              "            style=\"display:none;\">\n",
              "\n",
              "  <svg xmlns=\"http://www.w3.org/2000/svg\" height=\"24px\" viewBox=\"0 -960 960 960\">\n",
              "    <path d=\"M120-120v-720h720v720H120Zm60-500h600v-160H180v160Zm220 220h160v-160H400v160Zm0 220h160v-160H400v160ZM180-400h160v-160H180v160Zm440 0h160v-160H620v160ZM180-180h160v-160H180v160Zm440 0h160v-160H620v160Z\"/>\n",
              "  </svg>\n",
              "    </button>\n",
              "\n",
              "  <style>\n",
              "    .colab-df-container {\n",
              "      display:flex;\n",
              "      gap: 12px;\n",
              "    }\n",
              "\n",
              "    .colab-df-convert {\n",
              "      background-color: #E8F0FE;\n",
              "      border: none;\n",
              "      border-radius: 50%;\n",
              "      cursor: pointer;\n",
              "      display: none;\n",
              "      fill: #1967D2;\n",
              "      height: 32px;\n",
              "      padding: 0 0 0 0;\n",
              "      width: 32px;\n",
              "    }\n",
              "\n",
              "    .colab-df-convert:hover {\n",
              "      background-color: #E2EBFA;\n",
              "      box-shadow: 0px 1px 2px rgba(60, 64, 67, 0.3), 0px 1px 3px 1px rgba(60, 64, 67, 0.15);\n",
              "      fill: #174EA6;\n",
              "    }\n",
              "\n",
              "    .colab-df-buttons div {\n",
              "      margin-bottom: 4px;\n",
              "    }\n",
              "\n",
              "    [theme=dark] .colab-df-convert {\n",
              "      background-color: #3B4455;\n",
              "      fill: #D2E3FC;\n",
              "    }\n",
              "\n",
              "    [theme=dark] .colab-df-convert:hover {\n",
              "      background-color: #434B5C;\n",
              "      box-shadow: 0px 1px 3px 1px rgba(0, 0, 0, 0.15);\n",
              "      filter: drop-shadow(0px 1px 2px rgba(0, 0, 0, 0.3));\n",
              "      fill: #FFFFFF;\n",
              "    }\n",
              "  </style>\n",
              "\n",
              "    <script>\n",
              "      const buttonEl =\n",
              "        document.querySelector('#df-d706732b-1e09-49ea-9249-8d85543ae36a button.colab-df-convert');\n",
              "      buttonEl.style.display =\n",
              "        google.colab.kernel.accessAllowed ? 'block' : 'none';\n",
              "\n",
              "      async function convertToInteractive(key) {\n",
              "        const element = document.querySelector('#df-d706732b-1e09-49ea-9249-8d85543ae36a');\n",
              "        const dataTable =\n",
              "          await google.colab.kernel.invokeFunction('convertToInteractive',\n",
              "                                                    [key], {});\n",
              "        if (!dataTable) return;\n",
              "\n",
              "        const docLinkHtml = 'Like what you see? Visit the ' +\n",
              "          '<a target=\"_blank\" href=https://colab.research.google.com/notebooks/data_table.ipynb>data table notebook</a>'\n",
              "          + ' to learn more about interactive tables.';\n",
              "        element.innerHTML = '';\n",
              "        dataTable['output_type'] = 'display_data';\n",
              "        await google.colab.output.renderOutput(dataTable, element);\n",
              "        const docLink = document.createElement('div');\n",
              "        docLink.innerHTML = docLinkHtml;\n",
              "        element.appendChild(docLink);\n",
              "      }\n",
              "    </script>\n",
              "  </div>\n",
              "\n",
              "\n",
              "<div id=\"df-afd5c9fe-4017-46ab-99e2-7270df67fcab\">\n",
              "  <button class=\"colab-df-quickchart\" onclick=\"quickchart('df-afd5c9fe-4017-46ab-99e2-7270df67fcab')\"\n",
              "            title=\"Suggest charts\"\n",
              "            style=\"display:none;\">\n",
              "\n",
              "<svg xmlns=\"http://www.w3.org/2000/svg\" height=\"24px\"viewBox=\"0 0 24 24\"\n",
              "     width=\"24px\">\n",
              "    <g>\n",
              "        <path d=\"M19 3H5c-1.1 0-2 .9-2 2v14c0 1.1.9 2 2 2h14c1.1 0 2-.9 2-2V5c0-1.1-.9-2-2-2zM9 17H7v-7h2v7zm4 0h-2V7h2v10zm4 0h-2v-4h2v4z\"/>\n",
              "    </g>\n",
              "</svg>\n",
              "  </button>\n",
              "\n",
              "<style>\n",
              "  .colab-df-quickchart {\n",
              "      --bg-color: #E8F0FE;\n",
              "      --fill-color: #1967D2;\n",
              "      --hover-bg-color: #E2EBFA;\n",
              "      --hover-fill-color: #174EA6;\n",
              "      --disabled-fill-color: #AAA;\n",
              "      --disabled-bg-color: #DDD;\n",
              "  }\n",
              "\n",
              "  [theme=dark] .colab-df-quickchart {\n",
              "      --bg-color: #3B4455;\n",
              "      --fill-color: #D2E3FC;\n",
              "      --hover-bg-color: #434B5C;\n",
              "      --hover-fill-color: #FFFFFF;\n",
              "      --disabled-bg-color: #3B4455;\n",
              "      --disabled-fill-color: #666;\n",
              "  }\n",
              "\n",
              "  .colab-df-quickchart {\n",
              "    background-color: var(--bg-color);\n",
              "    border: none;\n",
              "    border-radius: 50%;\n",
              "    cursor: pointer;\n",
              "    display: none;\n",
              "    fill: var(--fill-color);\n",
              "    height: 32px;\n",
              "    padding: 0;\n",
              "    width: 32px;\n",
              "  }\n",
              "\n",
              "  .colab-df-quickchart:hover {\n",
              "    background-color: var(--hover-bg-color);\n",
              "    box-shadow: 0 1px 2px rgba(60, 64, 67, 0.3), 0 1px 3px 1px rgba(60, 64, 67, 0.15);\n",
              "    fill: var(--button-hover-fill-color);\n",
              "  }\n",
              "\n",
              "  .colab-df-quickchart-complete:disabled,\n",
              "  .colab-df-quickchart-complete:disabled:hover {\n",
              "    background-color: var(--disabled-bg-color);\n",
              "    fill: var(--disabled-fill-color);\n",
              "    box-shadow: none;\n",
              "  }\n",
              "\n",
              "  .colab-df-spinner {\n",
              "    border: 2px solid var(--fill-color);\n",
              "    border-color: transparent;\n",
              "    border-bottom-color: var(--fill-color);\n",
              "    animation:\n",
              "      spin 1s steps(1) infinite;\n",
              "  }\n",
              "\n",
              "  @keyframes spin {\n",
              "    0% {\n",
              "      border-color: transparent;\n",
              "      border-bottom-color: var(--fill-color);\n",
              "      border-left-color: var(--fill-color);\n",
              "    }\n",
              "    20% {\n",
              "      border-color: transparent;\n",
              "      border-left-color: var(--fill-color);\n",
              "      border-top-color: var(--fill-color);\n",
              "    }\n",
              "    30% {\n",
              "      border-color: transparent;\n",
              "      border-left-color: var(--fill-color);\n",
              "      border-top-color: var(--fill-color);\n",
              "      border-right-color: var(--fill-color);\n",
              "    }\n",
              "    40% {\n",
              "      border-color: transparent;\n",
              "      border-right-color: var(--fill-color);\n",
              "      border-top-color: var(--fill-color);\n",
              "    }\n",
              "    60% {\n",
              "      border-color: transparent;\n",
              "      border-right-color: var(--fill-color);\n",
              "    }\n",
              "    80% {\n",
              "      border-color: transparent;\n",
              "      border-right-color: var(--fill-color);\n",
              "      border-bottom-color: var(--fill-color);\n",
              "    }\n",
              "    90% {\n",
              "      border-color: transparent;\n",
              "      border-bottom-color: var(--fill-color);\n",
              "    }\n",
              "  }\n",
              "</style>\n",
              "\n",
              "  <script>\n",
              "    async function quickchart(key) {\n",
              "      const quickchartButtonEl =\n",
              "        document.querySelector('#' + key + ' button');\n",
              "      quickchartButtonEl.disabled = true;  // To prevent multiple clicks.\n",
              "      quickchartButtonEl.classList.add('colab-df-spinner');\n",
              "      try {\n",
              "        const charts = await google.colab.kernel.invokeFunction(\n",
              "            'suggestCharts', [key], {});\n",
              "      } catch (error) {\n",
              "        console.error('Error during call to suggestCharts:', error);\n",
              "      }\n",
              "      quickchartButtonEl.classList.remove('colab-df-spinner');\n",
              "      quickchartButtonEl.classList.add('colab-df-quickchart-complete');\n",
              "    }\n",
              "    (() => {\n",
              "      let quickchartButtonEl =\n",
              "        document.querySelector('#df-afd5c9fe-4017-46ab-99e2-7270df67fcab button');\n",
              "      quickchartButtonEl.style.display =\n",
              "        google.colab.kernel.accessAllowed ? 'block' : 'none';\n",
              "    })();\n",
              "  </script>\n",
              "</div>\n",
              "\n",
              "    </div>\n",
              "  </div>\n"
            ],
            "application/vnd.google.colaboratory.intrinsic+json": {
              "type": "dataframe",
              "variable_name": "data",
              "summary": "{\n  \"name\": \"data\",\n  \"rows\": 367,\n  \"fields\": [\n    {\n      \"column\": \"Quel est votre sexe ?\",\n      \"properties\": {\n        \"dtype\": \"category\",\n        \"num_unique_values\": 2,\n        \"samples\": [\n          \"Homme\",\n          \"Femme\"\n        ],\n        \"semantic_type\": \"\",\n        \"description\": \"\"\n      }\n    },\n    {\n      \"column\": \"Entrez votre \\u00e2ge :\\n\",\n      \"properties\": {\n        \"dtype\": \"number\",\n        \"std\": 3,\n        \"min\": 18,\n        \"max\": 29,\n        \"num_unique_values\": 12,\n        \"samples\": [\n          27,\n          28\n        ],\n        \"semantic_type\": \"\",\n        \"description\": \"\"\n      }\n    },\n    {\n      \"column\": \"Quel est votre niveaux d'\\u00e9tudes ?\\n\",\n      \"properties\": {\n        \"dtype\": \"category\",\n        \"num_unique_values\": 4,\n        \"samples\": [\n          \"Master\",\n          \"Doctorat\"\n        ],\n        \"semantic_type\": \"\",\n        \"description\": \"\"\n      }\n    },\n    {\n      \"column\": \"Dans quelle ann\\u00e9e d\\u2019\\u00e9tude \\u00eates-vous ?\\n\",\n      \"properties\": {\n        \"dtype\": \"category\",\n        \"num_unique_values\": 6,\n        \"samples\": [\n          \"4\\u00e8me ann\\u00e9e\",\n          \"3\\u00e8me ann\\u00e9e\"\n        ],\n        \"semantic_type\": \"\",\n        \"description\": \"\"\n      }\n    },\n    {\n      \"column\": \"\\u00cates-vous \\u00e9tudiant au sein de l'UIR ?\",\n      \"properties\": {\n        \"dtype\": \"category\",\n        \"num_unique_values\": 2,\n        \"samples\": [\n          \"Non\",\n          \"Oui\"\n        ],\n        \"semantic_type\": \"\",\n        \"description\": \"\"\n      }\n    },\n    {\n      \"column\": \"Quelles sont vos principales sources de stress li\\u00e9es \\u00e0 la vie \\u00e9tudiante ?\",\n      \"properties\": {\n        \"dtype\": \"category\",\n        \"num_unique_values\": 14,\n        \"samples\": [\n          \"Pression sociale;Probl\\u00e8mes de sant\\u00e9 (mentale ou physique)\",\n          \"Probl\\u00e8mes financiers;Probl\\u00e8mes de sant\\u00e9 (mentale ou physique)\"\n        ],\n        \"semantic_type\": \"\",\n        \"description\": \"\"\n      }\n    },\n    {\n      \"column\": \"Comment g\\u00e9rez-vous le stress au quotidien ?\",\n      \"properties\": {\n        \"dtype\": \"category\",\n        \"num_unique_values\": 13,\n        \"samples\": [\n          \"Temps avec des amis/famille;M\\u00e9ditation/Relaxation\",\n          \"M\\u00e9ditation/Relaxation;Divertissements personnels (lecture, films, s\\u00e9ries)\"\n        ],\n        \"semantic_type\": \"\",\n        \"description\": \"\"\n      }\n    },\n    {\n      \"column\": \"\\u00c0 quelle fr\\u00e9quence ressentez-vous des sympt\\u00f4mes physiques li\\u00e9s au stress (maux de t\\u00eate, troubles du sommeil, etc.) ?\",\n      \"properties\": {\n        \"dtype\": \"number\",\n        \"std\": 2,\n        \"min\": 1,\n        \"max\": 10,\n        \"num_unique_values\": 10,\n        \"samples\": [\n          3,\n          4\n        ],\n        \"semantic_type\": \"\",\n        \"description\": \"\"\n      }\n    },\n    {\n      \"column\": \"Quelle est votre perception de l'\\u00e9quilibre entre travail acad\\u00e9mique, vie sociale et activit\\u00e9s de bien-\\u00eatre personnel?\",\n      \"properties\": {\n        \"dtype\": \"category\",\n        \"num_unique_values\": 5,\n        \"samples\": [\n          \"D\\u00e9s\\u00e9quilibr\\u00e9 en faveur des activit\\u00e9s personnelles de bien-\\u00eatre\",\n          \"D\\u00e9s\\u00e9quilibr\\u00e9 en faveur des activit\\u00e9s personnelles\"\n        ],\n        \"semantic_type\": \"\",\n        \"description\": \"\"\n      }\n    },\n    {\n      \"column\": \"Comment \\u00e9valuez-vous votre niveau de stress global en tant qu\\u2019\\u00e9tudiant ?\",\n      \"properties\": {\n        \"dtype\": \"number\",\n        \"std\": 1,\n        \"min\": 1,\n        \"max\": 5,\n        \"num_unique_values\": 5,\n        \"samples\": [\n          5,\n          3\n        ],\n        \"semantic_type\": \"\",\n        \"description\": \"\"\n      }\n    },\n    {\n      \"column\": \"Combien d\\u2019heures de sommeil en moyenne obtenez-vous par nuit ?\",\n      \"properties\": {\n        \"dtype\": \"number\",\n        \"std\": 1,\n        \"min\": 3,\n        \"max\": 9,\n        \"num_unique_values\": 7,\n        \"samples\": [\n          6,\n          7\n        ],\n        \"semantic_type\": \"\",\n        \"description\": \"\"\n      }\n    },\n    {\n      \"column\": \"Combien d'heures en moyenne passez-vous par jour sur les appareils \\u00e9lectroniques (t\\u00e9l\\u00e9phone, ordinateur) ?\",\n      \"properties\": {\n        \"dtype\": \"number\",\n        \"std\": 2,\n        \"min\": 1,\n        \"max\": 10,\n        \"num_unique_values\": 10,\n        \"samples\": [\n          2,\n          9\n        ],\n        \"semantic_type\": \"\",\n        \"description\": \"\"\n      }\n    },\n    {\n      \"column\": \"\\u00c0 quelle fr\\u00e9quence participez-vous aux activit\\u00e9s universitaires (Sports, Clubs, Workshops, etc.) ?\",\n      \"properties\": {\n        \"dtype\": \"category\",\n        \"num_unique_values\": 4,\n        \"samples\": [\n          \"jamais\",\n          \"occasionnellement\"\n        ],\n        \"semantic_type\": \"\",\n        \"description\": \"\"\n      }\n    }\n  ]\n}"
            }
          },
          "metadata": {},
          "execution_count": 1
        }
      ]
    },
    {
      "cell_type": "code",
      "source": [
        "print(data.columns)\n",
        "print(len(data.columns))"
      ],
      "metadata": {
        "colab": {
          "base_uri": "https://localhost:8080/"
        },
        "id": "ZNh0aPU4T785",
        "outputId": "8ec5ac97-c1c7-4997-8144-03f34d356af4"
      },
      "execution_count": 2,
      "outputs": [
        {
          "output_type": "stream",
          "name": "stdout",
          "text": [
            "Index(['Quel est votre sexe ?', 'Entrez votre âge :\\n',\n",
            "       'Quel est votre niveaux d'études ?\\n',\n",
            "       'Dans quelle année d’étude êtes-vous ?\\n',\n",
            "       'Êtes-vous étudiant au sein de l'UIR ?',\n",
            "       'Quelles sont vos principales sources de stress liées à la vie étudiante ?',\n",
            "       'Comment gérez-vous le stress au quotidien ?',\n",
            "       'À quelle fréquence ressentez-vous des symptômes physiques liés au stress (maux de tête, troubles du sommeil, etc.) ?',\n",
            "       'Quelle est votre perception de l'équilibre entre travail académique, vie sociale et activités de bien-être personnel?',\n",
            "       'Comment évaluez-vous votre niveau de stress global en tant qu’étudiant ?',\n",
            "       'Combien d’heures de sommeil en moyenne obtenez-vous par nuit ?',\n",
            "       'Combien d'heures en moyenne passez-vous par jour sur les appareils électroniques (téléphone, ordinateur) ?',\n",
            "       'À quelle fréquence participez-vous aux activités universitaires (Sports, Clubs, Workshops, etc.) ?'],\n",
            "      dtype='object')\n",
            "13\n"
          ]
        }
      ]
    },
    {
      "cell_type": "markdown",
      "source": [
        "## **Data Cleaning and Exploration**"
      ],
      "metadata": {
        "id": "AB-m_PXcM2zL"
      }
    },
    {
      "cell_type": "markdown",
      "source": [
        "**Renaming Columns**\n",
        "\n",
        "For ease of use, we rename the columns:"
      ],
      "metadata": {
        "id": "jKM2QNXPMb1r"
      }
    },
    {
      "cell_type": "code",
      "source": [
        "# Rename columns for easier usage\n",
        "data.columns = [\n",
        "    \"Gender\",\n",
        "    \"Age\",\n",
        "    \"Study_Level\",\n",
        "    \"Study_Year\",\n",
        "    \"Is_UIR_Student\",\n",
        "    \"Stress_Sources\",\n",
        "    \"Stress_Management\",\n",
        "    \"Stress_Frequency\",\n",
        "    \"Academic_Social_Balance\",\n",
        "    \"Stress_Evaluation\",\n",
        "    \"Sleep_Hours\",\n",
        "    \"Device_Time\",\n",
        "    \"Activity_Frequency\"\n",
        "]\n"
      ],
      "metadata": {
        "id": "lpuSVuEPElEp"
      },
      "execution_count": 3,
      "outputs": []
    },
    {
      "cell_type": "markdown",
      "source": [
        "## **Missing Values**\n",
        "\n",
        "We check for missing values in the dataset:"
      ],
      "metadata": {
        "id": "xCW1bw7XSIoJ"
      }
    },
    {
      "cell_type": "code",
      "source": [
        "print(data.isnull().sum())"
      ],
      "metadata": {
        "id": "dAydCbatSKbw",
        "colab": {
          "base_uri": "https://localhost:8080/"
        },
        "outputId": "b8ea9374-1538-4bf9-d2ea-e261d348a9e2"
      },
      "execution_count": 4,
      "outputs": [
        {
          "output_type": "stream",
          "name": "stdout",
          "text": [
            "Gender                     0\n",
            "Age                        0\n",
            "Study_Level                0\n",
            "Study_Year                 0\n",
            "Is_UIR_Student             0\n",
            "Stress_Sources             0\n",
            "Stress_Management          0\n",
            "Stress_Frequency           0\n",
            "Academic_Social_Balance    0\n",
            "Stress_Evaluation          0\n",
            "Sleep_Hours                0\n",
            "Device_Time                0\n",
            "Activity_Frequency         0\n",
            "dtype: int64\n"
          ]
        }
      ]
    },
    {
      "cell_type": "markdown",
      "source": [
        "**Observation:** There are no missing values in the dataset, ensuring data completeness for the analysis.\n"
      ],
      "metadata": {
        "id": "_u4TXN98O9al"
      }
    },
    {
      "cell_type": "markdown",
      "source": [
        "## **Summary Statistics**\n",
        "\n",
        "We compute summary statistics for both numerical and categorical variables:"
      ],
      "metadata": {
        "id": "5IJbKxddSUtB"
      }
    },
    {
      "cell_type": "code",
      "source": [
        "print(data.describe(include='all'))"
      ],
      "metadata": {
        "id": "i6aHov8vSaUR",
        "colab": {
          "base_uri": "https://localhost:8080/"
        },
        "outputId": "83794171-e6d5-48dc-92a1-781fa549d9c7"
      },
      "execution_count": 5,
      "outputs": [
        {
          "output_type": "stream",
          "name": "stdout",
          "text": [
            "       Gender         Age      Study_Level  Study_Year Is_UIR_Student  \\\n",
            "count     367  367.000000              367         367            367   \n",
            "unique      2         NaN                4           6              2   \n",
            "top     Homme         NaN  Cycle ingénieur  4ème année            Oui   \n",
            "freq      192         NaN              114          82            231   \n",
            "mean      NaN   22.768392              NaN         NaN            NaN   \n",
            "std       NaN    3.062783              NaN         NaN            NaN   \n",
            "min       NaN   18.000000              NaN         NaN            NaN   \n",
            "25%       NaN   20.000000              NaN         NaN            NaN   \n",
            "50%       NaN   22.000000              NaN         NaN            NaN   \n",
            "75%       NaN   25.000000              NaN         NaN            NaN   \n",
            "max       NaN   29.000000              NaN         NaN            NaN   \n",
            "\n",
            "                                       Stress_Sources  \\\n",
            "count                                             367   \n",
            "unique                                             14   \n",
            "top     Charge de travail académique;Pression sociale   \n",
            "freq                                               65   \n",
            "mean                                              NaN   \n",
            "std                                               NaN   \n",
            "min                                               NaN   \n",
            "25%                                               NaN   \n",
            "50%                                               NaN   \n",
            "75%                                               NaN   \n",
            "max                                               NaN   \n",
            "\n",
            "                                        Stress_Management  Stress_Frequency  \\\n",
            "count                                                 367        367.000000   \n",
            "unique                                                 13               NaN   \n",
            "top     Temps avec des amis/famille;Divertissements pe...               NaN   \n",
            "freq                                                   73               NaN   \n",
            "mean                                                  NaN          5.201635   \n",
            "std                                                   NaN          2.562380   \n",
            "min                                                   NaN          1.000000   \n",
            "25%                                                   NaN          3.000000   \n",
            "50%                                                   NaN          5.000000   \n",
            "75%                                                   NaN          7.000000   \n",
            "max                                                   NaN         10.000000   \n",
            "\n",
            "       Academic_Social_Balance  Stress_Evaluation  Sleep_Hours  Device_Time  \\\n",
            "count                      367         367.000000   367.000000   367.000000   \n",
            "unique                       5                NaN          NaN          NaN   \n",
            "top                  Équilibré                NaN          NaN          NaN   \n",
            "freq                        86                NaN          NaN          NaN   \n",
            "mean                       NaN           3.471390     6.114441     6.479564   \n",
            "std                        NaN           1.179805     1.380181     2.351373   \n",
            "min                        NaN           1.000000     3.000000     1.000000   \n",
            "25%                        NaN           3.000000     5.000000     5.000000   \n",
            "50%                        NaN           4.000000     6.000000     6.000000   \n",
            "75%                        NaN           4.000000     7.000000     8.500000   \n",
            "max                        NaN           5.000000     9.000000    10.000000   \n",
            "\n",
            "       Activity_Frequency  \n",
            "count                 367  \n",
            "unique                  4  \n",
            "top              rarement  \n",
            "freq                  159  \n",
            "mean                  NaN  \n",
            "std                   NaN  \n",
            "min                   NaN  \n",
            "25%                   NaN  \n",
            "50%                   NaN  \n",
            "75%                   NaN  \n",
            "max                   NaN  \n"
          ]
        }
      ]
    },
    {
      "cell_type": "markdown",
      "source": [
        "## **Key Observations:**\n",
        "\n",
        "**- Age:** The average age is approximately 22 years, with ages ranging from 18 to 29.\n",
        "\n",
        "**- Stress_Frequency:** The mean stress frequency is around 5.2 on a scale of 1 to 10.\n",
        "\n",
        "**- Stress_Evaluation:** The average self-reported stress level is approximately 3,47.\n",
        "\n",
        "**- Sleep_Hours:** Students sleep an average aroud 6 hours per night.\n",
        "\n",
        "**- Device_Time:** Average daily device usage is about 6.5 hours"
      ],
      "metadata": {
        "id": "nRRc-FdlSfSw"
      }
    },
    {
      "cell_type": "markdown",
      "source": [
        "## **Gender Distribution**\n",
        "\n",
        "We explore the gender distribution:"
      ],
      "metadata": {
        "id": "D4bMtbQaSs0Y"
      }
    },
    {
      "cell_type": "code",
      "source": [
        "print(data['Gender'].value_counts())"
      ],
      "metadata": {
        "id": "7ocxAe39Su2A",
        "colab": {
          "base_uri": "https://localhost:8080/"
        },
        "outputId": "53a272af-984a-46f3-cf8f-37826c2b29db"
      },
      "execution_count": 6,
      "outputs": [
        {
          "output_type": "stream",
          "name": "stdout",
          "text": [
            "Gender\n",
            "Homme    192\n",
            "Femme    175\n",
            "Name: count, dtype: int64\n"
          ]
        }
      ]
    },
    {
      "cell_type": "markdown",
      "source": [
        "**Observation:** The dataset has a relatively balanced gender distribution."
      ],
      "metadata": {
        "id": "DVi1XmD0Swh6"
      }
    },
    {
      "cell_type": "markdown",
      "source": [
        "## **UIR Student Status**\n",
        "\n",
        "We examine the distribution of UIR students:"
      ],
      "metadata": {
        "id": "D23rTENESzHj"
      }
    },
    {
      "cell_type": "code",
      "source": [
        "print(data['Is_UIR_Student'].value_counts())"
      ],
      "metadata": {
        "id": "1FafEzJmS2Hh",
        "colab": {
          "base_uri": "https://localhost:8080/"
        },
        "outputId": "619b9ece-bdcd-4b3d-b0e1-b34dd499a32b"
      },
      "execution_count": null,
      "outputs": [
        {
          "output_type": "stream",
          "name": "stdout",
          "text": [
            "Is_UIR_Student\n",
            "Oui    231\n",
            "Non    136\n",
            "Name: count, dtype: int64\n"
          ]
        }
      ]
    },
    {
      "cell_type": "markdown",
      "source": [
        "**Observation:** A majority of the respondents are UIR students."
      ],
      "metadata": {
        "id": "X5Ppvjb-S3wB"
      }
    },
    {
      "cell_type": "code",
      "source": [
        "data.head()"
      ],
      "metadata": {
        "colab": {
          "base_uri": "https://localhost:8080/",
          "height": 399
        },
        "id": "kF7YHBGlEvs0",
        "outputId": "64a075fc-4810-44bc-bcdd-4160243ed5d9"
      },
      "execution_count": null,
      "outputs": [
        {
          "output_type": "execute_result",
          "data": {
            "text/plain": [
              "  Gender  Age      Study_Level  Study_Year Is_UIR_Student  \\\n",
              "0  Femme   21  Cycle ingénieur  4ème année            Oui   \n",
              "1  Femme   22           Master  4ème année            Oui   \n",
              "2  Homme   24          Licence  3ème année            Oui   \n",
              "3  Femme   20  Cycle ingénieur  3ème année            Oui   \n",
              "4  Femme   21  Cycle ingénieur  4ème année            Oui   \n",
              "\n",
              "                                   Stress_Sources  \\\n",
              "0  Charge de travail académique;Pression sociale;   \n",
              "1           Pression sociale;Problèmes financiers   \n",
              "2           Problèmes financiers;Pression sociale   \n",
              "3           Pression sociale;Problèmes financiers   \n",
              "4   Charge de travail académique;Pression sociale   \n",
              "\n",
              "                                   Stress_Management  Stress_Frequency  \\\n",
              "0  Temps avec des amis/famille;Méditation/Relaxat...                 5   \n",
              "1  Exercice physique;Divertissements personnels (...                 4   \n",
              "2            Méditation/Relaxation;Exercice physique                 7   \n",
              "3      Exercice physique;Temps avec des amis/famille                 4   \n",
              "4  Divertissements personnels (lecture, films, sé...                 9   \n",
              "\n",
              "                             Academic_Social_Balance  Stress_Evaluation  \\\n",
              "0           Déséquilibré en faveur de la vie sociale                  4   \n",
              "1           Déséquilibré en faveur de la vie sociale                  5   \n",
              "2  Déséquilibré en faveur des activités personnel...                  4   \n",
              "3                                          Équilibré                  1   \n",
              "4                                          Équilibré                  2   \n",
              "\n",
              "   Sleep_Hours  Device_Time Activity_Frequency  \n",
              "0            6           10           rarement  \n",
              "1            7            9             jamais  \n",
              "2            6            6           rarement  \n",
              "3            8            4        fréquemment  \n",
              "4            8            6  occasionnellement  "
            ],
            "text/html": [
              "\n",
              "  <div id=\"df-3da9846e-2081-4044-9db9-5ed5859cbd9d\" class=\"colab-df-container\">\n",
              "    <div>\n",
              "<style scoped>\n",
              "    .dataframe tbody tr th:only-of-type {\n",
              "        vertical-align: middle;\n",
              "    }\n",
              "\n",
              "    .dataframe tbody tr th {\n",
              "        vertical-align: top;\n",
              "    }\n",
              "\n",
              "    .dataframe thead th {\n",
              "        text-align: right;\n",
              "    }\n",
              "</style>\n",
              "<table border=\"1\" class=\"dataframe\">\n",
              "  <thead>\n",
              "    <tr style=\"text-align: right;\">\n",
              "      <th></th>\n",
              "      <th>Gender</th>\n",
              "      <th>Age</th>\n",
              "      <th>Study_Level</th>\n",
              "      <th>Study_Year</th>\n",
              "      <th>Is_UIR_Student</th>\n",
              "      <th>Stress_Sources</th>\n",
              "      <th>Stress_Management</th>\n",
              "      <th>Stress_Frequency</th>\n",
              "      <th>Academic_Social_Balance</th>\n",
              "      <th>Stress_Evaluation</th>\n",
              "      <th>Sleep_Hours</th>\n",
              "      <th>Device_Time</th>\n",
              "      <th>Activity_Frequency</th>\n",
              "    </tr>\n",
              "  </thead>\n",
              "  <tbody>\n",
              "    <tr>\n",
              "      <th>0</th>\n",
              "      <td>Femme</td>\n",
              "      <td>21</td>\n",
              "      <td>Cycle ingénieur</td>\n",
              "      <td>4ème année</td>\n",
              "      <td>Oui</td>\n",
              "      <td>Charge de travail académique;Pression sociale;</td>\n",
              "      <td>Temps avec des amis/famille;Méditation/Relaxat...</td>\n",
              "      <td>5</td>\n",
              "      <td>Déséquilibré en faveur de la vie sociale</td>\n",
              "      <td>4</td>\n",
              "      <td>6</td>\n",
              "      <td>10</td>\n",
              "      <td>rarement</td>\n",
              "    </tr>\n",
              "    <tr>\n",
              "      <th>1</th>\n",
              "      <td>Femme</td>\n",
              "      <td>22</td>\n",
              "      <td>Master</td>\n",
              "      <td>4ème année</td>\n",
              "      <td>Oui</td>\n",
              "      <td>Pression sociale;Problèmes financiers</td>\n",
              "      <td>Exercice physique;Divertissements personnels (...</td>\n",
              "      <td>4</td>\n",
              "      <td>Déséquilibré en faveur de la vie sociale</td>\n",
              "      <td>5</td>\n",
              "      <td>7</td>\n",
              "      <td>9</td>\n",
              "      <td>jamais</td>\n",
              "    </tr>\n",
              "    <tr>\n",
              "      <th>2</th>\n",
              "      <td>Homme</td>\n",
              "      <td>24</td>\n",
              "      <td>Licence</td>\n",
              "      <td>3ème année</td>\n",
              "      <td>Oui</td>\n",
              "      <td>Problèmes financiers;Pression sociale</td>\n",
              "      <td>Méditation/Relaxation;Exercice physique</td>\n",
              "      <td>7</td>\n",
              "      <td>Déséquilibré en faveur des activités personnel...</td>\n",
              "      <td>4</td>\n",
              "      <td>6</td>\n",
              "      <td>6</td>\n",
              "      <td>rarement</td>\n",
              "    </tr>\n",
              "    <tr>\n",
              "      <th>3</th>\n",
              "      <td>Femme</td>\n",
              "      <td>20</td>\n",
              "      <td>Cycle ingénieur</td>\n",
              "      <td>3ème année</td>\n",
              "      <td>Oui</td>\n",
              "      <td>Pression sociale;Problèmes financiers</td>\n",
              "      <td>Exercice physique;Temps avec des amis/famille</td>\n",
              "      <td>4</td>\n",
              "      <td>Équilibré</td>\n",
              "      <td>1</td>\n",
              "      <td>8</td>\n",
              "      <td>4</td>\n",
              "      <td>fréquemment</td>\n",
              "    </tr>\n",
              "    <tr>\n",
              "      <th>4</th>\n",
              "      <td>Femme</td>\n",
              "      <td>21</td>\n",
              "      <td>Cycle ingénieur</td>\n",
              "      <td>4ème année</td>\n",
              "      <td>Oui</td>\n",
              "      <td>Charge de travail académique;Pression sociale</td>\n",
              "      <td>Divertissements personnels (lecture, films, sé...</td>\n",
              "      <td>9</td>\n",
              "      <td>Équilibré</td>\n",
              "      <td>2</td>\n",
              "      <td>8</td>\n",
              "      <td>6</td>\n",
              "      <td>occasionnellement</td>\n",
              "    </tr>\n",
              "  </tbody>\n",
              "</table>\n",
              "</div>\n",
              "    <div class=\"colab-df-buttons\">\n",
              "\n",
              "  <div class=\"colab-df-container\">\n",
              "    <button class=\"colab-df-convert\" onclick=\"convertToInteractive('df-3da9846e-2081-4044-9db9-5ed5859cbd9d')\"\n",
              "            title=\"Convert this dataframe to an interactive table.\"\n",
              "            style=\"display:none;\">\n",
              "\n",
              "  <svg xmlns=\"http://www.w3.org/2000/svg\" height=\"24px\" viewBox=\"0 -960 960 960\">\n",
              "    <path d=\"M120-120v-720h720v720H120Zm60-500h600v-160H180v160Zm220 220h160v-160H400v160Zm0 220h160v-160H400v160ZM180-400h160v-160H180v160Zm440 0h160v-160H620v160ZM180-180h160v-160H180v160Zm440 0h160v-160H620v160Z\"/>\n",
              "  </svg>\n",
              "    </button>\n",
              "\n",
              "  <style>\n",
              "    .colab-df-container {\n",
              "      display:flex;\n",
              "      gap: 12px;\n",
              "    }\n",
              "\n",
              "    .colab-df-convert {\n",
              "      background-color: #E8F0FE;\n",
              "      border: none;\n",
              "      border-radius: 50%;\n",
              "      cursor: pointer;\n",
              "      display: none;\n",
              "      fill: #1967D2;\n",
              "      height: 32px;\n",
              "      padding: 0 0 0 0;\n",
              "      width: 32px;\n",
              "    }\n",
              "\n",
              "    .colab-df-convert:hover {\n",
              "      background-color: #E2EBFA;\n",
              "      box-shadow: 0px 1px 2px rgba(60, 64, 67, 0.3), 0px 1px 3px 1px rgba(60, 64, 67, 0.15);\n",
              "      fill: #174EA6;\n",
              "    }\n",
              "\n",
              "    .colab-df-buttons div {\n",
              "      margin-bottom: 4px;\n",
              "    }\n",
              "\n",
              "    [theme=dark] .colab-df-convert {\n",
              "      background-color: #3B4455;\n",
              "      fill: #D2E3FC;\n",
              "    }\n",
              "\n",
              "    [theme=dark] .colab-df-convert:hover {\n",
              "      background-color: #434B5C;\n",
              "      box-shadow: 0px 1px 3px 1px rgba(0, 0, 0, 0.15);\n",
              "      filter: drop-shadow(0px 1px 2px rgba(0, 0, 0, 0.3));\n",
              "      fill: #FFFFFF;\n",
              "    }\n",
              "  </style>\n",
              "\n",
              "    <script>\n",
              "      const buttonEl =\n",
              "        document.querySelector('#df-3da9846e-2081-4044-9db9-5ed5859cbd9d button.colab-df-convert');\n",
              "      buttonEl.style.display =\n",
              "        google.colab.kernel.accessAllowed ? 'block' : 'none';\n",
              "\n",
              "      async function convertToInteractive(key) {\n",
              "        const element = document.querySelector('#df-3da9846e-2081-4044-9db9-5ed5859cbd9d');\n",
              "        const dataTable =\n",
              "          await google.colab.kernel.invokeFunction('convertToInteractive',\n",
              "                                                    [key], {});\n",
              "        if (!dataTable) return;\n",
              "\n",
              "        const docLinkHtml = 'Like what you see? Visit the ' +\n",
              "          '<a target=\"_blank\" href=https://colab.research.google.com/notebooks/data_table.ipynb>data table notebook</a>'\n",
              "          + ' to learn more about interactive tables.';\n",
              "        element.innerHTML = '';\n",
              "        dataTable['output_type'] = 'display_data';\n",
              "        await google.colab.output.renderOutput(dataTable, element);\n",
              "        const docLink = document.createElement('div');\n",
              "        docLink.innerHTML = docLinkHtml;\n",
              "        element.appendChild(docLink);\n",
              "      }\n",
              "    </script>\n",
              "  </div>\n",
              "\n",
              "\n",
              "<div id=\"df-f0f1c85b-06c8-4494-9eda-4200ceda8058\">\n",
              "  <button class=\"colab-df-quickchart\" onclick=\"quickchart('df-f0f1c85b-06c8-4494-9eda-4200ceda8058')\"\n",
              "            title=\"Suggest charts\"\n",
              "            style=\"display:none;\">\n",
              "\n",
              "<svg xmlns=\"http://www.w3.org/2000/svg\" height=\"24px\"viewBox=\"0 0 24 24\"\n",
              "     width=\"24px\">\n",
              "    <g>\n",
              "        <path d=\"M19 3H5c-1.1 0-2 .9-2 2v14c0 1.1.9 2 2 2h14c1.1 0 2-.9 2-2V5c0-1.1-.9-2-2-2zM9 17H7v-7h2v7zm4 0h-2V7h2v10zm4 0h-2v-4h2v4z\"/>\n",
              "    </g>\n",
              "</svg>\n",
              "  </button>\n",
              "\n",
              "<style>\n",
              "  .colab-df-quickchart {\n",
              "      --bg-color: #E8F0FE;\n",
              "      --fill-color: #1967D2;\n",
              "      --hover-bg-color: #E2EBFA;\n",
              "      --hover-fill-color: #174EA6;\n",
              "      --disabled-fill-color: #AAA;\n",
              "      --disabled-bg-color: #DDD;\n",
              "  }\n",
              "\n",
              "  [theme=dark] .colab-df-quickchart {\n",
              "      --bg-color: #3B4455;\n",
              "      --fill-color: #D2E3FC;\n",
              "      --hover-bg-color: #434B5C;\n",
              "      --hover-fill-color: #FFFFFF;\n",
              "      --disabled-bg-color: #3B4455;\n",
              "      --disabled-fill-color: #666;\n",
              "  }\n",
              "\n",
              "  .colab-df-quickchart {\n",
              "    background-color: var(--bg-color);\n",
              "    border: none;\n",
              "    border-radius: 50%;\n",
              "    cursor: pointer;\n",
              "    display: none;\n",
              "    fill: var(--fill-color);\n",
              "    height: 32px;\n",
              "    padding: 0;\n",
              "    width: 32px;\n",
              "  }\n",
              "\n",
              "  .colab-df-quickchart:hover {\n",
              "    background-color: var(--hover-bg-color);\n",
              "    box-shadow: 0 1px 2px rgba(60, 64, 67, 0.3), 0 1px 3px 1px rgba(60, 64, 67, 0.15);\n",
              "    fill: var(--button-hover-fill-color);\n",
              "  }\n",
              "\n",
              "  .colab-df-quickchart-complete:disabled,\n",
              "  .colab-df-quickchart-complete:disabled:hover {\n",
              "    background-color: var(--disabled-bg-color);\n",
              "    fill: var(--disabled-fill-color);\n",
              "    box-shadow: none;\n",
              "  }\n",
              "\n",
              "  .colab-df-spinner {\n",
              "    border: 2px solid var(--fill-color);\n",
              "    border-color: transparent;\n",
              "    border-bottom-color: var(--fill-color);\n",
              "    animation:\n",
              "      spin 1s steps(1) infinite;\n",
              "  }\n",
              "\n",
              "  @keyframes spin {\n",
              "    0% {\n",
              "      border-color: transparent;\n",
              "      border-bottom-color: var(--fill-color);\n",
              "      border-left-color: var(--fill-color);\n",
              "    }\n",
              "    20% {\n",
              "      border-color: transparent;\n",
              "      border-left-color: var(--fill-color);\n",
              "      border-top-color: var(--fill-color);\n",
              "    }\n",
              "    30% {\n",
              "      border-color: transparent;\n",
              "      border-left-color: var(--fill-color);\n",
              "      border-top-color: var(--fill-color);\n",
              "      border-right-color: var(--fill-color);\n",
              "    }\n",
              "    40% {\n",
              "      border-color: transparent;\n",
              "      border-right-color: var(--fill-color);\n",
              "      border-top-color: var(--fill-color);\n",
              "    }\n",
              "    60% {\n",
              "      border-color: transparent;\n",
              "      border-right-color: var(--fill-color);\n",
              "    }\n",
              "    80% {\n",
              "      border-color: transparent;\n",
              "      border-right-color: var(--fill-color);\n",
              "      border-bottom-color: var(--fill-color);\n",
              "    }\n",
              "    90% {\n",
              "      border-color: transparent;\n",
              "      border-bottom-color: var(--fill-color);\n",
              "    }\n",
              "  }\n",
              "</style>\n",
              "\n",
              "  <script>\n",
              "    async function quickchart(key) {\n",
              "      const quickchartButtonEl =\n",
              "        document.querySelector('#' + key + ' button');\n",
              "      quickchartButtonEl.disabled = true;  // To prevent multiple clicks.\n",
              "      quickchartButtonEl.classList.add('colab-df-spinner');\n",
              "      try {\n",
              "        const charts = await google.colab.kernel.invokeFunction(\n",
              "            'suggestCharts', [key], {});\n",
              "      } catch (error) {\n",
              "        console.error('Error during call to suggestCharts:', error);\n",
              "      }\n",
              "      quickchartButtonEl.classList.remove('colab-df-spinner');\n",
              "      quickchartButtonEl.classList.add('colab-df-quickchart-complete');\n",
              "    }\n",
              "    (() => {\n",
              "      let quickchartButtonEl =\n",
              "        document.querySelector('#df-f0f1c85b-06c8-4494-9eda-4200ceda8058 button');\n",
              "      quickchartButtonEl.style.display =\n",
              "        google.colab.kernel.accessAllowed ? 'block' : 'none';\n",
              "    })();\n",
              "  </script>\n",
              "</div>\n",
              "\n",
              "    </div>\n",
              "  </div>\n"
            ],
            "application/vnd.google.colaboratory.intrinsic+json": {
              "type": "dataframe",
              "variable_name": "data",
              "summary": "{\n  \"name\": \"data\",\n  \"rows\": 367,\n  \"fields\": [\n    {\n      \"column\": \"Gender\",\n      \"properties\": {\n        \"dtype\": \"category\",\n        \"num_unique_values\": 2,\n        \"samples\": [\n          \"Homme\",\n          \"Femme\"\n        ],\n        \"semantic_type\": \"\",\n        \"description\": \"\"\n      }\n    },\n    {\n      \"column\": \"Age\",\n      \"properties\": {\n        \"dtype\": \"number\",\n        \"std\": 3,\n        \"min\": 18,\n        \"max\": 29,\n        \"num_unique_values\": 12,\n        \"samples\": [\n          27,\n          28\n        ],\n        \"semantic_type\": \"\",\n        \"description\": \"\"\n      }\n    },\n    {\n      \"column\": \"Study_Level\",\n      \"properties\": {\n        \"dtype\": \"category\",\n        \"num_unique_values\": 4,\n        \"samples\": [\n          \"Master\",\n          \"Doctorat\"\n        ],\n        \"semantic_type\": \"\",\n        \"description\": \"\"\n      }\n    },\n    {\n      \"column\": \"Study_Year\",\n      \"properties\": {\n        \"dtype\": \"category\",\n        \"num_unique_values\": 6,\n        \"samples\": [\n          \"4\\u00e8me ann\\u00e9e\",\n          \"3\\u00e8me ann\\u00e9e\"\n        ],\n        \"semantic_type\": \"\",\n        \"description\": \"\"\n      }\n    },\n    {\n      \"column\": \"Is_UIR_Student\",\n      \"properties\": {\n        \"dtype\": \"category\",\n        \"num_unique_values\": 2,\n        \"samples\": [\n          \"Non\",\n          \"Oui\"\n        ],\n        \"semantic_type\": \"\",\n        \"description\": \"\"\n      }\n    },\n    {\n      \"column\": \"Stress_Sources\",\n      \"properties\": {\n        \"dtype\": \"category\",\n        \"num_unique_values\": 14,\n        \"samples\": [\n          \"Pression sociale;Probl\\u00e8mes de sant\\u00e9 (mentale ou physique)\",\n          \"Probl\\u00e8mes financiers;Probl\\u00e8mes de sant\\u00e9 (mentale ou physique)\"\n        ],\n        \"semantic_type\": \"\",\n        \"description\": \"\"\n      }\n    },\n    {\n      \"column\": \"Stress_Management\",\n      \"properties\": {\n        \"dtype\": \"category\",\n        \"num_unique_values\": 13,\n        \"samples\": [\n          \"Temps avec des amis/famille;M\\u00e9ditation/Relaxation\",\n          \"M\\u00e9ditation/Relaxation;Divertissements personnels (lecture, films, s\\u00e9ries)\"\n        ],\n        \"semantic_type\": \"\",\n        \"description\": \"\"\n      }\n    },\n    {\n      \"column\": \"Stress_Frequency\",\n      \"properties\": {\n        \"dtype\": \"number\",\n        \"std\": 2,\n        \"min\": 1,\n        \"max\": 10,\n        \"num_unique_values\": 10,\n        \"samples\": [\n          3,\n          4\n        ],\n        \"semantic_type\": \"\",\n        \"description\": \"\"\n      }\n    },\n    {\n      \"column\": \"Academic_Social_Balance\",\n      \"properties\": {\n        \"dtype\": \"category\",\n        \"num_unique_values\": 5,\n        \"samples\": [\n          \"D\\u00e9s\\u00e9quilibr\\u00e9 en faveur des activit\\u00e9s personnelles de bien-\\u00eatre\",\n          \"D\\u00e9s\\u00e9quilibr\\u00e9 en faveur des activit\\u00e9s personnelles\"\n        ],\n        \"semantic_type\": \"\",\n        \"description\": \"\"\n      }\n    },\n    {\n      \"column\": \"Stress_Evaluation\",\n      \"properties\": {\n        \"dtype\": \"number\",\n        \"std\": 1,\n        \"min\": 1,\n        \"max\": 5,\n        \"num_unique_values\": 5,\n        \"samples\": [\n          5,\n          3\n        ],\n        \"semantic_type\": \"\",\n        \"description\": \"\"\n      }\n    },\n    {\n      \"column\": \"Sleep_Hours\",\n      \"properties\": {\n        \"dtype\": \"number\",\n        \"std\": 1,\n        \"min\": 3,\n        \"max\": 9,\n        \"num_unique_values\": 7,\n        \"samples\": [\n          6,\n          7\n        ],\n        \"semantic_type\": \"\",\n        \"description\": \"\"\n      }\n    },\n    {\n      \"column\": \"Device_Time\",\n      \"properties\": {\n        \"dtype\": \"number\",\n        \"std\": 2,\n        \"min\": 1,\n        \"max\": 10,\n        \"num_unique_values\": 10,\n        \"samples\": [\n          2,\n          9\n        ],\n        \"semantic_type\": \"\",\n        \"description\": \"\"\n      }\n    },\n    {\n      \"column\": \"Activity_Frequency\",\n      \"properties\": {\n        \"dtype\": \"category\",\n        \"num_unique_values\": 4,\n        \"samples\": [\n          \"jamais\",\n          \"occasionnellement\"\n        ],\n        \"semantic_type\": \"\",\n        \"description\": \"\"\n      }\n    }\n  ]\n}"
            }
          },
          "metadata": {},
          "execution_count": 47
        }
      ]
    },
    {
      "cell_type": "markdown",
      "source": [
        "## **Plot Graphs**\n",
        "### **Histogram: Stress Frequency Distribution**"
      ],
      "metadata": {
        "id": "lgBFyGscNAzU"
      }
    },
    {
      "cell_type": "markdown",
      "source": [
        "We analyze the distribution of stress frequency among students.\n"
      ],
      "metadata": {
        "id": "mirn9yzbMtk1"
      }
    },
    {
      "cell_type": "code",
      "source": [
        "import matplotlib.pyplot as plt\n",
        "import seaborn as sns\n",
        "\n",
        "# Histogram of stress frequency\n",
        "plt.figure(figsize=(8, 5))\n",
        "sns.histplot(data['Stress_Frequency'], kde=True, bins=10, color='darkblue')\n",
        "plt.title('Distribution of Stress Frequency')\n",
        "plt.xlabel('Stress Frequency')\n",
        "plt.ylabel('Frequency')\n",
        "plt.show()"
      ],
      "metadata": {
        "colab": {
          "base_uri": "https://localhost:8080/",
          "height": 487
        },
        "id": "CvLe8zr8FBD_",
        "outputId": "30dc7c11-9217-4f19-ab71-6fe6e2d7f639"
      },
      "execution_count": null,
      "outputs": [
        {
          "output_type": "display_data",
          "data": {
            "text/plain": [
              "<Figure size 800x500 with 1 Axes>"
            ],
            "image/png": "[encoded data removed]"
          },
          "metadata": {}
        }
      ]
    },
    {
      "cell_type": "markdown",
      "source": [
        "**Interpretation:**\n",
        "\n",
        "- The distribution of stress frequency among students is relatively symmetric and approximately bell-shaped, indicating a near-normal distribution.\n",
        "\n",
        "- Most students experience moderate stress levels, as indicated by the peak near the middle of the range.\n",
        "\n",
        "- A notable portion of students report both low (scores below 3) and high stress frequencies (scores above 8), though these are less common than moderate levels.\n",
        "\n",
        "- The fitted curve emphasizes the central tendency of the data while showcasing variability in stress experiences across the student population."
      ],
      "metadata": {
        "id": "wPCX4LOyMyat"
      }
    },
    {
      "cell_type": "markdown",
      "source": [
        "### **Boxplot: Stress Frequency by Gender**"
      ],
      "metadata": {
        "id": "hKP0mtcQREuk"
      }
    },
    {
      "cell_type": "markdown",
      "source": [
        "We examine how stress frequency varies between genders."
      ],
      "metadata": {
        "id": "VyV3JkRVM8gW"
      }
    },
    {
      "cell_type": "code",
      "source": [
        "plt.figure(figsize=(8, 5))\n",
        "\n",
        "custom_palette = {'Femme': 'pink', 'Homme': 'blue'}\n",
        "\n",
        "sns.boxplot(x='Gender', y='Stress_Frequency', data=data, palette=custom_palette)\n",
        "\n",
        "plt.title('Stress Frequency by Gender')\n",
        "plt.xlabel('Gender')\n",
        "plt.ylabel('Stress Frequency')\n",
        "plt.show()"
      ],
      "metadata": {
        "colab": {
          "base_uri": "https://localhost:8080/",
          "height": 574
        },
        "id": "acBG-fRkFR1-",
        "outputId": "7e366ac4-a4c2-4c61-950a-12cbe9834601"
      },
      "execution_count": null,
      "outputs": [
        {
          "output_type": "stream",
          "name": "stderr",
          "text": [
            "<ipython-input-72-b66a3d44326b>:5: FutureWarning: \n",
            "\n",
            "Passing `palette` without assigning `hue` is deprecated and will be removed in v0.14.0. Assign the `x` variable to `hue` and set `legend=False` for the same effect.\n",
            "\n",
            "  sns.boxplot(x='Gender', y='Stress_Frequency', data=data, palette=custom_palette)\n"
          ]
        },
        {
          "output_type": "display_data",
          "data": {
            "text/plain": [
              "<Figure size 800x500 with 1 Axes>"
            ],
            "image/png": "[encoded data removed]"
          },
          "metadata": {}
        }
      ]
    },
    {
      "cell_type": "markdown",
      "source": [
        "**Interpretation:**\n",
        "\n",
        "- Femmes: Tend to report slightly higher stress frequencies (median around 6) with a narrower interquartile range, indicating more consistent stress levels.\n",
        "\n",
        "- Hommes: Show lower median stress frequency (around 4) but greater variability in stress levels.\n",
        "\n",
        "- Both genders have similar overall ranges, but femmes show a concentration of higher stress levels compared to hommes."
      ],
      "metadata": {
        "id": "lOvI9nbkNA59"
      }
    },
    {
      "cell_type": "markdown",
      "source": [
        "### **Boxplot: Sleep Hours by Gender**"
      ],
      "metadata": {
        "id": "ZiR4wcAERKbu"
      }
    },
    {
      "cell_type": "markdown",
      "source": [
        "We explore differences in sleep patterns between genders."
      ],
      "metadata": {
        "id": "6L37OMMVNJ6G"
      }
    },
    {
      "cell_type": "code",
      "source": [
        "plt.figure(figsize=(8, 5))\n",
        "\n",
        "custom_palette = {'Femme': 'violet', 'Homme': 'lightblue'}\n",
        "\n",
        "sns.boxplot(x='Gender', y='Sleep_Hours', data=data, palette=custom_palette)\n",
        "\n",
        "plt.title('Sleep Hours by Gender')\n",
        "plt.xlabel('Gender')\n",
        "plt.ylabel('Sleep Hours')\n",
        "plt.show()"
      ],
      "metadata": {
        "colab": {
          "base_uri": "https://localhost:8080/",
          "height": 574
        },
        "id": "oovutrpaFfBv",
        "outputId": "50fd32ce-dfb9-457e-d495-2cfce3afeebf"
      },
      "execution_count": null,
      "outputs": [
        {
          "output_type": "stream",
          "name": "stderr",
          "text": [
            "<ipython-input-73-e0728ebe0e23>:5: FutureWarning: \n",
            "\n",
            "Passing `palette` without assigning `hue` is deprecated and will be removed in v0.14.0. Assign the `x` variable to `hue` and set `legend=False` for the same effect.\n",
            "\n",
            "  sns.boxplot(x='Gender', y='Sleep_Hours', data=data, palette=custom_palette)\n"
          ]
        },
        {
          "output_type": "display_data",
          "data": {
            "text/plain": [
              "<Figure size 800x500 with 1 Axes>"
            ],
            "image/png": "[encoded data removed]"
          },
          "metadata": {}
        }
      ]
    },
    {
      "cell_type": "markdown",
      "source": [
        "**Interpretation:**\n",
        "\n",
        "- Both genders have similar median sleep hours.\n",
        "\n",
        "- Males show slightly higher variability in sleep hours.\n",
        "\n",
        "- Some students report sleeping less than 5 hours per night, which may impact stress levels."
      ],
      "metadata": {
        "id": "BOPovshyNO_f"
      }
    },
    {
      "cell_type": "markdown",
      "source": [
        "### **Bar plot : Distribution of Stress Levels by UIR Student Status**"
      ],
      "metadata": {
        "id": "1JUSzhhBRYeL"
      }
    },
    {
      "cell_type": "markdown",
      "source": [
        "We categorize stress evaluation into Low, Medium, and High levels and compare them between UIR and non-UIR students."
      ],
      "metadata": {
        "id": "6YFuPCBENTut"
      }
    },
    {
      "cell_type": "code",
      "source": [
        "import matplotlib.pyplot as plt\n",
        "import seaborn as sns\n",
        "import pandas as pd\n",
        "\n",
        "# Create bins for Stress Evaluation (group into levels)\n",
        "data['Stress_Level'] = pd.cut(\n",
        "    data['Stress_Evaluation'],\n",
        "    bins=[0, 2, 4, 5],\n",
        "    labels=['Low', 'Medium', 'High']\n",
        ")\n",
        "\n",
        "# Count distribution of Stress Levels by UIR status\n",
        "stress_distribution = data.groupby(['Is_UIR_Student', 'Stress_Level']).size().reset_index(name='Count')\n",
        "\n",
        "# Ensure all levels are present, even if some have zero counts\n",
        "stress_distribution['Stress_Level'] = pd.Categorical(\n",
        "    stress_distribution['Stress_Level'],\n",
        "    categories=['Low', 'Medium', 'High'],\n",
        "    ordered=True\n",
        ")\n",
        "\n",
        "# Grouped bar plot\n",
        "plt.figure(figsize=(10, 6))\n",
        "sns.barplot(\n",
        "    x='Stress_Level',\n",
        "    y='Count',\n",
        "    hue='Is_UIR_Student',\n",
        "    data=stress_distribution,\n",
        "    palette='coolwarm'\n",
        ")\n",
        "\n",
        "plt.title('Distribution of Stress Levels by UIR Student Status')\n",
        "plt.xlabel('Stress Level')\n",
        "plt.ylabel('Count')\n",
        "plt.legend(title='Is UIR Student')\n",
        "plt.show()\n"
      ],
      "metadata": {
        "colab": {
          "base_uri": "https://localhost:8080/",
          "height": 619
        },
        "id": "9cnqoQNTIWgM",
        "outputId": "fce21f0a-a80d-425a-9ce3-81ce4ca88490"
      },
      "execution_count": null,
      "outputs": [
        {
          "output_type": "stream",
          "name": "stderr",
          "text": [
            "<ipython-input-75-a50b44169f60>:13: FutureWarning: The default of observed=False is deprecated and will be changed to True in a future version of pandas. Pass observed=False to retain current behavior or observed=True to adopt the future default and silence this warning.\n",
            "  stress_distribution = data.groupby(['Is_UIR_Student', 'Stress_Level']).size().reset_index(name='Count')\n"
          ]
        },
        {
          "output_type": "display_data",
          "data": {
            "text/plain": [
              "<Figure size 1000x600 with 1 Axes>"
            ],
            "image/png": "[encoded data removed]"
          },
          "metadata": {}
        }
      ]
    },
    {
      "cell_type": "markdown",
      "source": [
        "**Interpretation:**\n",
        "\n",
        "- Both UIR and non-UIR students predominantly fall into the 'Medium' stress level category, with UIR students having a significantly higher count.\n",
        "\n",
        "- UIR students also show a higher count in the 'Low' stress level category compared to non-UIR students.\n",
        "\n",
        "- In the 'High' stress level category, both UIR and non-UIR students have similar counts, indicating no significant difference in high stress levels between the two groups."
      ],
      "metadata": {
        "id": "hx2rmrdxNZQt"
      }
    },
    {
      "cell_type": "markdown",
      "source": [
        "### **Bar plot : Stress Evaluation Distribution by Study Level**"
      ],
      "metadata": {
        "id": "4Rmg5VnDRkAH"
      }
    },
    {
      "cell_type": "markdown",
      "source": [
        "We analyze stress levels across different study levels."
      ],
      "metadata": {
        "id": "Q0EeQDWYNi45"
      }
    },
    {
      "cell_type": "code",
      "source": [
        "import matplotlib.pyplot as plt\n",
        "import seaborn as sns\n",
        "import pandas as pd\n",
        "\n",
        "# Categorize Stress Evaluation into bins: Low, Medium, High\n",
        "data['Stress_Level_Category'] = pd.cut(\n",
        "    data['Stress_Evaluation'],\n",
        "    bins=[0, 2, 4, 5],  # You can adjust the bin ranges based on your data\n",
        "    labels=['Low', 'Medium', 'High']\n",
        ")\n",
        "\n",
        "# Count distribution of Stress Evaluation categories by Study Level\n",
        "stress_distribution = data.groupby(['Study_Level', 'Stress_Level_Category']).size().reset_index(name='Count')\n",
        "\n",
        "# Create grouped bar plot\n",
        "plt.figure(figsize=(10, 6))\n",
        "sns.barplot(\n",
        "    x='Study_Level',\n",
        "    y='Count',\n",
        "    hue='Stress_Level_Category',\n",
        "    data=stress_distribution,\n",
        "    palette='Set1'\n",
        ")\n",
        "\n",
        "plt.title('Stress Evaluation Distribution by Study Level')\n",
        "plt.xlabel('Study Level')\n",
        "plt.ylabel('Count of Students')\n",
        "plt.legend(title='Stress Level')\n",
        "plt.xticks(rotation=50)\n",
        "plt.show()"
      ],
      "metadata": {
        "colab": {
          "base_uri": "https://localhost:8080/",
          "height": 697
        },
        "id": "30Rrd6i3Krbc",
        "outputId": "477c911b-d4e3-4477-ce9a-013528fca4d4"
      },
      "execution_count": null,
      "outputs": [
        {
          "output_type": "stream",
          "name": "stderr",
          "text": [
            "<ipython-input-76-e6b511be7148>:13: FutureWarning: The default of observed=False is deprecated and will be changed to True in a future version of pandas. Pass observed=False to retain current behavior or observed=True to adopt the future default and silence this warning.\n",
            "  stress_distribution = data.groupby(['Study_Level', 'Stress_Level_Category']).size().reset_index(name='Count')\n"
          ]
        },
        {
          "output_type": "display_data",
          "data": {
            "text/plain": [
              "<Figure size 1000x600 with 1 Axes>"
            ],
            "image/png": "[encoded data removed]"
          },
          "metadata": {}
        }
      ]
    },
    {
      "cell_type": "markdown",
      "source": [
        "**Interpretation:**\n",
        "\n",
        "**- Licence Students:** Higher counts in 'Medium' stress levels.\n",
        "\n",
        "**- Master's Students:** Notable counts in 'High' stress levels.\n",
        "\n",
        "**- Doctorate Students:** Majority report 'High' stress levels.\n",
        "\n",
        "**- Cycle ingénieur Students:** Spread across 'Low' and 'Medium' stress levels.\n",
        "\n",
        "This plot highlights that Cycle Ingénieur and Licence students generally exhibit lower stress levels, while Doctorat and Master students experience relatively higher stress, possibly due to the demands of advanced studies."
      ],
      "metadata": {
        "id": "6sJ2nGnENnKZ"
      }
    },
    {
      "cell_type": "markdown",
      "source": [
        "### **Line plot :  Linear Relationship Between Stress Level and Device Time**"
      ],
      "metadata": {
        "id": "M4vKmniCS1ea"
      }
    },
    {
      "cell_type": "code",
      "source": [
        "import matplotlib.pyplot as plt\n",
        "import seaborn as sns\n",
        "\n",
        "# Plotting a linear plot to visualize the relationship between stress level and device time\n",
        "plt.figure(figsize=(10, 6))\n",
        "sns.lineplot(x='Device_Time', y='Stress_Evaluation', data=data, color='blue', marker='o')\n",
        "\n",
        "# Adding titles and labels\n",
        "plt.title('Relationship Between Stress Level and Device Time')\n",
        "plt.xlabel('Device Time (hours)')\n",
        "plt.ylabel('Stress Level')\n",
        "\n",
        "# Displaying the plot\n",
        "plt.show()\n"
      ],
      "metadata": {
        "colab": {
          "base_uri": "https://localhost:8080/",
          "height": 564
        },
        "id": "3dqaNSNA7D44",
        "outputId": "2a9706b1-0013-4c82-c026-033d63cedded"
      },
      "execution_count": null,
      "outputs": [
        {
          "output_type": "display_data",
          "data": {
            "text/plain": [
              "<Figure size 1000x600 with 1 Axes>"
            ],
            "image/png": "[encoded data removed]"
          },
          "metadata": {}
        }
      ]
    },
    {
      "cell_type": "markdown",
      "source": [
        "- The plot suggests a potential link between device usage time, stress levels, and its likely impact on sleep quality:\n",
        "\n",
        "-> This highlights that **moderate device use could minimize stress and support better sleep**, **while excessive use risks elevating stress and disrupting sleep cycles.**\n"
      ],
      "metadata": {
        "id": "pGXvopcgUP5s"
      }
    },
    {
      "cell_type": "markdown",
      "source": [
        "### **Correlation Matrix**"
      ],
      "metadata": {
        "id": "6v-bhjFOa4XR"
      }
    },
    {
      "cell_type": "code",
      "source": [
        "import seaborn as sns\n",
        "import matplotlib.pyplot as plt\n",
        "import pandas as pd\n",
        "\n",
        "# Imaginons que 'data' est votre DataFrame avec les colonnes pertinentes\n",
        "corr_matrix = data[['Age', 'Stress_Frequency', 'Sleep_Hours', 'Device_Time', 'Stress_Evaluation']].corr()\n",
        "\n",
        "# Visualiser la matrice de corrélation sous forme de heatmap\n",
        "plt.figure(figsize=(10, 8))\n",
        "sns.heatmap(corr_matrix, annot=True, cmap='coolwarm', fmt='.2f')\n",
        "plt.title('Matrice de Corrélation')\n",
        "plt.show()\n"
      ],
      "metadata": {
        "colab": {
          "base_uri": "https://localhost:8080/",
          "height": 699
        },
        "id": "fzKaDIFYaFDA",
        "outputId": "ec047f03-892a-499d-e257-b1bb79fa9adc"
      },
      "execution_count": null,
      "outputs": [
        {
          "output_type": "display_data",
          "data": {
            "text/plain": [
              "<Figure size 1000x800 with 2 Axes>"
            ],
            "image/png": "[encoded data removed]"
          },
          "metadata": {}
        }
      ]
    },
    {
      "cell_type": "markdown",
      "source": [
        "- The matrix highlights device time and sleep hours as the most significant factors influencing stress levels, with increased device time elevating stress and reduced sleep exacerbating it. Managing these two factors could be crucial for reducing stress."
      ],
      "metadata": {
        "id": "y-C09n7ibL3l"
      }
    },
    {
      "cell_type": "markdown",
      "source": [
        "# **Conclusions**\n",
        "\n",
        "## **Key Findings:**\n",
        "\n",
        "**- Stress Levels:** A significant portion of students experience moderate to high stress levels.\n",
        "\n",
        "**- Gender Differences:** Female students report higher stress frequencies and slightly less sleep.\n",
        "\n",
        "**- UIR vs. Non-UIR Students:** Non-UIR students have a higher proportion of high stress levels.\n",
        "\n",
        "**- Study Level Impact:** Advanced study levels (Master's and Doctorate) are associated with higher stress.\n",
        "\n",
        "**- Academic-Social Balance:** Imbalance increases in favor of academic work in later study years."
      ],
      "metadata": {
        "id": "71EMCl16N5PM"
      }
    },
    {
      "cell_type": "markdown",
      "source": [
        "# **Some other statistical tests**"
      ],
      "metadata": {
        "id": "s6jT_DjVWrlI"
      }
    },
    {
      "cell_type": "markdown",
      "source": [
        "### **1. Stress Levels by Gender**\n",
        "- **Hypothesis:**\n",
        "    - **Null Hypothesis**(H0): Stress levels are independent of gender.\n",
        "    - **Alternative Hypothesis** (Ha): Stress levels vary with gender."
      ],
      "metadata": {
        "id": "oOsIUDr7WrYZ"
      }
    },
    {
      "cell_type": "code",
      "source": [
        "# Create a contingency table with gender and stress levels\n",
        "contingency_table = pd.crosstab(data['Gender'], data['Stress_Evaluation'])\n",
        "\n",
        "# Perform chi-squared test\n",
        "from scipy.stats import chi2_contingency\n",
        "chi2, p, dof, expected = chi2_contingency(contingency_table)\n",
        "\n",
        "print(f\"Chi-squared value: {chi2}\")\n",
        "print(f\"P-value: {p}\")"
      ],
      "metadata": {
        "id": "Ac_LmkHNWrG5",
        "outputId": "1506903b-74e9-4120-d5b0-ddfc544f6413",
        "colab": {
          "base_uri": "https://localhost:8080/"
        }
      },
      "execution_count": null,
      "outputs": [
        {
          "output_type": "stream",
          "name": "stdout",
          "text": [
            "Chi-squared value: 1.9973617607693308\n",
            "P-value: 0.7362441591889828\n"
          ]
        }
      ]
    },
    {
      "cell_type": "markdown",
      "source": [
        "**Interpretation of result :**\n",
        "\n",
        "- Chi-Squared Value: 1.997 indicates a weak association between gender and stress levels.\n",
        "\n",
        "- P-Value: 0.736 (greater than the standard significance level of 0.05) suggests that we fail to reject the null hypothesis.\n",
        "\n",
        "->There is **no statistically significant relationship** between gender and stress levels. This means that **stress levels are likely independent of gender** in this dataset."
      ],
      "metadata": {
        "id": "vlQJp26EgjJv"
      }
    },
    {
      "cell_type": "markdown",
      "source": [
        "### **2. Stress Levels by sleep hours:**\n",
        "#### **Using Pearson's correlation**\n",
        "- **hypothesis:**\n",
        "    - **Null Hypothesis** (𝐻0):There is no linear relationship between stress levels and sleep hours (𝜌=0)\n",
        "    - **Alternative Hypothesis** (𝐻𝐴): There is a linear relationship between stress levels and sleep hours (𝜌≠0).\n"
      ],
      "metadata": {
        "id": "WB6GdQzelAWP"
      }
    },
    {
      "cell_type": "code",
      "source": [
        "from scipy.stats import pearsonr\n",
        "\n",
        "stress_levels = data['Stress_Evaluation']\n",
        "sleep_hours = data['Sleep_Hours']\n",
        "\n",
        "# Calculate Pearson correlation coefficient and p-value\n",
        "correlation, p_value = pearsonr(stress_levels, sleep_hours)\n",
        "\n",
        "print(f\"Pearson Correlation Coefficient: {correlation}\")\n",
        "print(f\"P-value: {p_value}\")\n"
      ],
      "metadata": {
        "id": "BWu5MmTAgxiy",
        "outputId": "36c666f3-9b48-4b1d-f4db-4ee102307d19",
        "colab": {
          "base_uri": "https://localhost:8080/"
        }
      },
      "execution_count": null,
      "outputs": [
        {
          "output_type": "stream",
          "name": "stdout",
          "text": [
            "Pearson Correlation Coefficient: -0.6272059015116097\n",
            "P-value: 1.5945415665897883e-41\n"
          ]
        }
      ]
    },
    {
      "cell_type": "markdown",
      "source": [
        "**Interpretation:**\n",
        "\n",
        "- Pearson Correlation Coefficient: −0.627, indicating a strong negative linear relationship between stress levels and sleep hours.\n",
        "This means that as sleep hours increase, stress levels tend to decrease\n",
        "\n",
        "- P-value:  1.5945415665897883e-41\n",
        "  (very small) — statistically significant,  strongly rejects the null hypothesis (H0).\n",
        "\n",
        "-> We reject the null hypothesis and accept that there is a significant negative linear relationship between sleep hours and stress levels.**Less sleep correlates with higher stress.**"
      ],
      "metadata": {
        "id": "5YJBc-E5t8Tu"
      }
    },
    {
      "cell_type": "markdown",
      "source": [
        "### **3. Stress level by study levels:**\n",
        "#### **Using ANOVA**\n",
        "- **Hypothesis:**\n",
        "  - **Null Hypothesis** (𝐻0): The mean stress levels are the same across all study levels.\n",
        "  - **Alternative Hypothesis** (𝐻𝐴): At least one study level group has a different mean stress level."
      ],
      "metadata": {
        "id": "_eaiWF3Dv6Am"
      }
    },
    {
      "cell_type": "code",
      "source": [
        "from scipy.stats import f_oneway\n",
        "\n",
        "# 'Study_Level' is the categorical variable and 'Stress_Evaluation' is the numerical variable\n",
        "groups = [group['Stress_Evaluation'] for name, group in data.groupby('Study_Level')]\n",
        "\n",
        "# let's # Perform one-way ANOVA\n",
        "f_statistic, p_value = f_oneway(*groups)\n",
        "\n",
        "print(f\"F-statistic: {f_statistic}\")\n",
        "print(f\"P-value: {p_value}\")\n"
      ],
      "metadata": {
        "id": "wfwyoQFcu6Hf",
        "outputId": "71deec29-04d2-4d14-8a73-382edafda921",
        "colab": {
          "base_uri": "https://localhost:8080/"
        }
      },
      "execution_count": null,
      "outputs": [
        {
          "output_type": "stream",
          "name": "stdout",
          "text": [
            "F-statistic: 1.1278241374314195\n",
            "P-value: 0.3376881258129187\n"
          ]
        }
      ]
    },
    {
      "cell_type": "markdown",
      "source": [
        "**Interpretation:**\n",
        "\n",
        "- F-statistic: 1.128, which suggests that there is not much variability in stress levels between the study level groups relative to the variability within each group.\n",
        "\n",
        "\n",
        "- P-value: 0.337 — This is higher than the common significance level of 0.05.\n",
        "\n",
        "-> We fail to reject the null hypothesis (𝐻0), indicating that there is no significant difference in the mean stress levels across the different study levels. **The stress levels do not vary significantly by study level.**"
      ],
      "metadata": {
        "id": "6nJEZtOJ3EfF"
      }
    },
    {
      "cell_type": "markdown",
      "source": [
        "### **4- Stress level by Device time**\n",
        "\n",
        "#### **Hypothesis for Pearson's correlation:**\n",
        "- **Null Hypothesis** (𝐻0): There is no linear relationship between stress levels and device time (𝜌=0).\n",
        "- **Alternative Hypothesis** (𝐻𝐴): There is a linear relationship between stress levels and device time (𝜌≠0)."
      ],
      "metadata": {
        "id": "YKD4TgvOSsXE"
      }
    },
    {
      "cell_type": "code",
      "source": [
        "device_time = data['Device_Time']\n",
        "stress_levels = data['Stress_Evaluation']\n",
        "\n",
        "# Calculate the Pearson correlation coefficient and p-value\n",
        "correlation, p_value = pearsonr(stress_levels, device_time)\n",
        "\n",
        "print(f\"Pearson Correlation Coefficient: {correlation}\")\n",
        "print(f\"P-value: {p_value}\")"
      ],
      "metadata": {
        "id": "4g-ydSg93JE8",
        "colab": {
          "base_uri": "https://localhost:8080/"
        },
        "outputId": "2fdd00fa-a575-43fd-8b7d-902a3628d657"
      },
      "execution_count": null,
      "outputs": [
        {
          "output_type": "stream",
          "name": "stdout",
          "text": [
            "Pearson Correlation Coefficient: 0.6165755707101299\n",
            "P-value: 8.29723187708625e-40\n"
          ]
        }
      ]
    },
    {
      "cell_type": "markdown",
      "source": [
        "**Interpretation:**\n",
        "\n",
        "- Pearson Correlation Coefficient: 0.617, indicating a strong positive linear relationship between stress levels and device time. This suggests that as device time increases, stress levels also tend to rise.\n",
        "\n",
        "- P-value: 8.29723187708625e-40 — which is extremely small and much lower than the standard significance level (p<0.05).\n",
        "\n",
        "-> We reject the null hypothesis (𝐻0) and accept that there is a significant linear relationship between stress levels and device time. The positive correlation suggests that **more time spent on devices is slightly associated with higher stress levels.**"
      ],
      "metadata": {
        "id": "SRGk4s7ybxsY"
      }
    },
    {
      "cell_type": "markdown",
      "source": [
        "### **5- Device time by sleep hours:**\n",
        "\n",
        "#### **Hypotheses for One-Tailed Pearson Test:**\n",
        "- **Null Hypothesis** (𝐻0): There is no negative relationship between device time and sleep hours (ρ≥0).\n",
        "\n",
        "- **Alternative Hypothesis** (𝐻𝐴): There is a negative relationship between device time and sleep hours (ρ<0)."
      ],
      "metadata": {
        "id": "8lnu3e4apyO9"
      }
    },
    {
      "cell_type": "code",
      "source": [
        "from scipy.stats import pearsonr\n",
        "\n",
        "# Assuming 'Device_Time' and 'Sleep_Hours' are numerical variables in your DataFrame\n",
        "device_time = data['Device_Time']\n",
        "sleep_hours = data['Sleep_Hours']\n",
        "\n",
        "# Calculate Pearson correlation coefficient and p-value\n",
        "correlation, two_tailed_p_value = pearsonr(device_time, sleep_hours)\n",
        "\n",
        "# Convert to one-tailed p-value for a negative relationship\n",
        "one_tailed_p_value = two_tailed_p_value / 2 if correlation < 0 else 1.0\n",
        "\n",
        "print(f\"Pearson Correlation Coefficient: {correlation}\")\n",
        "print(f\"One-Tailed P-value: {one_tailed_p_value}\")\n"
      ],
      "metadata": {
        "colab": {
          "base_uri": "https://localhost:8080/"
        },
        "id": "Immaodbxeiza",
        "outputId": "955a5498-b49d-476b-b034-0dc228805f83"
      },
      "execution_count": null,
      "outputs": [
        {
          "output_type": "stream",
          "name": "stdout",
          "text": [
            "Pearson Correlation Coefficient: -0.5928180533798504\n",
            "One-Tailed P-value: 1.683128499334469e-36\n"
          ]
        }
      ]
    },
    {
      "cell_type": "markdown",
      "source": [
        "**Interpretation:**\n",
        "\n",
        "- Pearson Correlation Coefficient: -0.592 ; This indicates a negative correlation between device time and sleep hours. **As device time increases, sleep hours tend to decrease.**\n",
        "\n",
        "- One-Tailed P-value:1.683128499334469e-36 ; This is extremely small, indicating strong statistical significance.\n",
        "\n",
        "-> We reject the null hypothesis (𝐻0), suggesting there is a significant negative linear relationship between device time and sleep hours. **This means that increased device time is associated with fewer hours of sleep.**"
      ],
      "metadata": {
        "id": "ymEtsoRWrHkt"
      }
    },
    {
      "cell_type": "markdown",
      "source": [
        "### **6- Relationship Between Academic Social Balance, Activity Frequency and stress levels**\n",
        "\n",
        "- **Hypothesis for Academic Social Balance and Stress Level:**\n",
        "\n",
        "Null Hypothesis (H0​): Academic Social Balance has no effect on stress levels.\n",
        "\n",
        "Alternative Hypothesis (H A): Academic Social Balance affects stress levels.\n",
        "\n",
        "- **Hypothesis for Activity Frequency and Stress Level:**\n",
        "\n",
        "Null Hypothesis (H0): Activity Frequency has no effect on stress levels.\n",
        "\n",
        "Alternative Hypothesis (H A): Activity Frequency affects stress levels.\n",
        "\n"
      ],
      "metadata": {
        "id": "qAN99BtfGBY0"
      }
    },
    {
      "cell_type": "code",
      "source": [
        "import pandas as pd\n",
        "from scipy.stats import f_oneway\n",
        "import seaborn as sns\n",
        "import matplotlib.pyplot as plt\n",
        "\n",
        "# ANOVA for Academic Social Balance and Stress Level\n",
        "balance_groups = [group['Stress_Evaluation'] for name, group in data.groupby('Academic_Social_Balance')]\n",
        "f_stat_balance, p_value_balance = f_oneway(*balance_groups)\n",
        "\n",
        "print(\"Academic Social Balance:\")\n",
        "print(f\"F-statistic: {f_stat_balance}\")\n",
        "print(f\"P-value: {p_value_balance}\")\n",
        "\n",
        "# ANOVA for Activity Frequency and Stress Level\n",
        "activity_groups = [group['Stress_Evaluation'] for name, group in data.groupby('Activity_Frequency')]\n",
        "f_stat_activity, p_value_activity = f_oneway(*activity_groups)\n",
        "\n",
        "print(\"\\nActivity Frequency:\")\n",
        "print(f\"F-statistic: {f_stat_activity}\")\n",
        "print(f\"P-value: {p_value_activity}\")\n",
        "\n"
      ],
      "metadata": {
        "colab": {
          "base_uri": "https://localhost:8080/"
        },
        "id": "rNU2QQIhFhAj",
        "outputId": "60cf823d-a363-4d1e-c90a-c4ede6bd913f"
      },
      "execution_count": null,
      "outputs": [
        {
          "output_type": "stream",
          "name": "stdout",
          "text": [
            "Academic Social Balance:\n",
            "F-statistic: 72.44292762194128\n",
            "P-value: 4.852519751162556e-45\n",
            "\n",
            "Activity Frequency:\n",
            "F-statistic: 39.90289224903397\n",
            "P-value: 2.6168533721924344e-22\n"
          ]
        }
      ]
    },
    {
      "cell_type": "markdown",
      "source": [
        "**Key Takeaways:**\n",
        "\n",
        "- Academic-Social Balance: Imbalances (e.g., skewed toward academic or social life) are significantly linked to varying stress levels. A balanced lifestyle may help reduce stress.\n",
        "\n",
        "- Activity Frequency: Regular or frequent participation in activities (e.g., exercise, hobbies) may help manage stress more effectively, while inactivity could exacerbate it."
      ],
      "metadata": {
        "id": "6w0YW_0zGsmW"
      }
    },
    {
      "cell_type": "markdown",
      "source": [
        "# **II- Predicting Stress Levels Using Machine Learning**\n",
        "\n",
        "In this part of our project we are developing a machine learning model to predict **stress levels** using features like Sleep_Hours, Device_Time, Activity_Frequency and more. By preprocessing data, training models, and optimizing performance, the aim is to uncover key stress factors and build an accurate predictive tool."
      ],
      "metadata": {
        "id": "Oi8QNYuoNOJO"
      }
    },
    {
      "cell_type": "code",
      "source": [
        "data.head()"
      ],
      "metadata": {
        "colab": {
          "base_uri": "https://localhost:8080/",
          "height": 399
        },
        "id": "wWvuzpO-tSaW",
        "outputId": "a089c006-1ce5-4b48-8dca-efd9a1d7436c"
      },
      "execution_count": 7,
      "outputs": [
        {
          "output_type": "execute_result",
          "data": {
            "text/plain": [
              "  Gender  Age      Study_Level  Study_Year Is_UIR_Student  \\\n",
              "0  Femme   21  Cycle ingénieur  4ème année            Oui   \n",
              "1  Femme   22           Master  4ème année            Oui   \n",
              "2  Homme   24          Licence  3ème année            Oui   \n",
              "3  Femme   20  Cycle ingénieur  3ème année            Oui   \n",
              "4  Femme   21  Cycle ingénieur  4ème année            Oui   \n",
              "\n",
              "                                   Stress_Sources  \\\n",
              "0  Charge de travail académique;Pression sociale;   \n",
              "1           Pression sociale;Problèmes financiers   \n",
              "2           Problèmes financiers;Pression sociale   \n",
              "3           Pression sociale;Problèmes financiers   \n",
              "4   Charge de travail académique;Pression sociale   \n",
              "\n",
              "                                   Stress_Management  Stress_Frequency  \\\n",
              "0  Temps avec des amis/famille;Méditation/Relaxat...                 5   \n",
              "1  Exercice physique;Divertissements personnels (...                 4   \n",
              "2            Méditation/Relaxation;Exercice physique                 7   \n",
              "3      Exercice physique;Temps avec des amis/famille                 4   \n",
              "4  Divertissements personnels (lecture, films, sé...                 9   \n",
              "\n",
              "                             Academic_Social_Balance  Stress_Evaluation  \\\n",
              "0           Déséquilibré en faveur de la vie sociale                  4   \n",
              "1           Déséquilibré en faveur de la vie sociale                  5   \n",
              "2  Déséquilibré en faveur des activités personnel...                  4   \n",
              "3                                          Équilibré                  1   \n",
              "4                                          Équilibré                  2   \n",
              "\n",
              "   Sleep_Hours  Device_Time Activity_Frequency  \n",
              "0            6           10           rarement  \n",
              "1            7            9             jamais  \n",
              "2            6            6           rarement  \n",
              "3            8            4        fréquemment  \n",
              "4            8            6  occasionnellement  "
            ],
            "text/html": [
              "\n",
              "  <div id=\"df-4a7f9bde-8d17-4c6f-ad4d-e9d901306bf8\" class=\"colab-df-container\">\n",
              "    <div>\n",
              "<style scoped>\n",
              "    .dataframe tbody tr th:only-of-type {\n",
              "        vertical-align: middle;\n",
              "    }\n",
              "\n",
              "    .dataframe tbody tr th {\n",
              "        vertical-align: top;\n",
              "    }\n",
              "\n",
              "    .dataframe thead th {\n",
              "        text-align: right;\n",
              "    }\n",
              "</style>\n",
              "<table border=\"1\" class=\"dataframe\">\n",
              "  <thead>\n",
              "    <tr style=\"text-align: right;\">\n",
              "      <th></th>\n",
              "      <th>Gender</th>\n",
              "      <th>Age</th>\n",
              "      <th>Study_Level</th>\n",
              "      <th>Study_Year</th>\n",
              "      <th>Is_UIR_Student</th>\n",
              "      <th>Stress_Sources</th>\n",
              "      <th>Stress_Management</th>\n",
              "      <th>Stress_Frequency</th>\n",
              "      <th>Academic_Social_Balance</th>\n",
              "      <th>Stress_Evaluation</th>\n",
              "      <th>Sleep_Hours</th>\n",
              "      <th>Device_Time</th>\n",
              "      <th>Activity_Frequency</th>\n",
              "    </tr>\n",
              "  </thead>\n",
              "  <tbody>\n",
              "    <tr>\n",
              "      <th>0</th>\n",
              "      <td>Femme</td>\n",
              "      <td>21</td>\n",
              "      <td>Cycle ingénieur</td>\n",
              "      <td>4ème année</td>\n",
              "      <td>Oui</td>\n",
              "      <td>Charge de travail académique;Pression sociale;</td>\n",
              "      <td>Temps avec des amis/famille;Méditation/Relaxat...</td>\n",
              "      <td>5</td>\n",
              "      <td>Déséquilibré en faveur de la vie sociale</td>\n",
              "      <td>4</td>\n",
              "      <td>6</td>\n",
              "      <td>10</td>\n",
              "      <td>rarement</td>\n",
              "    </tr>\n",
              "    <tr>\n",
              "      <th>1</th>\n",
              "      <td>Femme</td>\n",
              "      <td>22</td>\n",
              "      <td>Master</td>\n",
              "      <td>4ème année</td>\n",
              "      <td>Oui</td>\n",
              "      <td>Pression sociale;Problèmes financiers</td>\n",
              "      <td>Exercice physique;Divertissements personnels (...</td>\n",
              "      <td>4</td>\n",
              "      <td>Déséquilibré en faveur de la vie sociale</td>\n",
              "      <td>5</td>\n",
              "      <td>7</td>\n",
              "      <td>9</td>\n",
              "      <td>jamais</td>\n",
              "    </tr>\n",
              "    <tr>\n",
              "      <th>2</th>\n",
              "      <td>Homme</td>\n",
              "      <td>24</td>\n",
              "      <td>Licence</td>\n",
              "      <td>3ème année</td>\n",
              "      <td>Oui</td>\n",
              "      <td>Problèmes financiers;Pression sociale</td>\n",
              "      <td>Méditation/Relaxation;Exercice physique</td>\n",
              "      <td>7</td>\n",
              "      <td>Déséquilibré en faveur des activités personnel...</td>\n",
              "      <td>4</td>\n",
              "      <td>6</td>\n",
              "      <td>6</td>\n",
              "      <td>rarement</td>\n",
              "    </tr>\n",
              "    <tr>\n",
              "      <th>3</th>\n",
              "      <td>Femme</td>\n",
              "      <td>20</td>\n",
              "      <td>Cycle ingénieur</td>\n",
              "      <td>3ème année</td>\n",
              "      <td>Oui</td>\n",
              "      <td>Pression sociale;Problèmes financiers</td>\n",
              "      <td>Exercice physique;Temps avec des amis/famille</td>\n",
              "      <td>4</td>\n",
              "      <td>Équilibré</td>\n",
              "      <td>1</td>\n",
              "      <td>8</td>\n",
              "      <td>4</td>\n",
              "      <td>fréquemment</td>\n",
              "    </tr>\n",
              "    <tr>\n",
              "      <th>4</th>\n",
              "      <td>Femme</td>\n",
              "      <td>21</td>\n",
              "      <td>Cycle ingénieur</td>\n",
              "      <td>4ème année</td>\n",
              "      <td>Oui</td>\n",
              "      <td>Charge de travail académique;Pression sociale</td>\n",
              "      <td>Divertissements personnels (lecture, films, sé...</td>\n",
              "      <td>9</td>\n",
              "      <td>Équilibré</td>\n",
              "      <td>2</td>\n",
              "      <td>8</td>\n",
              "      <td>6</td>\n",
              "      <td>occasionnellement</td>\n",
              "    </tr>\n",
              "  </tbody>\n",
              "</table>\n",
              "</div>\n",
              "    <div class=\"colab-df-buttons\">\n",
              "\n",
              "  <div class=\"colab-df-container\">\n",
              "    <button class=\"colab-df-convert\" onclick=\"convertToInteractive('df-4a7f9bde-8d17-4c6f-ad4d-e9d901306bf8')\"\n",
              "            title=\"Convert this dataframe to an interactive table.\"\n",
              "            style=\"display:none;\">\n",
              "\n",
              "  <svg xmlns=\"http://www.w3.org/2000/svg\" height=\"24px\" viewBox=\"0 -960 960 960\">\n",
              "    <path d=\"M120-120v-720h720v720H120Zm60-500h600v-160H180v160Zm220 220h160v-160H400v160Zm0 220h160v-160H400v160ZM180-400h160v-160H180v160Zm440 0h160v-160H620v160ZM180-180h160v-160H180v160Zm440 0h160v-160H620v160Z\"/>\n",
              "  </svg>\n",
              "    </button>\n",
              "\n",
              "  <style>\n",
              "    .colab-df-container {\n",
              "      display:flex;\n",
              "      gap: 12px;\n",
              "    }\n",
              "\n",
              "    .colab-df-convert {\n",
              "      background-color: #E8F0FE;\n",
              "      border: none;\n",
              "      border-radius: 50%;\n",
              "      cursor: pointer;\n",
              "      display: none;\n",
              "      fill: #1967D2;\n",
              "      height: 32px;\n",
              "      padding: 0 0 0 0;\n",
              "      width: 32px;\n",
              "    }\n",
              "\n",
              "    .colab-df-convert:hover {\n",
              "      background-color: #E2EBFA;\n",
              "      box-shadow: 0px 1px 2px rgba(60, 64, 67, 0.3), 0px 1px 3px 1px rgba(60, 64, 67, 0.15);\n",
              "      fill: #174EA6;\n",
              "    }\n",
              "\n",
              "    .colab-df-buttons div {\n",
              "      margin-bottom: 4px;\n",
              "    }\n",
              "\n",
              "    [theme=dark] .colab-df-convert {\n",
              "      background-color: #3B4455;\n",
              "      fill: #D2E3FC;\n",
              "    }\n",
              "\n",
              "    [theme=dark] .colab-df-convert:hover {\n",
              "      background-color: #434B5C;\n",
              "      box-shadow: 0px 1px 3px 1px rgba(0, 0, 0, 0.15);\n",
              "      filter: drop-shadow(0px 1px 2px rgba(0, 0, 0, 0.3));\n",
              "      fill: #FFFFFF;\n",
              "    }\n",
              "  </style>\n",
              "\n",
              "    <script>\n",
              "      const buttonEl =\n",
              "        document.querySelector('#df-4a7f9bde-8d17-4c6f-ad4d-e9d901306bf8 button.colab-df-convert');\n",
              "      buttonEl.style.display =\n",
              "        google.colab.kernel.accessAllowed ? 'block' : 'none';\n",
              "\n",
              "      async function convertToInteractive(key) {\n",
              "        const element = document.querySelector('#df-4a7f9bde-8d17-4c6f-ad4d-e9d901306bf8');\n",
              "        const dataTable =\n",
              "          await google.colab.kernel.invokeFunction('convertToInteractive',\n",
              "                                                    [key], {});\n",
              "        if (!dataTable) return;\n",
              "\n",
              "        const docLinkHtml = 'Like what you see? Visit the ' +\n",
              "          '<a target=\"_blank\" href=https://colab.research.google.com/notebooks/data_table.ipynb>data table notebook</a>'\n",
              "          + ' to learn more about interactive tables.';\n",
              "        element.innerHTML = '';\n",
              "        dataTable['output_type'] = 'display_data';\n",
              "        await google.colab.output.renderOutput(dataTable, element);\n",
              "        const docLink = document.createElement('div');\n",
              "        docLink.innerHTML = docLinkHtml;\n",
              "        element.appendChild(docLink);\n",
              "      }\n",
              "    </script>\n",
              "  </div>\n",
              "\n",
              "\n",
              "<div id=\"df-224a031f-97f3-4f6e-8af9-e04671f67996\">\n",
              "  <button class=\"colab-df-quickchart\" onclick=\"quickchart('df-224a031f-97f3-4f6e-8af9-e04671f67996')\"\n",
              "            title=\"Suggest charts\"\n",
              "            style=\"display:none;\">\n",
              "\n",
              "<svg xmlns=\"http://www.w3.org/2000/svg\" height=\"24px\"viewBox=\"0 0 24 24\"\n",
              "     width=\"24px\">\n",
              "    <g>\n",
              "        <path d=\"M19 3H5c-1.1 0-2 .9-2 2v14c0 1.1.9 2 2 2h14c1.1 0 2-.9 2-2V5c0-1.1-.9-2-2-2zM9 17H7v-7h2v7zm4 0h-2V7h2v10zm4 0h-2v-4h2v4z\"/>\n",
              "    </g>\n",
              "</svg>\n",
              "  </button>\n",
              "\n",
              "<style>\n",
              "  .colab-df-quickchart {\n",
              "      --bg-color: #E8F0FE;\n",
              "      --fill-color: #1967D2;\n",
              "      --hover-bg-color: #E2EBFA;\n",
              "      --hover-fill-color: #174EA6;\n",
              "      --disabled-fill-color: #AAA;\n",
              "      --disabled-bg-color: #DDD;\n",
              "  }\n",
              "\n",
              "  [theme=dark] .colab-df-quickchart {\n",
              "      --bg-color: #3B4455;\n",
              "      --fill-color: #D2E3FC;\n",
              "      --hover-bg-color: #434B5C;\n",
              "      --hover-fill-color: #FFFFFF;\n",
              "      --disabled-bg-color: #3B4455;\n",
              "      --disabled-fill-color: #666;\n",
              "  }\n",
              "\n",
              "  .colab-df-quickchart {\n",
              "    background-color: var(--bg-color);\n",
              "    border: none;\n",
              "    border-radius: 50%;\n",
              "    cursor: pointer;\n",
              "    display: none;\n",
              "    fill: var(--fill-color);\n",
              "    height: 32px;\n",
              "    padding: 0;\n",
              "    width: 32px;\n",
              "  }\n",
              "\n",
              "  .colab-df-quickchart:hover {\n",
              "    background-color: var(--hover-bg-color);\n",
              "    box-shadow: 0 1px 2px rgba(60, 64, 67, 0.3), 0 1px 3px 1px rgba(60, 64, 67, 0.15);\n",
              "    fill: var(--button-hover-fill-color);\n",
              "  }\n",
              "\n",
              "  .colab-df-quickchart-complete:disabled,\n",
              "  .colab-df-quickchart-complete:disabled:hover {\n",
              "    background-color: var(--disabled-bg-color);\n",
              "    fill: var(--disabled-fill-color);\n",
              "    box-shadow: none;\n",
              "  }\n",
              "\n",
              "  .colab-df-spinner {\n",
              "    border: 2px solid var(--fill-color);\n",
              "    border-color: transparent;\n",
              "    border-bottom-color: var(--fill-color);\n",
              "    animation:\n",
              "      spin 1s steps(1) infinite;\n",
              "  }\n",
              "\n",
              "  @keyframes spin {\n",
              "    0% {\n",
              "      border-color: transparent;\n",
              "      border-bottom-color: var(--fill-color);\n",
              "      border-left-color: var(--fill-color);\n",
              "    }\n",
              "    20% {\n",
              "      border-color: transparent;\n",
              "      border-left-color: var(--fill-color);\n",
              "      border-top-color: var(--fill-color);\n",
              "    }\n",
              "    30% {\n",
              "      border-color: transparent;\n",
              "      border-left-color: var(--fill-color);\n",
              "      border-top-color: var(--fill-color);\n",
              "      border-right-color: var(--fill-color);\n",
              "    }\n",
              "    40% {\n",
              "      border-color: transparent;\n",
              "      border-right-color: var(--fill-color);\n",
              "      border-top-color: var(--fill-color);\n",
              "    }\n",
              "    60% {\n",
              "      border-color: transparent;\n",
              "      border-right-color: var(--fill-color);\n",
              "    }\n",
              "    80% {\n",
              "      border-color: transparent;\n",
              "      border-right-color: var(--fill-color);\n",
              "      border-bottom-color: var(--fill-color);\n",
              "    }\n",
              "    90% {\n",
              "      border-color: transparent;\n",
              "      border-bottom-color: var(--fill-color);\n",
              "    }\n",
              "  }\n",
              "</style>\n",
              "\n",
              "  <script>\n",
              "    async function quickchart(key) {\n",
              "      const quickchartButtonEl =\n",
              "        document.querySelector('#' + key + ' button');\n",
              "      quickchartButtonEl.disabled = true;  // To prevent multiple clicks.\n",
              "      quickchartButtonEl.classList.add('colab-df-spinner');\n",
              "      try {\n",
              "        const charts = await google.colab.kernel.invokeFunction(\n",
              "            'suggestCharts', [key], {});\n",
              "      } catch (error) {\n",
              "        console.error('Error during call to suggestCharts:', error);\n",
              "      }\n",
              "      quickchartButtonEl.classList.remove('colab-df-spinner');\n",
              "      quickchartButtonEl.classList.add('colab-df-quickchart-complete');\n",
              "    }\n",
              "    (() => {\n",
              "      let quickchartButtonEl =\n",
              "        document.querySelector('#df-224a031f-97f3-4f6e-8af9-e04671f67996 button');\n",
              "      quickchartButtonEl.style.display =\n",
              "        google.colab.kernel.accessAllowed ? 'block' : 'none';\n",
              "    })();\n",
              "  </script>\n",
              "</div>\n",
              "\n",
              "    </div>\n",
              "  </div>\n"
            ],
            "application/vnd.google.colaboratory.intrinsic+json": {
              "type": "dataframe",
              "variable_name": "data",
              "summary": "{\n  \"name\": \"data\",\n  \"rows\": 367,\n  \"fields\": [\n    {\n      \"column\": \"Gender\",\n      \"properties\": {\n        \"dtype\": \"category\",\n        \"num_unique_values\": 2,\n        \"samples\": [\n          \"Homme\",\n          \"Femme\"\n        ],\n        \"semantic_type\": \"\",\n        \"description\": \"\"\n      }\n    },\n    {\n      \"column\": \"Age\",\n      \"properties\": {\n        \"dtype\": \"number\",\n        \"std\": 3,\n        \"min\": 18,\n        \"max\": 29,\n        \"num_unique_values\": 12,\n        \"samples\": [\n          27,\n          28\n        ],\n        \"semantic_type\": \"\",\n        \"description\": \"\"\n      }\n    },\n    {\n      \"column\": \"Study_Level\",\n      \"properties\": {\n        \"dtype\": \"category\",\n        \"num_unique_values\": 4,\n        \"samples\": [\n          \"Master\",\n          \"Doctorat\"\n        ],\n        \"semantic_type\": \"\",\n        \"description\": \"\"\n      }\n    },\n    {\n      \"column\": \"Study_Year\",\n      \"properties\": {\n        \"dtype\": \"category\",\n        \"num_unique_values\": 6,\n        \"samples\": [\n          \"4\\u00e8me ann\\u00e9e\",\n          \"3\\u00e8me ann\\u00e9e\"\n        ],\n        \"semantic_type\": \"\",\n        \"description\": \"\"\n      }\n    },\n    {\n      \"column\": \"Is_UIR_Student\",\n      \"properties\": {\n        \"dtype\": \"category\",\n        \"num_unique_values\": 2,\n        \"samples\": [\n          \"Non\",\n          \"Oui\"\n        ],\n        \"semantic_type\": \"\",\n        \"description\": \"\"\n      }\n    },\n    {\n      \"column\": \"Stress_Sources\",\n      \"properties\": {\n        \"dtype\": \"category\",\n        \"num_unique_values\": 14,\n        \"samples\": [\n          \"Pression sociale;Probl\\u00e8mes de sant\\u00e9 (mentale ou physique)\",\n          \"Probl\\u00e8mes financiers;Probl\\u00e8mes de sant\\u00e9 (mentale ou physique)\"\n        ],\n        \"semantic_type\": \"\",\n        \"description\": \"\"\n      }\n    },\n    {\n      \"column\": \"Stress_Management\",\n      \"properties\": {\n        \"dtype\": \"category\",\n        \"num_unique_values\": 13,\n        \"samples\": [\n          \"Temps avec des amis/famille;M\\u00e9ditation/Relaxation\",\n          \"M\\u00e9ditation/Relaxation;Divertissements personnels (lecture, films, s\\u00e9ries)\"\n        ],\n        \"semantic_type\": \"\",\n        \"description\": \"\"\n      }\n    },\n    {\n      \"column\": \"Stress_Frequency\",\n      \"properties\": {\n        \"dtype\": \"number\",\n        \"std\": 2,\n        \"min\": 1,\n        \"max\": 10,\n        \"num_unique_values\": 10,\n        \"samples\": [\n          3,\n          4\n        ],\n        \"semantic_type\": \"\",\n        \"description\": \"\"\n      }\n    },\n    {\n      \"column\": \"Academic_Social_Balance\",\n      \"properties\": {\n        \"dtype\": \"category\",\n        \"num_unique_values\": 5,\n        \"samples\": [\n          \"D\\u00e9s\\u00e9quilibr\\u00e9 en faveur des activit\\u00e9s personnelles de bien-\\u00eatre\",\n          \"D\\u00e9s\\u00e9quilibr\\u00e9 en faveur des activit\\u00e9s personnelles\"\n        ],\n        \"semantic_type\": \"\",\n        \"description\": \"\"\n      }\n    },\n    {\n      \"column\": \"Stress_Evaluation\",\n      \"properties\": {\n        \"dtype\": \"number\",\n        \"std\": 1,\n        \"min\": 1,\n        \"max\": 5,\n        \"num_unique_values\": 5,\n        \"samples\": [\n          5,\n          3\n        ],\n        \"semantic_type\": \"\",\n        \"description\": \"\"\n      }\n    },\n    {\n      \"column\": \"Sleep_Hours\",\n      \"properties\": {\n        \"dtype\": \"number\",\n        \"std\": 1,\n        \"min\": 3,\n        \"max\": 9,\n        \"num_unique_values\": 7,\n        \"samples\": [\n          6,\n          7\n        ],\n        \"semantic_type\": \"\",\n        \"description\": \"\"\n      }\n    },\n    {\n      \"column\": \"Device_Time\",\n      \"properties\": {\n        \"dtype\": \"number\",\n        \"std\": 2,\n        \"min\": 1,\n        \"max\": 10,\n        \"num_unique_values\": 10,\n        \"samples\": [\n          2,\n          9\n        ],\n        \"semantic_type\": \"\",\n        \"description\": \"\"\n      }\n    },\n    {\n      \"column\": \"Activity_Frequency\",\n      \"properties\": {\n        \"dtype\": \"category\",\n        \"num_unique_values\": 4,\n        \"samples\": [\n          \"jamais\",\n          \"occasionnellement\"\n        ],\n        \"semantic_type\": \"\",\n        \"description\": \"\"\n      }\n    }\n  ]\n}"
            }
          },
          "metadata": {},
          "execution_count": 7
        }
      ]
    },
    {
      "cell_type": "markdown",
      "source": [
        "### **1- Data Preprocessing:**\n",
        "\n",
        "   - Handle Missing Values:"
      ],
      "metadata": {
        "id": "hu-exnwNTu7O"
      }
    },
    {
      "cell_type": "code",
      "source": [
        "# Check for missing values in each column\n",
        "print(data.isnull().sum())\n"
      ],
      "metadata": {
        "colab": {
          "base_uri": "https://localhost:8080/"
        },
        "id": "5pI-K-8ATXYm",
        "outputId": "af2bc667-f369-4050-e12b-9b3347d2a576"
      },
      "execution_count": 8,
      "outputs": [
        {
          "output_type": "stream",
          "name": "stdout",
          "text": [
            "Gender                     0\n",
            "Age                        0\n",
            "Study_Level                0\n",
            "Study_Year                 0\n",
            "Is_UIR_Student             0\n",
            "Stress_Sources             0\n",
            "Stress_Management          0\n",
            "Stress_Frequency           0\n",
            "Academic_Social_Balance    0\n",
            "Stress_Evaluation          0\n",
            "Sleep_Hours                0\n",
            "Device_Time                0\n",
            "Activity_Frequency         0\n",
            "dtype: int64\n"
          ]
        }
      ]
    },
    {
      "cell_type": "markdown",
      "source": [
        "All features in the dataset are complete, with no missing values identified. This ensures the data is ready for preprocessing and model development without requiring imputation or data removal.\n",
        "\n",
        "- **Numerical Features:** Age,  Stress_Evaluation, Sleep_Hours, Device_Time, Stress_Frequency\n",
        "\n",
        "- **Categorical Features:** Gender, Study_Level, Study_Year, Is_UIR_Student, Stress_Sources, Stress_Management, Academic_Social_Balance, Activity_Frequency\n"
      ],
      "metadata": {
        "id": "4fN3RnREUTUv"
      }
    },
    {
      "cell_type": "markdown",
      "source": [
        "### **Encoding Categorical Data:**"
      ],
      "metadata": {
        "id": "sNYG2UNvayBW"
      }
    },
    {
      "cell_type": "markdown",
      "source": [
        "**Label Encoding for Categorical Variables**"
      ],
      "metadata": {
        "id": "avW_tfvPlOx0"
      }
    },
    {
      "cell_type": "code",
      "source": [
        "from sklearn.preprocessing import LabelEncoder\n",
        "\n",
        "# Initialize LabelEncoder\n",
        "label_encoder = LabelEncoder()\n",
        "\n",
        "# Encode binary columns\n",
        "data['Gender'] = label_encoder.fit_transform(data['Gender'])  # Femme = 0, Homme = 1\n",
        "data['Is_UIR_Student'] = label_encoder.fit_transform(data['Is_UIR_Student'])  # Oui = 1, Non = 0\n"
      ],
      "metadata": {
        "id": "Y-Zj4KHqta-N"
      },
      "execution_count": 9,
      "outputs": []
    },
    {
      "cell_type": "markdown",
      "source": [
        "- This code uses LabelEncoder to convert categorical binary variables ('Gender' and 'Is_UIR_Student') into numeric values for machine learning models."
      ],
      "metadata": {
        "id": "PVm3aeJnlRUW"
      }
    },
    {
      "cell_type": "markdown",
      "source": [
        "**One-Hot Encoding for Nominal Variables**"
      ],
      "metadata": {
        "id": "MyXmEE5QlWp9"
      }
    },
    {
      "cell_type": "code",
      "source": [
        "# Apply one-hot encoding to nominal columns\n",
        "data = pd.get_dummies(data, columns=['Study_Level', 'Study_Year'], drop_first=True)  # drop_first=True to avoid multicollinearity\n"
      ],
      "metadata": {
        "id": "nBlxR1nFtepS"
      },
      "execution_count": 10,
      "outputs": []
    },
    {
      "cell_type": "markdown",
      "source": [
        "- This code applies one-hot encoding to the 'Study_Level' and 'Study_Year' columns, transforming them into binary features to prevent multicollinearity."
      ],
      "metadata": {
        "id": "JSdxxgaYlatk"
      }
    },
    {
      "cell_type": "markdown",
      "source": [
        "**Label Encoding for Activity Frequency**"
      ],
      "metadata": {
        "id": "_L1MEV28le1e"
      }
    },
    {
      "cell_type": "code",
      "source": [
        "from sklearn.preprocessing import LabelEncoder\n",
        "\n",
        "# Encode Activity_Frequency\n",
        "label_encoder = LabelEncoder()\n",
        "data['Activity_Frequency'] = label_encoder.fit_transform(data['Activity_Frequency'])\n"
      ],
      "metadata": {
        "id": "bTLCH7UAthi_"
      },
      "execution_count": 11,
      "outputs": []
    },
    {
      "cell_type": "markdown",
      "source": [
        "This code applies label encoding to the 'Activity_Frequency' column, converting categorical values into numerical labels for model compatibility."
      ],
      "metadata": {
        "id": "3TzyQ_n2ljtB"
      }
    },
    {
      "cell_type": "markdown",
      "source": [
        "**TF-IDF Vectorization for Text Data**"
      ],
      "metadata": {
        "id": "DO_6eIK0lmtu"
      }
    },
    {
      "cell_type": "code",
      "source": [
        "from sklearn.feature_extraction.text import TfidfVectorizer\n",
        "\n",
        "# Combine text columns into one for TF-IDF processing\n",
        "text_columns = ['Stress_Sources', 'Academic_Social_Balance', 'Stress_Management']\n",
        "for col in text_columns:\n",
        "    vectorizer = TfidfVectorizer(max_features=100)  # Limit features to reduce dimensionality\n",
        "    tfidf_matrix = vectorizer.fit_transform(data[col].fillna(''))\n",
        "\n",
        "    # Convert TF-IDF matrix to DataFrame\n",
        "    tfidf_df = pd.DataFrame(tfidf_matrix.toarray(), columns=[f\"{col}_{word}\" for word in vectorizer.get_feature_names_out()])\n",
        "\n",
        "    # Add to the main DataFrame\n",
        "    data = pd.concat([data, tfidf_df], axis=1)\n",
        "\n",
        "    # Drop the original column after encoding\n",
        "    data.drop(columns=[col], inplace=True)\n"
      ],
      "metadata": {
        "id": "Bk9F3I-Ytluw"
      },
      "execution_count": 12,
      "outputs": []
    },
    {
      "cell_type": "markdown",
      "source": [
        "This code applies TF-IDF vectorization to multiple text columns, transforming them into numerical features and reducing dimensionality by limiting the number of features."
      ],
      "metadata": {
        "id": "tb-ZT-NnlrjY"
      }
    },
    {
      "cell_type": "markdown",
      "source": [
        "### **Feature Scaling**"
      ],
      "metadata": {
        "id": "SW1-fNSxcT1G"
      }
    },
    {
      "cell_type": "markdown",
      "source": [
        "To standardize the numerical columns in our dataset, we'll use StandardScaler from sklearn.preprocessing. This scaler will transform the numerical features to have a mean of 0 and a standard deviation of 1, which is essential for models like LDA and Linear Regression that are sensitive to feature scaling."
      ],
      "metadata": {
        "id": "4-QjIw2ZlwaP"
      }
    },
    {
      "cell_type": "code",
      "source": [
        "from sklearn.preprocessing import StandardScaler\n",
        "\n",
        "# Separate target variable and features\n",
        "X = data.drop(columns=['Stress_Evaluation'])  # Features\n",
        "y = data['Stress_Evaluation']                # Target variable\n",
        "\n",
        "# Identify numerical columns for scaling\n",
        "numerical_columns = ['Age', 'Stress_Frequency', 'Sleep_Hours', 'Device_Time']\n",
        "tfidf_columns = [col for col in data.columns if col.startswith(('Stress_Sources',\n",
        "                                                                'Academic_Social_Balance',\n",
        "                                                                'Stress_Management'))]\n",
        "# Combine numerical and TF-IDF columns\n",
        "columns_to_scale = numerical_columns + tfidf_columns\n",
        "\n",
        "# Initialize scaler\n",
        "scaler = StandardScaler()\n",
        "\n",
        "# Scale the identified columns\n",
        "X_scaled = X.copy()\n",
        "X_scaled[columns_to_scale] = scaler.fit_transform(X[columns_to_scale])\n",
        "\n",
        "# Verify the scaling\n",
        "print(\"Scaled Features Description:\")\n",
        "print(X_scaled[columns_to_scale].describe())\n"
      ],
      "metadata": {
        "colab": {
          "base_uri": "https://localhost:8080/"
        },
        "id": "5ajopLOJ5gNq",
        "outputId": "af3e39bf-b029-4e6c-c4dc-11265c2dc41d"
      },
      "execution_count": 13,
      "outputs": [
        {
          "output_type": "stream",
          "name": "stdout",
          "text": [
            "Scaled Features Description:\n",
            "                Age  Stress_Frequency   Sleep_Hours   Device_Time  \\\n",
            "count  3.670000e+02      3.670000e+02  3.670000e+02  3.670000e+02   \n",
            "mean  -2.710517e-16      1.258454e-16 -7.744335e-17 -9.680419e-18   \n",
            "std    1.001365e+00      1.001365e+00  1.001365e+00  1.001365e+00   \n",
            "min   -1.559008e+00     -1.641978e+00 -2.259626e+00 -2.333550e+00   \n",
            "25%   -9.051154e-01     -8.603879e-01 -8.085626e-01 -6.300932e-01   \n",
            "50%   -2.512230e-01     -7.879790e-02 -8.303087e-02 -2.042291e-01   \n",
            "75%    7.296157e-01      7.027921e-01  6.425008e-01  8.604312e-01   \n",
            "max    2.037401e+00      1.875177e+00  2.093564e+00  1.499227e+00   \n",
            "\n",
            "       Stress_Sources_académique  Stress_Sources_charge  Stress_Sources_de  \\\n",
            "count               3.670000e+02           3.670000e+02         367.000000   \n",
            "mean               -7.986345e-17          -7.986345e-17           0.000000   \n",
            "std                 1.001365e+00           1.001365e+00           1.001365   \n",
            "min                -1.198249e+00          -1.198249e+00          -1.677446   \n",
            "25%                -1.198249e+00          -1.198249e+00          -0.335131   \n",
            "50%                 1.280240e-02           1.280240e-02           0.447287   \n",
            "75%                 8.393874e-01           8.393874e-01           0.539770   \n",
            "max                 1.346649e+00           1.346649e+00           1.091738   \n",
            "\n",
            "       Stress_Sources_financiers  Stress_Sources_mentale  Stress_Sources_ou  \\\n",
            "count               3.670000e+02            3.670000e+02       3.670000e+02   \n",
            "mean               -6.292272e-17            3.872167e-17       3.872167e-17   \n",
            "std                 1.001365e+00            1.001365e+00       1.001365e+00   \n",
            "min                -8.143330e-01           -6.110567e-01      -6.110567e-01   \n",
            "25%                -8.143330e-01           -6.110567e-01      -6.110567e-01   \n",
            "50%                -8.143330e-01           -6.110567e-01      -6.110567e-01   \n",
            "75%                 1.097984e+00            1.544334e+00       1.544334e+00   \n",
            "max                 1.407359e+00            1.780574e+00       1.780574e+00   \n",
            "\n",
            "       ...  Stress_Management_exercice  Stress_Management_famille  \\\n",
            "count  ...                3.670000e+02               3.670000e+02   \n",
            "mean   ...               -3.872167e-17              -1.089047e-16   \n",
            "std    ...                1.001365e+00               1.001365e+00   \n",
            "min    ...               -9.619072e-01              -1.222279e+00   \n",
            "25%    ...               -9.619072e-01              -1.222279e+00   \n",
            "50%    ...               -9.619072e-01               5.824274e-01   \n",
            "75%    ...                9.367080e-01               9.490088e-01   \n",
            "max    ...                1.243788e+00               1.004526e+00   \n",
            "\n",
            "       Stress_Management_films  Stress_Management_lecture  \\\n",
            "count             3.670000e+02               3.670000e+02   \n",
            "mean             -6.776293e-17              -6.776293e-17   \n",
            "std               1.001365e+00               1.001365e+00   \n",
            "min              -9.626652e-01              -9.626652e-01   \n",
            "25%              -9.626652e-01              -9.626652e-01   \n",
            "50%              -9.626652e-01              -9.626652e-01   \n",
            "75%               9.450953e-01               9.450953e-01   \n",
            "max               1.175863e+00               1.175863e+00   \n",
            "\n",
            "       Stress_Management_méditation  Stress_Management_personnels  \\\n",
            "count                  3.670000e+02                  3.670000e+02   \n",
            "mean                   6.776293e-17                 -6.776293e-17   \n",
            "std                    1.001365e+00                  1.001365e+00   \n",
            "min                   -8.554050e-01                 -9.626652e-01   \n",
            "25%                   -8.554050e-01                 -9.626652e-01   \n",
            "50%                   -8.554050e-01                 -9.626652e-01   \n",
            "75%                    1.023619e+00                  9.450953e-01   \n",
            "max                    1.383346e+00                  1.175863e+00   \n",
            "\n",
            "       Stress_Management_physique  Stress_Management_relaxation  \\\n",
            "count                3.670000e+02                  3.670000e+02   \n",
            "mean                -3.872167e-17                  6.776293e-17   \n",
            "std                  1.001365e+00                  1.001365e+00   \n",
            "min                 -9.619072e-01                 -8.554050e-01   \n",
            "25%                 -9.619072e-01                 -8.554050e-01   \n",
            "50%                 -9.619072e-01                 -8.554050e-01   \n",
            "75%                  9.367080e-01                  1.023619e+00   \n",
            "max                  1.243788e+00                  1.383346e+00   \n",
            "\n",
            "       Stress_Management_séries  Stress_Management_temps  \n",
            "count              3.670000e+02             3.670000e+02  \n",
            "mean              -6.776293e-17            -1.089047e-16  \n",
            "std                1.001365e+00             1.001365e+00  \n",
            "min               -9.626652e-01            -1.222279e+00  \n",
            "25%               -9.626652e-01            -1.222279e+00  \n",
            "50%               -9.626652e-01             5.824274e-01  \n",
            "75%                9.450953e-01             9.490088e-01  \n",
            "max                1.175863e+00             1.004526e+00  \n",
            "\n",
            "[8 rows x 46 columns]\n"
          ]
        }
      ]
    },
    {
      "cell_type": "code",
      "source": [
        "data.head()"
      ],
      "metadata": {
        "colab": {
          "base_uri": "https://localhost:8080/",
          "height": 255
        },
        "id": "pdWBHxIKBDZ-",
        "outputId": "2c005ee5-0af1-41ef-958b-ac414ba68140"
      },
      "execution_count": null,
      "outputs": [
        {
          "output_type": "execute_result",
          "data": {
            "text/plain": [
              "   Gender  Age  Is_UIR_Student  Stress_Frequency  Stress_Evaluation  \\\n",
              "0       0   21               1                 5                  4   \n",
              "1       0   22               1                 4                  5   \n",
              "2       1   24               1                 7                  4   \n",
              "3       0   20               1                 4                  1   \n",
              "4       0   21               1                 9                  2   \n",
              "\n",
              "   Sleep_Hours  Device_Time  Activity_Frequency  Study_Level_Doctorat  \\\n",
              "0            6           10                   3                 False   \n",
              "1            7            9                   1                 False   \n",
              "2            6            6                   3                 False   \n",
              "3            8            4                   0                 False   \n",
              "4            8            6                   2                 False   \n",
              "\n",
              "   Study_Level_Licence  ...  Stress_Management_exercice  \\\n",
              "0                False  ...                    0.000000   \n",
              "1                False  ...                    0.377087   \n",
              "2                 True  ...                    0.482208   \n",
              "3                False  ...                    0.415075   \n",
              "4                False  ...                    0.000000   \n",
              "\n",
              "   Stress_Management_famille  Stress_Management_films  \\\n",
              "0                   0.353030                 0.000000   \n",
              "1                   0.000000                 0.378315   \n",
              "2                   0.000000                 0.000000   \n",
              "3                   0.362057                 0.000000   \n",
              "4                   0.293428                 0.337491   \n",
              "\n",
              "   Stress_Management_lecture  Stress_Management_méditation  \\\n",
              "0                   0.000000                      0.434078   \n",
              "1                   0.378315                      0.000000   \n",
              "2                   0.000000                      0.517180   \n",
              "3                   0.000000                      0.000000   \n",
              "4                   0.337491                      0.000000   \n",
              "\n",
              "   Stress_Management_personnels  Stress_Management_physique  \\\n",
              "0                      0.000000                    0.000000   \n",
              "1                      0.378315                    0.377087   \n",
              "2                      0.000000                    0.482208   \n",
              "3                      0.000000                    0.415075   \n",
              "4                      0.337491                    0.000000   \n",
              "\n",
              "   Stress_Management_relaxation  Stress_Management_séries  \\\n",
              "0                      0.434078                  0.000000   \n",
              "1                      0.000000                  0.378315   \n",
              "2                      0.517180                  0.000000   \n",
              "3                      0.000000                  0.000000   \n",
              "4                      0.000000                  0.337491   \n",
              "\n",
              "   Stress_Management_temps  \n",
              "0                 0.353030  \n",
              "1                 0.000000  \n",
              "2                 0.000000  \n",
              "3                 0.362057  \n",
              "4                 0.293428  \n",
              "\n",
              "[5 rows x 58 columns]"
            ],
            "text/html": [
              "\n",
              "  <div id=\"df-7fc91930-ad1d-4da8-a354-93832ae961dc\" class=\"colab-df-container\">\n",
              "    <div>\n",
              "<style scoped>\n",
              "    .dataframe tbody tr th:only-of-type {\n",
              "        vertical-align: middle;\n",
              "    }\n",
              "\n",
              "    .dataframe tbody tr th {\n",
              "        vertical-align: top;\n",
              "    }\n",
              "\n",
              "    .dataframe thead th {\n",
              "        text-align: right;\n",
              "    }\n",
              "</style>\n",
              "<table border=\"1\" class=\"dataframe\">\n",
              "  <thead>\n",
              "    <tr style=\"text-align: right;\">\n",
              "      <th></th>\n",
              "      <th>Gender</th>\n",
              "      <th>Age</th>\n",
              "      <th>Is_UIR_Student</th>\n",
              "      <th>Stress_Frequency</th>\n",
              "      <th>Stress_Evaluation</th>\n",
              "      <th>Sleep_Hours</th>\n",
              "      <th>Device_Time</th>\n",
              "      <th>Activity_Frequency</th>\n",
              "      <th>Study_Level_Doctorat</th>\n",
              "      <th>Study_Level_Licence</th>\n",
              "      <th>...</th>\n",
              "      <th>Stress_Management_exercice</th>\n",
              "      <th>Stress_Management_famille</th>\n",
              "      <th>Stress_Management_films</th>\n",
              "      <th>Stress_Management_lecture</th>\n",
              "      <th>Stress_Management_méditation</th>\n",
              "      <th>Stress_Management_personnels</th>\n",
              "      <th>Stress_Management_physique</th>\n",
              "      <th>Stress_Management_relaxation</th>\n",
              "      <th>Stress_Management_séries</th>\n",
              "      <th>Stress_Management_temps</th>\n",
              "    </tr>\n",
              "  </thead>\n",
              "  <tbody>\n",
              "    <tr>\n",
              "      <th>0</th>\n",
              "      <td>0</td>\n",
              "      <td>21</td>\n",
              "      <td>1</td>\n",
              "      <td>5</td>\n",
              "      <td>4</td>\n",
              "      <td>6</td>\n",
              "      <td>10</td>\n",
              "      <td>3</td>\n",
              "      <td>False</td>\n",
              "      <td>False</td>\n",
              "      <td>...</td>\n",
              "      <td>0.000000</td>\n",
              "      <td>0.353030</td>\n",
              "      <td>0.000000</td>\n",
              "      <td>0.000000</td>\n",
              "      <td>0.434078</td>\n",
              "      <td>0.000000</td>\n",
              "      <td>0.000000</td>\n",
              "      <td>0.434078</td>\n",
              "      <td>0.000000</td>\n",
              "      <td>0.353030</td>\n",
              "    </tr>\n",
              "    <tr>\n",
              "      <th>1</th>\n",
              "      <td>0</td>\n",
              "      <td>22</td>\n",
              "      <td>1</td>\n",
              "      <td>4</td>\n",
              "      <td>5</td>\n",
              "      <td>7</td>\n",
              "      <td>9</td>\n",
              "      <td>1</td>\n",
              "      <td>False</td>\n",
              "      <td>False</td>\n",
              "      <td>...</td>\n",
              "      <td>0.377087</td>\n",
              "      <td>0.000000</td>\n",
              "      <td>0.378315</td>\n",
              "      <td>0.378315</td>\n",
              "      <td>0.000000</td>\n",
              "      <td>0.378315</td>\n",
              "      <td>0.377087</td>\n",
              "      <td>0.000000</td>\n",
              "      <td>0.378315</td>\n",
              "      <td>0.000000</td>\n",
              "    </tr>\n",
              "    <tr>\n",
              "      <th>2</th>\n",
              "      <td>1</td>\n",
              "      <td>24</td>\n",
              "      <td>1</td>\n",
              "      <td>7</td>\n",
              "      <td>4</td>\n",
              "      <td>6</td>\n",
              "      <td>6</td>\n",
              "      <td>3</td>\n",
              "      <td>False</td>\n",
              "      <td>True</td>\n",
              "      <td>...</td>\n",
              "      <td>0.482208</td>\n",
              "      <td>0.000000</td>\n",
              "      <td>0.000000</td>\n",
              "      <td>0.000000</td>\n",
              "      <td>0.517180</td>\n",
              "      <td>0.000000</td>\n",
              "      <td>0.482208</td>\n",
              "      <td>0.517180</td>\n",
              "      <td>0.000000</td>\n",
              "      <td>0.000000</td>\n",
              "    </tr>\n",
              "    <tr>\n",
              "      <th>3</th>\n",
              "      <td>0</td>\n",
              "      <td>20</td>\n",
              "      <td>1</td>\n",
              "      <td>4</td>\n",
              "      <td>1</td>\n",
              "      <td>8</td>\n",
              "      <td>4</td>\n",
              "      <td>0</td>\n",
              "      <td>False</td>\n",
              "      <td>False</td>\n",
              "      <td>...</td>\n",
              "      <td>0.415075</td>\n",
              "      <td>0.362057</td>\n",
              "      <td>0.000000</td>\n",
              "      <td>0.000000</td>\n",
              "      <td>0.000000</td>\n",
              "      <td>0.000000</td>\n",
              "      <td>0.415075</td>\n",
              "      <td>0.000000</td>\n",
              "      <td>0.000000</td>\n",
              "      <td>0.362057</td>\n",
              "    </tr>\n",
              "    <tr>\n",
              "      <th>4</th>\n",
              "      <td>0</td>\n",
              "      <td>21</td>\n",
              "      <td>1</td>\n",
              "      <td>9</td>\n",
              "      <td>2</td>\n",
              "      <td>8</td>\n",
              "      <td>6</td>\n",
              "      <td>2</td>\n",
              "      <td>False</td>\n",
              "      <td>False</td>\n",
              "      <td>...</td>\n",
              "      <td>0.000000</td>\n",
              "      <td>0.293428</td>\n",
              "      <td>0.337491</td>\n",
              "      <td>0.337491</td>\n",
              "      <td>0.000000</td>\n",
              "      <td>0.337491</td>\n",
              "      <td>0.000000</td>\n",
              "      <td>0.000000</td>\n",
              "      <td>0.337491</td>\n",
              "      <td>0.293428</td>\n",
              "    </tr>\n",
              "  </tbody>\n",
              "</table>\n",
              "<p>5 rows × 58 columns</p>\n",
              "</div>\n",
              "    <div class=\"colab-df-buttons\">\n",
              "\n",
              "  <div class=\"colab-df-container\">\n",
              "    <button class=\"colab-df-convert\" onclick=\"convertToInteractive('df-7fc91930-ad1d-4da8-a354-93832ae961dc')\"\n",
              "            title=\"Convert this dataframe to an interactive table.\"\n",
              "            style=\"display:none;\">\n",
              "\n",
              "  <svg xmlns=\"http://www.w3.org/2000/svg\" height=\"24px\" viewBox=\"0 -960 960 960\">\n",
              "    <path d=\"M120-120v-720h720v720H120Zm60-500h600v-160H180v160Zm220 220h160v-160H400v160Zm0 220h160v-160H400v160ZM180-400h160v-160H180v160Zm440 0h160v-160H620v160ZM180-180h160v-160H180v160Zm440 0h160v-160H620v160Z\"/>\n",
              "  </svg>\n",
              "    </button>\n",
              "\n",
              "  <style>\n",
              "    .colab-df-container {\n",
              "      display:flex;\n",
              "      gap: 12px;\n",
              "    }\n",
              "\n",
              "    .colab-df-convert {\n",
              "      background-color: #E8F0FE;\n",
              "      border: none;\n",
              "      border-radius: 50%;\n",
              "      cursor: pointer;\n",
              "      display: none;\n",
              "      fill: #1967D2;\n",
              "      height: 32px;\n",
              "      padding: 0 0 0 0;\n",
              "      width: 32px;\n",
              "    }\n",
              "\n",
              "    .colab-df-convert:hover {\n",
              "      background-color: #E2EBFA;\n",
              "      box-shadow: 0px 1px 2px rgba(60, 64, 67, 0.3), 0px 1px 3px 1px rgba(60, 64, 67, 0.15);\n",
              "      fill: #174EA6;\n",
              "    }\n",
              "\n",
              "    .colab-df-buttons div {\n",
              "      margin-bottom: 4px;\n",
              "    }\n",
              "\n",
              "    [theme=dark] .colab-df-convert {\n",
              "      background-color: #3B4455;\n",
              "      fill: #D2E3FC;\n",
              "    }\n",
              "\n",
              "    [theme=dark] .colab-df-convert:hover {\n",
              "      background-color: #434B5C;\n",
              "      box-shadow: 0px 1px 3px 1px rgba(0, 0, 0, 0.15);\n",
              "      filter: drop-shadow(0px 1px 2px rgba(0, 0, 0, 0.3));\n",
              "      fill: #FFFFFF;\n",
              "    }\n",
              "  </style>\n",
              "\n",
              "    <script>\n",
              "      const buttonEl =\n",
              "        document.querySelector('#df-7fc91930-ad1d-4da8-a354-93832ae961dc button.colab-df-convert');\n",
              "      buttonEl.style.display =\n",
              "        google.colab.kernel.accessAllowed ? 'block' : 'none';\n",
              "\n",
              "      async function convertToInteractive(key) {\n",
              "        const element = document.querySelector('#df-7fc91930-ad1d-4da8-a354-93832ae961dc');\n",
              "        const dataTable =\n",
              "          await google.colab.kernel.invokeFunction('convertToInteractive',\n",
              "                                                    [key], {});\n",
              "        if (!dataTable) return;\n",
              "\n",
              "        const docLinkHtml = 'Like what you see? Visit the ' +\n",
              "          '<a target=\"_blank\" href=https://colab.research.google.com/notebooks/data_table.ipynb>data table notebook</a>'\n",
              "          + ' to learn more about interactive tables.';\n",
              "        element.innerHTML = '';\n",
              "        dataTable['output_type'] = 'display_data';\n",
              "        await google.colab.output.renderOutput(dataTable, element);\n",
              "        const docLink = document.createElement('div');\n",
              "        docLink.innerHTML = docLinkHtml;\n",
              "        element.appendChild(docLink);\n",
              "      }\n",
              "    </script>\n",
              "  </div>\n",
              "\n",
              "\n",
              "<div id=\"df-a14376f2-68bb-4eee-93ae-f6a2237d08bb\">\n",
              "  <button class=\"colab-df-quickchart\" onclick=\"quickchart('df-a14376f2-68bb-4eee-93ae-f6a2237d08bb')\"\n",
              "            title=\"Suggest charts\"\n",
              "            style=\"display:none;\">\n",
              "\n",
              "<svg xmlns=\"http://www.w3.org/2000/svg\" height=\"24px\"viewBox=\"0 0 24 24\"\n",
              "     width=\"24px\">\n",
              "    <g>\n",
              "        <path d=\"M19 3H5c-1.1 0-2 .9-2 2v14c0 1.1.9 2 2 2h14c1.1 0 2-.9 2-2V5c0-1.1-.9-2-2-2zM9 17H7v-7h2v7zm4 0h-2V7h2v10zm4 0h-2v-4h2v4z\"/>\n",
              "    </g>\n",
              "</svg>\n",
              "  </button>\n",
              "\n",
              "<style>\n",
              "  .colab-df-quickchart {\n",
              "      --bg-color: #E8F0FE;\n",
              "      --fill-color: #1967D2;\n",
              "      --hover-bg-color: #E2EBFA;\n",
              "      --hover-fill-color: #174EA6;\n",
              "      --disabled-fill-color: #AAA;\n",
              "      --disabled-bg-color: #DDD;\n",
              "  }\n",
              "\n",
              "  [theme=dark] .colab-df-quickchart {\n",
              "      --bg-color: #3B4455;\n",
              "      --fill-color: #D2E3FC;\n",
              "      --hover-bg-color: #434B5C;\n",
              "      --hover-fill-color: #FFFFFF;\n",
              "      --disabled-bg-color: #3B4455;\n",
              "      --disabled-fill-color: #666;\n",
              "  }\n",
              "\n",
              "  .colab-df-quickchart {\n",
              "    background-color: var(--bg-color);\n",
              "    border: none;\n",
              "    border-radius: 50%;\n",
              "    cursor: pointer;\n",
              "    display: none;\n",
              "    fill: var(--fill-color);\n",
              "    height: 32px;\n",
              "    padding: 0;\n",
              "    width: 32px;\n",
              "  }\n",
              "\n",
              "  .colab-df-quickchart:hover {\n",
              "    background-color: var(--hover-bg-color);\n",
              "    box-shadow: 0 1px 2px rgba(60, 64, 67, 0.3), 0 1px 3px 1px rgba(60, 64, 67, 0.15);\n",
              "    fill: var(--button-hover-fill-color);\n",
              "  }\n",
              "\n",
              "  .colab-df-quickchart-complete:disabled,\n",
              "  .colab-df-quickchart-complete:disabled:hover {\n",
              "    background-color: var(--disabled-bg-color);\n",
              "    fill: var(--disabled-fill-color);\n",
              "    box-shadow: none;\n",
              "  }\n",
              "\n",
              "  .colab-df-spinner {\n",
              "    border: 2px solid var(--fill-color);\n",
              "    border-color: transparent;\n",
              "    border-bottom-color: var(--fill-color);\n",
              "    animation:\n",
              "      spin 1s steps(1) infinite;\n",
              "  }\n",
              "\n",
              "  @keyframes spin {\n",
              "    0% {\n",
              "      border-color: transparent;\n",
              "      border-bottom-color: var(--fill-color);\n",
              "      border-left-color: var(--fill-color);\n",
              "    }\n",
              "    20% {\n",
              "      border-color: transparent;\n",
              "      border-left-color: var(--fill-color);\n",
              "      border-top-color: var(--fill-color);\n",
              "    }\n",
              "    30% {\n",
              "      border-color: transparent;\n",
              "      border-left-color: var(--fill-color);\n",
              "      border-top-color: var(--fill-color);\n",
              "      border-right-color: var(--fill-color);\n",
              "    }\n",
              "    40% {\n",
              "      border-color: transparent;\n",
              "      border-right-color: var(--fill-color);\n",
              "      border-top-color: var(--fill-color);\n",
              "    }\n",
              "    60% {\n",
              "      border-color: transparent;\n",
              "      border-right-color: var(--fill-color);\n",
              "    }\n",
              "    80% {\n",
              "      border-color: transparent;\n",
              "      border-right-color: var(--fill-color);\n",
              "      border-bottom-color: var(--fill-color);\n",
              "    }\n",
              "    90% {\n",
              "      border-color: transparent;\n",
              "      border-bottom-color: var(--fill-color);\n",
              "    }\n",
              "  }\n",
              "</style>\n",
              "\n",
              "  <script>\n",
              "    async function quickchart(key) {\n",
              "      const quickchartButtonEl =\n",
              "        document.querySelector('#' + key + ' button');\n",
              "      quickchartButtonEl.disabled = true;  // To prevent multiple clicks.\n",
              "      quickchartButtonEl.classList.add('colab-df-spinner');\n",
              "      try {\n",
              "        const charts = await google.colab.kernel.invokeFunction(\n",
              "            'suggestCharts', [key], {});\n",
              "      } catch (error) {\n",
              "        console.error('Error during call to suggestCharts:', error);\n",
              "      }\n",
              "      quickchartButtonEl.classList.remove('colab-df-spinner');\n",
              "      quickchartButtonEl.classList.add('colab-df-quickchart-complete');\n",
              "    }\n",
              "    (() => {\n",
              "      let quickchartButtonEl =\n",
              "        document.querySelector('#df-a14376f2-68bb-4eee-93ae-f6a2237d08bb button');\n",
              "      quickchartButtonEl.style.display =\n",
              "        google.colab.kernel.accessAllowed ? 'block' : 'none';\n",
              "    })();\n",
              "  </script>\n",
              "</div>\n",
              "\n",
              "    </div>\n",
              "  </div>\n"
            ],
            "application/vnd.google.colaboratory.intrinsic+json": {
              "type": "dataframe",
              "variable_name": "data"
            }
          },
          "metadata": {},
          "execution_count": 14
        }
      ]
    },
    {
      "source": [
        "from sklearn.model_selection import train_test_split\n",
        "from sklearn.linear_model import Ridge\n",
        "from sklearn.discriminant_analysis import LinearDiscriminantAnalysis\n",
        "from sklearn.linear_model import LinearRegression\n",
        "from sklearn.linear_model import LogisticRegression\n",
        "from sklearn.ensemble import RandomForestClassifier, RandomForestRegressor\n",
        "from sklearn.metrics import classification_report, accuracy_score, precision_score, recall_score, f1_score, mean_squared_error, r2_score\n",
        "import pandas as pd\n",
        "from sklearn.metrics import confusion_matrix, classification_report, accuracy_score, precision_score, recall_score, f1_score\n",
        "import seaborn as sns\n",
        "import matplotlib.pyplot as plt"
      ],
      "cell_type": "code",
      "metadata": {
        "id": "s74CRf1z8kl2"
      },
      "execution_count": 14,
      "outputs": []
    },
    {
      "source": [
        "# Step 1: Prepare features (X) and target (y)\n",
        "X = data.drop(columns=[\"Stress_Evaluation\"])  # Exclude the target variable\n",
        "y = data[\"Stress_Evaluation\"]  # Define the target variable\n",
        "\n",
        "# Step 2: Split data into training and testing sets\n",
        "X_train, X_test, y_train, y_test = train_test_split(X, y, test_size=0.2, random_state=42)"
      ],
      "cell_type": "code",
      "metadata": {
        "id": "TIBB6grp8ndZ"
      },
      "execution_count": 15,
      "outputs": []
    },
    {
      "cell_type": "markdown",
      "source": [
        "**X:** Contains all the features (independent variables) that will be used to make predictions.\n",
        "\n",
        "**y:** Contains the target variable (dependent variable) that you want to predict."
      ],
      "metadata": {
        "id": "ykysmeggIPz8"
      }
    },
    {
      "cell_type": "markdown",
      "source": [
        "## **Training models using 1 feature:**"
      ],
      "metadata": {
        "id": "nMQH4L3Rkm0x"
      }
    },
    {
      "cell_type": "markdown",
      "source": [
        "### **Case 1: Sleep Hours as Feature, Stress Evaluation as Target**\n",
        "\n"
      ],
      "metadata": {
        "id": "Gk8dRsrP37ZI"
      }
    },
    {
      "cell_type": "markdown",
      "source": [
        "**K-Nearest Neighbors (KNN)**"
      ],
      "metadata": {
        "id": "gPUFckqizHuo"
      }
    },
    {
      "cell_type": "code",
      "source": [
        "# =========================\n",
        "# K-Nearest Neighbors (KNN)\n",
        "# =========================\n",
        "from sklearn.neighbors import KNeighborsClassifier\n",
        "from sklearn.metrics import accuracy_score, precision_score, recall_score, f1_score\n",
        "\n",
        "# Select feature and target\n",
        "X_train_sleep = X_train[['Sleep_Hours']]\n",
        "X_test_sleep = X_test[['Sleep_Hours']]\n",
        "\n",
        "# Initialize and train KNN model\n",
        "knn = KNeighborsClassifier(n_neighbors=5)  # You can adjust n_neighbors\n",
        "knn.fit(X_train_sleep, y_train)\n",
        "\n",
        "# Make predictions\n",
        "y_pred_knn_sleep = knn.predict(X_test_sleep)\n",
        "\n",
        "# Evaluate the model\n",
        "print(\"KNN (Sleep Hours) Evaluation:\")\n",
        "print(f\"Accuracy:  {accuracy_score(y_test, y_pred_knn_sleep):.4f}\")\n",
        "print(f\"Precision: {precision_score(y_test, y_pred_knn_sleep, average='macro'):.4f}\")\n",
        "print(f\"Recall:    {recall_score(y_test, y_pred_knn_sleep, average='macro'):.4f}\")\n",
        "print(f\"F1-Score:  {f1_score(y_test, y_pred_knn_sleep, average='macro'):.4f}\")\n"
      ],
      "metadata": {
        "colab": {
          "base_uri": "https://localhost:8080/"
        },
        "id": "VSD5U94Dy1sg",
        "outputId": "e385ee56-5581-4c54-d235-a41a7aeabaca"
      },
      "execution_count": 28,
      "outputs": [
        {
          "output_type": "stream",
          "name": "stdout",
          "text": [
            "KNN (Sleep Hours) Evaluation:\n",
            "Accuracy:  0.3649\n",
            "Precision: 0.3052\n",
            "Recall:    0.3956\n",
            "F1-Score:  0.3075\n"
          ]
        },
        {
          "output_type": "stream",
          "name": "stderr",
          "text": [
            "/usr/local/lib/python3.10/dist-packages/sklearn/metrics/_classification.py:1565: UndefinedMetricWarning: Precision is ill-defined and being set to 0.0 in labels with no predicted samples. Use `zero_division` parameter to control this behavior.\n",
            "  _warn_prf(average, modifier, f\"{metric.capitalize()} is\", len(result))\n"
          ]
        }
      ]
    },
    {
      "cell_type": "markdown",
      "source": [
        "**Interpretation:**\n",
        "\n",
        "The KNN model achieves about 36% accuracy using only Sleep_Hours, indicating limited predictive power. Its precision (31%) suggests that when it predicts a stress level, it’s correct roughly a third of the time, while a recall of 40% shows it catches less than half of actual cases. The resulting F1-score (31%) reflects a modest balance between precision and recall, highlighting that Sleep_Hours alone is insufficient to robustly distinguish between different stress levels."
      ],
      "metadata": {
        "id": "bl8tTwZS2wHl"
      }
    },
    {
      "cell_type": "markdown",
      "source": [
        "**Logistic Regression**"
      ],
      "metadata": {
        "id": "DJrU1P2_zD4O"
      }
    },
    {
      "cell_type": "code",
      "source": [
        "# Select feature and target\n",
        "X_train_sleep = X_train[['Sleep_Hours']]\n",
        "X_test_sleep = X_test[['Sleep_Hours']]\n",
        "\n",
        "# Train Logistic Regression model\n",
        "logreg = LogisticRegression(random_state=42, max_iter=1000)\n",
        "logreg.fit(X_train_sleep, y_train)\n",
        "\n",
        "# Make predictions\n",
        "y_pred_logreg_sleep = logreg.predict(X_test_sleep)\n",
        "\n",
        "# Evaluate the model\n",
        "print(\"\\nLogistic Regression (Sleep Hours) Evaluation:\")\n",
        "print(f\"Accuracy: {accuracy_score(y_test, y_pred_logreg_sleep):.4f}\")\n",
        "print(f\"Precision: {precision_score(y_test, y_pred_logreg_sleep, average='macro'):.4f}\")\n",
        "print(f\"Recall: {recall_score(y_test, y_pred_logreg_sleep, average='macro'):.4f}\")\n",
        "print(f\"F1-Score: {f1_score(y_test, y_pred_logreg_sleep, average='macro'):.4f}\")\n"
      ],
      "metadata": {
        "colab": {
          "base_uri": "https://localhost:8080/"
        },
        "id": "7lZs0vQj0I9V",
        "outputId": "02640cd7-17dd-4643-cd36-172f5130d973"
      },
      "execution_count": 16,
      "outputs": [
        {
          "output_type": "stream",
          "name": "stdout",
          "text": [
            "\n",
            "Logistic Regression (Sleep Hours) Evaluation:\n",
            "Accuracy: 0.3919\n",
            "Precision: 0.3068\n",
            "Recall: 0.3618\n",
            "F1-Score: 0.3249\n"
          ]
        },
        {
          "output_type": "stream",
          "name": "stderr",
          "text": [
            "/usr/local/lib/python3.10/dist-packages/sklearn/metrics/_classification.py:1565: UndefinedMetricWarning: Precision is ill-defined and being set to 0.0 in labels with no predicted samples. Use `zero_division` parameter to control this behavior.\n",
            "  _warn_prf(average, modifier, f\"{metric.capitalize()} is\", len(result))\n"
          ]
        }
      ]
    },
    {
      "cell_type": "markdown",
      "source": [
        "- Low Accuracy: The model achieves an accuracy of only 39.19%, suggesting it struggles to make correct predictions based solely on Sleep Hours.\n",
        "\n",
        "Using only Sleep Hours as a feature provides insufficient predictive power for this task. Including more features or addressing potential non-linear relationships could improve the model's performance."
      ],
      "metadata": {
        "id": "WZ9wSe4R-IuC"
      }
    },
    {
      "cell_type": "markdown",
      "source": [
        "**Linear Discriminant Analysis (LDA)**"
      ],
      "metadata": {
        "id": "C9tN_dzM4RDU"
      }
    },
    {
      "cell_type": "code",
      "source": [
        "# Train LDA model\n",
        "lda = LinearDiscriminantAnalysis()\n",
        "lda.fit(X_train_sleep, y_train)\n",
        "\n",
        "# Make predictions\n",
        "y_pred_lda_sleep = lda.predict(X_test_sleep)\n",
        "\n",
        "# Evaluate the model\n",
        "print(\"\\nLDA (Sleep Hours) Evaluation:\")\n",
        "print(f\"Accuracy: {accuracy_score(y_test, y_pred_lda_sleep):.4f}\")\n",
        "print(f\"Precision: {precision_score(y_test, y_pred_lda_sleep, average='macro'):.4f}\")\n",
        "print(f\"Recall: {recall_score(y_test, y_pred_lda_sleep, average='macro'):.4f}\")\n",
        "print(f\"F1-Score: {f1_score(y_test, y_pred_lda_sleep, average='macro'):.4f}\")\n"
      ],
      "metadata": {
        "colab": {
          "base_uri": "https://localhost:8080/"
        },
        "id": "vTA7m0uT0jW4",
        "outputId": "318c3ecb-1157-4054-b3ba-147edabb6db3"
      },
      "execution_count": 17,
      "outputs": [
        {
          "output_type": "stream",
          "name": "stdout",
          "text": [
            "\n",
            "LDA (Sleep Hours) Evaluation:\n",
            "Accuracy: 0.3919\n",
            "Precision: 0.3068\n",
            "Recall: 0.3618\n",
            "F1-Score: 0.3249\n"
          ]
        },
        {
          "output_type": "stream",
          "name": "stderr",
          "text": [
            "/usr/local/lib/python3.10/dist-packages/sklearn/metrics/_classification.py:1565: UndefinedMetricWarning: Precision is ill-defined and being set to 0.0 in labels with no predicted samples. Use `zero_division` parameter to control this behavior.\n",
            "  _warn_prf(average, modifier, f\"{metric.capitalize()} is\", len(result))\n"
          ]
        }
      ]
    },
    {
      "cell_type": "markdown",
      "source": [
        "- Low Accuracy: The accuracy remains at 39.19%, indicating that Sleep Hours alone is insufficient to accurately predict the target variable using LDA.\n",
        "\n",
        "Like Logistic Regression, LDA struggles to make accurate predictions when relying only on Sleep Hours. Adding more features or using feature interactions could improve the model's predictive capability."
      ],
      "metadata": {
        "id": "1rR-IZSK-U_G"
      }
    },
    {
      "cell_type": "markdown",
      "source": [
        "**Random Forest Classifier**"
      ],
      "metadata": {
        "id": "_mtGUmQF4Uv0"
      }
    },
    {
      "cell_type": "code",
      "source": [
        "# Train Random Forest Classifier\n",
        "rf_classifier = RandomForestClassifier(random_state=42)\n",
        "rf_classifier.fit(X_train_sleep, y_train)\n",
        "\n",
        "# Make predictions\n",
        "y_pred_rf_sleep = rf_classifier.predict(X_test_sleep)\n",
        "\n",
        "# Evaluate the model\n",
        "print(\"\\nRandom Forest (Sleep Hours) Evaluation:\")\n",
        "print(f\"Accuracy: {accuracy_score(y_test, y_pred_rf_sleep):.4f}\")\n",
        "print(f\"Precision: {precision_score(y_test, y_pred_rf_sleep, average='macro'):.4f}\")\n",
        "print(f\"Recall: {recall_score(y_test, y_pred_rf_sleep, average='macro'):.4f}\")\n",
        "print(f\"F1-Score: {f1_score(y_test, y_pred_rf_sleep, average='macro'):.4f}\")\n"
      ],
      "metadata": {
        "colab": {
          "base_uri": "https://localhost:8080/"
        },
        "id": "OsYsfAC-0l_i",
        "outputId": "683dab05-c911-41a3-86e6-3d9691dad1c4"
      },
      "execution_count": 18,
      "outputs": [
        {
          "output_type": "stream",
          "name": "stdout",
          "text": [
            "\n",
            "Random Forest (Sleep Hours) Evaluation:\n",
            "Accuracy: 0.3919\n",
            "Precision: 0.3313\n",
            "Recall: 0.3261\n",
            "F1-Score: 0.3060\n"
          ]
        },
        {
          "output_type": "stream",
          "name": "stderr",
          "text": [
            "/usr/local/lib/python3.10/dist-packages/sklearn/metrics/_classification.py:1565: UndefinedMetricWarning: Precision is ill-defined and being set to 0.0 in labels with no predicted samples. Use `zero_division` parameter to control this behavior.\n",
            "  _warn_prf(average, modifier, f\"{metric.capitalize()} is\", len(result))\n"
          ]
        }
      ]
    },
    {
      "cell_type": "markdown",
      "source": [
        "Although Random Forest performs marginally better than Logistic Regression and LDA in terms of precision, it still struggles due to the limited information provided by Sleep Hours alone. Incorporating additional features would likely improve the performance."
      ],
      "metadata": {
        "id": "LVS8-d8c-jc-"
      }
    },
    {
      "cell_type": "markdown",
      "source": [
        "**Support Vector Machine (SVM)**"
      ],
      "metadata": {
        "id": "T64KquGFzNaA"
      }
    },
    {
      "cell_type": "code",
      "source": [
        "# =========================\n",
        "# Support Vector Machine (SVM)\n",
        "# =========================\n",
        "from sklearn.svm import SVC\n",
        "from sklearn.metrics import accuracy_score, precision_score, recall_score, f1_score\n",
        "\n",
        "# Select feature and target\n",
        "X_train_sleep = X_train[['Sleep_Hours']]\n",
        "X_test_sleep = X_test[['Sleep_Hours']]\n",
        "\n",
        "# Initialize and train SVM model\n",
        "svm_model = SVC(random_state=42, kernel='rbf')  # You can try different kernels (e.g., 'linear', 'poly', etc.)\n",
        "svm_model.fit(X_train_sleep, y_train)\n",
        "\n",
        "# Make predictions\n",
        "y_pred_svm_sleep = svm_model.predict(X_test_sleep)\n",
        "\n",
        "# Evaluate the model\n",
        "print(\"SVM (Sleep Hours) Evaluation:\")\n",
        "print(f\"Accuracy:  {accuracy_score(y_test, y_pred_svm_sleep):.4f}\")\n",
        "print(f\"Precision: {precision_score(y_test, y_pred_svm_sleep, average='macro'):.4f}\")\n",
        "print(f\"Recall:    {recall_score(y_test, y_pred_svm_sleep, average='macro'):.4f}\")\n",
        "print(f\"F1-Score:  {f1_score(y_test, y_pred_svm_sleep, average='macro'):.4f}\")\n"
      ],
      "metadata": {
        "colab": {
          "base_uri": "https://localhost:8080/"
        },
        "id": "HhSkND_uy5yb",
        "outputId": "c6c76eb5-3622-43dc-fea9-90946ce42bc5"
      },
      "execution_count": 29,
      "outputs": [
        {
          "output_type": "stream",
          "name": "stdout",
          "text": [
            "SVM (Sleep Hours) Evaluation:\n",
            "Accuracy:  0.3919\n",
            "Precision: 0.3313\n",
            "Recall:    0.3261\n",
            "F1-Score:  0.3060\n"
          ]
        },
        {
          "output_type": "stream",
          "name": "stderr",
          "text": [
            "/usr/local/lib/python3.10/dist-packages/sklearn/metrics/_classification.py:1565: UndefinedMetricWarning: Precision is ill-defined and being set to 0.0 in labels with no predicted samples. Use `zero_division` parameter to control this behavior.\n",
            "  _warn_prf(average, modifier, f\"{metric.capitalize()} is\", len(result))\n"
          ]
        }
      ]
    },
    {
      "cell_type": "markdown",
      "source": [
        "**Interpretation:**\n",
        "The SVM model achieves around 39% accuracy using only Sleep_Hours, with a precision of 33% and recall of 33%. Its F1-score of 31% indicates a modest balance between precision and recall, suggesting that Sleep_Hours alone provides limited insight for predicting stress levels."
      ],
      "metadata": {
        "id": "E-_zVXNb3hVS"
      }
    },
    {
      "cell_type": "markdown",
      "source": [
        "### **Case 2: Device Time as Feature, Stress Evaluation as Target**\n",
        "\n"
      ],
      "metadata": {
        "id": "I_JvRjWn4coA"
      }
    },
    {
      "cell_type": "markdown",
      "source": [
        "**K-Nearest Neighbors (KNN)**"
      ],
      "metadata": {
        "id": "z_8vG-w96MkC"
      }
    },
    {
      "cell_type": "code",
      "source": [
        "from sklearn.neighbors import KNeighborsClassifier\n",
        "from sklearn.metrics import accuracy_score, precision_score, recall_score, f1_score\n",
        "\n",
        "# Select feature and target\n",
        "X_train_device = X_train[['Device_Time']]\n",
        "X_test_device = X_test[['Device_Time']]\n",
        "\n",
        "# Initialize and train KNN model\n",
        "knn_device = KNeighborsClassifier(n_neighbors=5)  # You can tune n_neighbors\n",
        "knn_device.fit(X_train_device, y_train)\n",
        "\n",
        "# Make predictions\n",
        "y_pred_knn_device = knn_device.predict(X_test_device)\n",
        "\n",
        "# Evaluate the model\n",
        "print(\"KNN (Device Time) Evaluation:\")\n",
        "print(f\"Accuracy:  {accuracy_score(y_test, y_pred_knn_device):.4f}\")\n",
        "print(f\"Precision: {precision_score(y_test, y_pred_knn_device, average='macro'):.4f}\")\n",
        "print(f\"Recall:    {recall_score(y_test, y_pred_knn_device, average='macro'):.4f}\")\n",
        "print(f\"F1-Score:  {f1_score(y_test, y_pred_knn_device, average='macro'):.4f}\")"
      ],
      "metadata": {
        "colab": {
          "base_uri": "https://localhost:8080/"
        },
        "id": "eAveOLe96Vd6",
        "outputId": "cedfa276-7d9c-46b1-db11-2a36f775aa0d"
      },
      "execution_count": 30,
      "outputs": [
        {
          "output_type": "stream",
          "name": "stdout",
          "text": [
            "KNN (Device Time) Evaluation:\n",
            "Accuracy:  0.3108\n",
            "Precision: 0.2958\n",
            "Recall:    0.2550\n",
            "F1-Score:  0.2700\n"
          ]
        }
      ]
    },
    {
      "cell_type": "markdown",
      "source": [
        "**Interpretation:**\n",
        "\n",
        "With only Device_Time as the predictor, KNN correctly classifies about 31% of instances. Its precision (30%) indicates that roughly a third of the predicted stress levels are correct, while recall (26%) shows it fails to capture most true cases. The 27% F1-score highlights that device usage alone provides limited insight into a student’s stress level."
      ],
      "metadata": {
        "id": "OW2dMsX26i8A"
      }
    },
    {
      "cell_type": "markdown",
      "source": [
        "**Logistic Regression**"
      ],
      "metadata": {
        "id": "swPfHTbr6KiM"
      }
    },
    {
      "cell_type": "code",
      "source": [
        "# Select feature and target\n",
        "X_train_device = X_train[['Device_Time']]\n",
        "X_test_device = X_test[['Device_Time']]\n",
        "\n",
        "# Train Logistic Regression model\n",
        "logreg = LogisticRegression(random_state=42, max_iter=1000)\n",
        "logreg.fit(X_train_device, y_train)\n",
        "\n",
        "# Make predictions\n",
        "y_pred_logreg_device = logreg.predict(X_test_device)\n",
        "\n",
        "# Evaluate the model\n",
        "print(\"\\nLogistic Regression (Device Time) Evaluation:\")\n",
        "print(f\"Accuracy: {accuracy_score(y_test, y_pred_logreg_device):.4f}\")\n",
        "print(f\"Precision: {precision_score(y_test, y_pred_logreg_device, average='macro'):.4f}\")\n",
        "print(f\"Recall: {recall_score(y_test, y_pred_logreg_device, average='macro'):.4f}\")\n",
        "print(f\"F1-Score: {f1_score(y_test, y_pred_logreg_device, average='macro'):.4f}\")\n"
      ],
      "metadata": {
        "colab": {
          "base_uri": "https://localhost:8080/"
        },
        "id": "stxb909p0qBr",
        "outputId": "0c912322-93de-4a5f-81ce-de865360128c"
      },
      "execution_count": 19,
      "outputs": [
        {
          "output_type": "stream",
          "name": "stdout",
          "text": [
            "\n",
            "Logistic Regression (Device Time) Evaluation:\n",
            "Accuracy: 0.4054\n",
            "Precision: 0.3211\n",
            "Recall: 0.3543\n",
            "F1-Score: 0.3357\n"
          ]
        }
      ]
    },
    {
      "cell_type": "markdown",
      "source": [
        "Using Device Time as the sole feature slightly improves the model's performance compared to Sleep Hours, but it is still insufficient for reliable predictions. Adding more features or exploring feature interactions could enhance accuracy and other metrics.\n",
        "\n",
        "\n",
        "\n",
        "\n",
        "\n",
        "\n"
      ],
      "metadata": {
        "id": "2NL4TUu9-tDM"
      }
    },
    {
      "cell_type": "markdown",
      "source": [
        "**Linear Discriminant Analysis (LDA)**"
      ],
      "metadata": {
        "id": "pZ-Qh3Lo4kwY"
      }
    },
    {
      "cell_type": "code",
      "source": [
        "# Train LDA model\n",
        "lda = LinearDiscriminantAnalysis()\n",
        "lda.fit(X_train_device, y_train)\n",
        "\n",
        "# Make predictions\n",
        "y_pred_lda_device = lda.predict(X_test_device)\n",
        "\n",
        "# Evaluate the model\n",
        "print(\"\\nLDA (Device Time) Evaluation:\")\n",
        "print(f\"Accuracy: {accuracy_score(y_test, y_pred_lda_device):.4f}\")\n",
        "print(f\"Precision: {precision_score(y_test, y_pred_lda_device, average='macro'):.4f}\")\n",
        "print(f\"Recall: {recall_score(y_test, y_pred_lda_device, average='macro'):.4f}\")\n",
        "print(f\"F1-Score: {f1_score(y_test, y_pred_lda_device, average='macro'):.4f}\")\n"
      ],
      "metadata": {
        "colab": {
          "base_uri": "https://localhost:8080/"
        },
        "id": "2-woFRkg0sBs",
        "outputId": "bc6128c9-d8ac-42a0-f997-5c5a8c366b7f"
      },
      "execution_count": 20,
      "outputs": [
        {
          "output_type": "stream",
          "name": "stdout",
          "text": [
            "\n",
            "LDA (Device Time) Evaluation:\n",
            "Accuracy: 0.4324\n",
            "Precision: 0.3497\n",
            "Recall: 0.3729\n",
            "F1-Score: 0.3568\n"
          ]
        },
        {
          "output_type": "stream",
          "name": "stderr",
          "text": [
            "/usr/local/lib/python3.10/dist-packages/sklearn/metrics/_classification.py:1565: UndefinedMetricWarning: Precision is ill-defined and being set to 0.0 in labels with no predicted samples. Use `zero_division` parameter to control this behavior.\n",
            "  _warn_prf(average, modifier, f\"{metric.capitalize()} is\", len(result))\n"
          ]
        }
      ]
    },
    {
      "cell_type": "markdown",
      "source": [
        "Using Device Time as a feature yields slightly better results for LDA than Logistic Regression and Sleep Hours-based models. However, predictions remain limited."
      ],
      "metadata": {
        "id": "cjc-2fwd-38B"
      }
    },
    {
      "cell_type": "markdown",
      "source": [
        "**Random Forest Classifier**"
      ],
      "metadata": {
        "id": "w5vOrB4e4p0A"
      }
    },
    {
      "cell_type": "code",
      "source": [
        "# Train Random Forest Classifier\n",
        "rf_classifier = RandomForestClassifier(random_state=42)\n",
        "rf_classifier.fit(X_train_device, y_train)\n",
        "\n",
        "# Make predictions\n",
        "y_pred_rf_device = rf_classifier.predict(X_test_device)\n",
        "\n",
        "# Evaluate the model\n",
        "print(\"\\nRandom Forest (Device Time) Evaluation:\")\n",
        "print(f\"Accuracy: {accuracy_score(y_test, y_pred_rf_device):.4f}\")\n",
        "print(f\"Precision: {precision_score(y_test, y_pred_rf_device, average='macro'):.4f}\")\n",
        "print(f\"Recall: {recall_score(y_test, y_pred_rf_device, average='macro'):.4f}\")\n",
        "print(f\"F1-Score: {f1_score(y_test, y_pred_rf_device, average='macro'):.4f}\")\n"
      ],
      "metadata": {
        "colab": {
          "base_uri": "https://localhost:8080/"
        },
        "id": "tzypTg8c0vqZ",
        "outputId": "f253db37-1743-4b8d-a3e3-7256f0496dc2"
      },
      "execution_count": 21,
      "outputs": [
        {
          "output_type": "stream",
          "name": "stdout",
          "text": [
            "\n",
            "Random Forest (Device Time) Evaluation:\n",
            "Accuracy: 0.2703\n",
            "Precision: 0.1982\n",
            "Recall: 0.2373\n",
            "F1-Score: 0.2037\n"
          ]
        }
      ]
    },
    {
      "cell_type": "markdown",
      "source": [
        "Random Forest performs poorly when using only Device Time, likely because it relies heavily on feature interactions and cannot effectively split the data using a single feature."
      ],
      "metadata": {
        "id": "MCjzUkTd_Cyz"
      }
    },
    {
      "cell_type": "markdown",
      "source": [
        "**Support Vector Machine (SVM)**"
      ],
      "metadata": {
        "id": "DsceT6So6rb9"
      }
    },
    {
      "cell_type": "code",
      "source": [
        "from sklearn.svm import SVC\n",
        "from sklearn.metrics import accuracy_score, precision_score, recall_score, f1_score\n",
        "\n",
        "# Select feature and target\n",
        "X_train_device = X_train[['Device_Time']]\n",
        "X_test_device = X_test[['Device_Time']]\n",
        "\n",
        "# Initialize and train SVM model\n",
        "svm_device = SVC(random_state=42, kernel='rbf')  # Experiment with 'linear', 'poly', etc.\n",
        "svm_device.fit(X_train_device, y_train)\n",
        "\n",
        "# Make predictions\n",
        "y_pred_svm_device = svm_device.predict(X_test_device)\n",
        "\n",
        "# Evaluate the model\n",
        "print(\"SVM (Device Time) Evaluation:\")\n",
        "print(f\"Accuracy:  {accuracy_score(y_test, y_pred_svm_device):.4f}\")\n",
        "print(f\"Precision: {precision_score(y_test, y_pred_svm_device, average='macro'):.4f}\")\n",
        "print(f\"Recall:    {recall_score(y_test, y_pred_svm_device, average='macro'):.4f}\")\n",
        "print(f\"F1-Score:  {f1_score(y_test, y_pred_svm_device, average='macro'):.4f}\")"
      ],
      "metadata": {
        "colab": {
          "base_uri": "https://localhost:8080/"
        },
        "id": "8Y9zdChy6v_o",
        "outputId": "25bb68a9-1097-447d-d73d-424dd9ae6500"
      },
      "execution_count": 31,
      "outputs": [
        {
          "output_type": "stream",
          "name": "stdout",
          "text": [
            "SVM (Device Time) Evaluation:\n",
            "Accuracy:  0.4054\n",
            "Precision: 0.3160\n",
            "Recall:    0.3543\n",
            "F1-Score:  0.3330\n"
          ]
        },
        {
          "output_type": "stream",
          "name": "stderr",
          "text": [
            "/usr/local/lib/python3.10/dist-packages/sklearn/metrics/_classification.py:1565: UndefinedMetricWarning: Precision is ill-defined and being set to 0.0 in labels with no predicted samples. Use `zero_division` parameter to control this behavior.\n",
            "  _warn_prf(average, modifier, f\"{metric.capitalize()} is\", len(result))\n"
          ]
        }
      ]
    },
    {
      "cell_type": "markdown",
      "source": [
        "**Interpretation:**\n",
        "\n",
        "Using only Device_Time, the SVM achieves ~40% accuracy and low-to-mid 30% scores for precision, recall, and F1, indicating limited predictive power."
      ],
      "metadata": {
        "id": "FAAfAoQi6952"
      }
    },
    {
      "cell_type": "markdown",
      "source": [
        "## **Training Models using 2 features:**\n",
        "\n",
        "\n"
      ],
      "metadata": {
        "id": "CalPId6qjozj"
      }
    },
    {
      "cell_type": "markdown",
      "source": [
        "**Logistic Regression: Sleep Hours and Device Time**"
      ],
      "metadata": {
        "id": "o72lhGKa4_QQ"
      }
    },
    {
      "cell_type": "code",
      "source": [
        "!pip install imblearn\n",
        "from imblearn.over_sampling import SMOTE\n",
        "import pandas as pd\n",
        "\n",
        "# Select specific features\n",
        "X_train_selected = X_train[['Sleep_Hours', 'Device_Time']]\n",
        "X_test_selected = X_test[['Sleep_Hours', 'Device_Time']]\n",
        "\n",
        "# Create y_train_class for classification\n",
        "# Discretize 'y_train' into classes (Low, Medium, High)\n",
        "y_train_class = pd.cut(y_train, bins=[-float('inf'), 2, 3, float('inf')],\n",
        "                        labels=[\"Low\", \"Medium\", \"High\"], include_lowest=True, duplicates='drop')\n",
        "y_test_class = pd.cut(y_test, bins=[-float('inf'), 2, 3, float('inf')],\n",
        "                        labels=[\"Low\", \"Medium\", \"High\"], include_lowest=True, duplicates='drop')\n",
        "\n",
        "\n",
        "# Apply SMOTE to handle class imbalance\n",
        "smote = SMOTE(random_state=42) # Now SMOTE is defined and can be used\n",
        "X_train_resampled, y_train_class_resampled = smote.fit_resample(X_train_selected, y_train_class)\n",
        "\n",
        "# Initialize Logistic Regression with class weighting\n",
        "logreg = LogisticRegression(random_state=42, max_iter=1000, class_weight='balanced')\n",
        "\n",
        "# Train the model\n",
        "logreg.fit(X_train_resampled, y_train_class_resampled)\n",
        "\n",
        "# Make predictions\n",
        "y_pred_logreg = logreg.predict(X_test_selected)\n",
        "\n",
        "# Evaluate the model\n",
        "print(\"\\nLogistic Regression Classification Report:\")\n",
        "print(classification_report(y_test_class, y_pred_logreg))\n",
        "\n",
        "# Calculate and print individual metrics\n",
        "accuracy = accuracy_score(y_test_class, y_pred_logreg)\n",
        "precision = precision_score(y_test_class, y_pred_logreg, average='macro')\n",
        "recall = recall_score(y_test_class, y_pred_logreg, average='macro')\n",
        "f1 = f1_score(y_test_class, y_pred_logreg, average='macro')\n",
        "\n",
        "print(f\"Accuracy: {accuracy:.4f}\")\n",
        "print(f\"Precision (macro): {precision:.4f}\")\n",
        "print(f\"Recall (macro): {recall:.4f}\")\n",
        "print(f\"F1-Score (macro): {f1:.4f}\")"
      ],
      "metadata": {
        "colab": {
          "base_uri": "https://localhost:8080/"
        },
        "id": "j9dv4OCwZS67",
        "outputId": "ba60eeff-41cf-4e88-8daf-533982604386"
      },
      "execution_count": 34,
      "outputs": [
        {
          "output_type": "stream",
          "name": "stdout",
          "text": [
            "Requirement already satisfied: imblearn in /usr/local/lib/python3.10/dist-packages (0.0)\n",
            "Requirement already satisfied: imbalanced-learn in /usr/local/lib/python3.10/dist-packages (from imblearn) (0.13.0)\n",
            "Requirement already satisfied: numpy<3,>=1.24.3 in /usr/local/lib/python3.10/dist-packages (from imbalanced-learn->imblearn) (1.26.4)\n",
            "Requirement already satisfied: scipy<2,>=1.10.1 in /usr/local/lib/python3.10/dist-packages (from imbalanced-learn->imblearn) (1.13.1)\n",
            "Requirement already satisfied: scikit-learn<2,>=1.3.2 in /usr/local/lib/python3.10/dist-packages (from imbalanced-learn->imblearn) (1.6.0)\n",
            "Requirement already satisfied: sklearn-compat<1,>=0.1 in /usr/local/lib/python3.10/dist-packages (from imbalanced-learn->imblearn) (0.1.3)\n",
            "Requirement already satisfied: joblib<2,>=1.1.1 in /usr/local/lib/python3.10/dist-packages (from imbalanced-learn->imblearn) (1.4.2)\n",
            "Requirement already satisfied: threadpoolctl<4,>=2.0.0 in /usr/local/lib/python3.10/dist-packages (from imbalanced-learn->imblearn) (3.5.0)\n",
            "\n",
            "Logistic Regression Classification Report:\n",
            "              precision    recall  f1-score   support\n",
            "\n",
            "        High       0.76      0.72      0.74        36\n",
            "         Low       0.44      0.71      0.55        17\n",
            "      Medium       0.23      0.14      0.18        21\n",
            "\n",
            "    accuracy                           0.55        74\n",
            "   macro avg       0.48      0.52      0.49        74\n",
            "weighted avg       0.54      0.55      0.54        74\n",
            "\n",
            "Accuracy: 0.5541\n",
            "Precision (macro): 0.4800\n",
            "Recall (macro): 0.5237\n",
            "F1-Score (macro): 0.4883\n"
          ]
        }
      ]
    },
    {
      "cell_type": "markdown",
      "source": [
        "- Moderate Accuracy: The model achieves an accuracy of 55.41%, a noticeable improvement compared to using either Sleep Hours or Device Time alone.\n",
        "\n",
        "Using both Sleep Hours and Device Time as features improves overall performance compared to single-feature models, but the Medium class remains a challenge."
      ],
      "metadata": {
        "id": "pvu6HKW6_RDf"
      }
    },
    {
      "cell_type": "markdown",
      "source": [
        "**K-Nearest Neighbors (KNN): Sleep Hours and Device Time**"
      ],
      "metadata": {
        "id": "jC3rG59W7hcD"
      }
    },
    {
      "cell_type": "code",
      "source": [
        "from sklearn.neighbors import KNeighborsClassifier\n",
        "from sklearn.metrics import classification_report, accuracy_score, precision_score, recall_score, f1_score\n",
        "\n",
        "# Select features and target\n",
        "X_train_2feat = X_train[['Sleep_Hours', 'Device_Time']]\n",
        "X_test_2feat = X_test[['Sleep_Hours', 'Device_Time']]\n",
        "\n",
        "# Initialize and train the KNN model\n",
        "knn_2feat = KNeighborsClassifier(n_neighbors=5)  # You can tune n_neighbors\n",
        "knn_2feat.fit(X_train_2feat, y_train_class)\n",
        "\n",
        "# Make predictions\n",
        "y_pred_knn_2feat = knn_2feat.predict(X_test_2feat)\n",
        "\n",
        "# Evaluate the model\n",
        "print(\"\\nKNN Classification Report (2 Features):\")\n",
        "print(classification_report(y_test_class, y_pred_knn_2feat))\n",
        "\n",
        "# Calculate and print individual metrics\n",
        "acc_knn_2feat = accuracy_score(y_test_class, y_pred_knn_2feat)\n",
        "prec_knn_2feat = precision_score(y_test_class, y_pred_knn_2feat, average='macro')\n",
        "rec_knn_2feat = recall_score(y_test_class, y_pred_knn_2feat, average='macro')\n",
        "f1_knn_2feat = f1_score(y_test_class, y_pred_knn_2feat, average='macro')\n",
        "\n",
        "print(f\"Accuracy: {acc_knn_2feat:.4f}\")\n",
        "print(f\"Precision (macro): {prec_knn_2feat:.4f}\")\n",
        "print(f\"Recall (macro): {rec_knn_2feat:.4f}\")\n",
        "print(f\"F1-Score (macro): {f1_knn_2feat:.4f}\")\n"
      ],
      "metadata": {
        "colab": {
          "base_uri": "https://localhost:8080/"
        },
        "id": "oweTSSsT7wKN",
        "outputId": "1dde9e74-d0a8-47d2-dc15-0d7e33489d2e"
      },
      "execution_count": 35,
      "outputs": [
        {
          "output_type": "stream",
          "name": "stdout",
          "text": [
            "\n",
            "KNN Classification Report (2 Features):\n",
            "              precision    recall  f1-score   support\n",
            "\n",
            "        High       0.78      0.69      0.74        36\n",
            "         Low       0.41      0.71      0.52        17\n",
            "      Medium       0.38      0.24      0.29        21\n",
            "\n",
            "    accuracy                           0.57        74\n",
            "   macro avg       0.53      0.55      0.52        74\n",
            "weighted avg       0.58      0.57      0.56        74\n",
            "\n",
            "Accuracy: 0.5676\n",
            "Precision (macro): 0.5266\n",
            "Recall (macro): 0.5461\n",
            "F1-Score (macro): 0.5171\n"
          ]
        }
      ]
    },
    {
      "cell_type": "markdown",
      "source": [
        "**Interpretation:**\n",
        "\n",
        "The KNN model with **Sleep_Hours** and **Device_Time** reaches **57% accuracy** and a **macro F1-score of 52%**, doing better on **High** stress but less effectively distinguishing **Low** and **Medium** levels."
      ],
      "metadata": {
        "id": "vp1l4tdc8cq9"
      }
    },
    {
      "cell_type": "markdown",
      "source": [
        "**Linear Discriminant Analysis (LDA): Sleep Hours and Device Time**"
      ],
      "metadata": {
        "id": "2XSRUczs5Drk"
      }
    },
    {
      "cell_type": "code",
      "source": [
        "# Select specific features\n",
        "X_train_selected = X_train[['Sleep_Hours', 'Device_Time']]\n",
        "X_test_selected = X_test[['Sleep_Hours', 'Device_Time']]\n",
        "\n",
        "# Initialize and train the LDA model\n",
        "lda = LinearDiscriminantAnalysis()\n",
        "lda.fit(X_train_selected, y_train_class)\n",
        "\n",
        "# Make predictions\n",
        "y_pred_lda = lda.predict(X_test_selected)\n",
        "\n",
        "# Evaluate the LDA model\n",
        "print(\"\\nLDA Classification Report:\")\n",
        "print(classification_report(y_test_class, y_pred_lda))\n",
        "\n",
        "# Calculate and print individual metrics\n",
        "accuracy = accuracy_score(y_test_class, y_pred_lda)\n",
        "precision = precision_score(y_test_class, y_pred_lda, average='macro')\n",
        "recall = recall_score(y_test_class, y_pred_lda, average='macro')\n",
        "f1 = f1_score(y_test_class, y_pred_lda, average='macro')\n",
        "\n",
        "print(f\"Accuracy: {accuracy:.4f}\")\n",
        "print(f\"Precision (macro): {precision:.4f}\")\n",
        "print(f\"Recall (macro): {recall:.4f}\")\n",
        "print(f\"F1-Score (macro): {f1:.4f}\")\n"
      ],
      "metadata": {
        "colab": {
          "base_uri": "https://localhost:8080/"
        },
        "id": "L-y89nOB2Wfd",
        "outputId": "bc263faf-86e5-4cd6-f7f0-7e85ea58c71b"
      },
      "execution_count": 23,
      "outputs": [
        {
          "output_type": "stream",
          "name": "stdout",
          "text": [
            "\n",
            "LDA Classification Report:\n",
            "              precision    recall  f1-score   support\n",
            "\n",
            "        High       0.76      0.78      0.77        36\n",
            "         Low       0.41      0.53      0.46        17\n",
            "      Medium       0.27      0.19      0.22        21\n",
            "\n",
            "    accuracy                           0.55        74\n",
            "   macro avg       0.48      0.50      0.48        74\n",
            "weighted avg       0.54      0.55      0.54        74\n",
            "\n",
            "Accuracy: 0.5541\n",
            "Precision (macro): 0.4775\n",
            "Recall (macro): 0.4992\n",
            "F1-Score (macro): 0.4836\n"
          ]
        }
      ]
    },
    {
      "cell_type": "markdown",
      "source": [
        "- Moderate Accuracy: The model achieves an accuracy of 55.41%, identical to Logistic Regression, showing no significant advantage with LDA for these features.\n",
        "\n",
        "LDA performs similarly to Logistic Regression when using Sleep Hours and Device Time, excelling in the High class but struggling with the Medium class.\n"
      ],
      "metadata": {
        "id": "lGZM9pg6_bJK"
      }
    },
    {
      "cell_type": "markdown",
      "source": [
        "**Random Forest Classifier: Sleep Hours and Device Time**"
      ],
      "metadata": {
        "id": "HNF5SCb35Ikc"
      }
    },
    {
      "cell_type": "code",
      "source": [
        "# Select specific features\n",
        "X_train_selected = X_train[['Sleep_Hours', 'Device_Time']]\n",
        "X_test_selected = X_test[['Sleep_Hours', 'Device_Time']]\n",
        "\n",
        "# Initialize and train the Random Forest Classifier\n",
        "rf_classifier = RandomForestClassifier(random_state=42)\n",
        "rf_classifier.fit(X_train_selected, y_train_class)\n",
        "\n",
        "# Make predictions\n",
        "y_pred_rf_class = rf_classifier.predict(X_test_selected)\n",
        "\n",
        "# Evaluate the classifier\n",
        "print(\"\\nRandom Forest Classification Report:\")\n",
        "print(classification_report(y_test_class, y_pred_rf_class))\n",
        "\n",
        "# Generate the confusion matrix\n",
        "cm = confusion_matrix(y_test_class, y_pred_rf_class)\n",
        "\n",
        "# Plot the confusion matrix using Seaborn heatmap\n",
        "sns.heatmap(cm, annot=True, fmt=\"d\", cmap=\"Blues\", xticklabels=[\"Low\", \"Medium\", \"High\"], yticklabels=[\"Low\", \"Medium\", \"High\"])\n",
        "plt.xlabel(\"Predicted\")\n",
        "plt.ylabel(\"Actual\")\n",
        "plt.title(\"Random Forest Confusion Matrix\")\n",
        "plt.show()\n"
      ],
      "metadata": {
        "colab": {
          "base_uri": "https://localhost:8080/",
          "height": 680
        },
        "id": "Cc0ZEZi12Znu",
        "outputId": "22cc1350-5ede-4a39-da04-e106a8694feb"
      },
      "execution_count": 24,
      "outputs": [
        {
          "output_type": "stream",
          "name": "stdout",
          "text": [
            "\n",
            "Random Forest Classification Report:\n",
            "              precision    recall  f1-score   support\n",
            "\n",
            "        High       0.72      0.78      0.75        36\n",
            "         Low       0.44      0.65      0.52        17\n",
            "      Medium       0.30      0.14      0.19        21\n",
            "\n",
            "    accuracy                           0.57        74\n",
            "   macro avg       0.49      0.52      0.49        74\n",
            "weighted avg       0.54      0.57      0.54        74\n",
            "\n"
          ]
        },
        {
          "output_type": "display_data",
          "data": {
            "text/plain": [
              "<Figure size 640x480 with 2 Axes>"
            ],
            "image/png": "[encoded data removed]"
          },
          "metadata": {}
        }
      ]
    },
    {
      "cell_type": "markdown",
      "source": [
        "Random Forest performs slightly better than Logistic Regression and LDA with Sleep Hours and Device Time, particularly for the High class. However, it still struggles with the Medium class, suggesting a need for additional features or balancing techniques to further improve classification."
      ],
      "metadata": {
        "id": "p3pmf0p9_v2i"
      }
    },
    {
      "cell_type": "markdown",
      "source": [
        "**Support Vector Machine (SVM): Sleep Hours and Device Time**\n"
      ],
      "metadata": {
        "id": "DjLunMcl79qq"
      }
    },
    {
      "cell_type": "code",
      "source": [
        "from sklearn.svm import SVC\n",
        "from sklearn.metrics import classification_report, accuracy_score, precision_score, recall_score, f1_score\n",
        "\n",
        "# Select features and target\n",
        "X_train_2feat = X_train[['Sleep_Hours', 'Device_Time']]\n",
        "X_test_2feat = X_test[['Sleep_Hours', 'Device_Time']]\n",
        "\n",
        "# Initialize and train the SVM model\n",
        "svm_2feat = SVC(kernel='rbf', random_state=42)  # You can experiment with 'linear', 'poly', etc.\n",
        "svm_2feat.fit(X_train_2feat, y_train_class)\n",
        "\n",
        "# Make predictions\n",
        "y_pred_svm_2feat = svm_2feat.predict(X_test_2feat)\n",
        "\n",
        "# Evaluate the model\n",
        "print(\"\\nSVM Classification Report (2 Features):\")\n",
        "print(classification_report(y_test_class, y_pred_svm_2feat))\n",
        "\n",
        "# Calculate and print individual metrics\n",
        "acc_svm_2feat = accuracy_score(y_test_class, y_pred_svm_2feat)\n",
        "prec_svm_2feat = precision_score(y_test_class, y_pred_svm_2feat, average='macro')\n",
        "rec_svm_2feat = recall_score(y_test_class, y_pred_svm_2feat, average='macro')\n",
        "f1_svm_2feat = f1_score(y_test_class, y_pred_svm_2feat, average='macro')\n",
        "\n",
        "print(f\"Accuracy: {acc_svm_2feat:.4f}\")\n",
        "print(f\"Precision (macro): {prec_svm_2feat:.4f}\")\n",
        "print(f\"Recall (macro): {rec_svm_2feat:.4f}\")\n",
        "print(f\"F1-Score (macro): {f1_svm_2feat:.4f}\")\n"
      ],
      "metadata": {
        "colab": {
          "base_uri": "https://localhost:8080/"
        },
        "id": "a6lxhWnr8F7N",
        "outputId": "2930177e-ada9-4a12-aa56-8f8a41234f0b"
      },
      "execution_count": 33,
      "outputs": [
        {
          "output_type": "stream",
          "name": "stdout",
          "text": [
            "\n",
            "SVM Classification Report (2 Features):\n",
            "              precision    recall  f1-score   support\n",
            "\n",
            "        High       0.76      0.78      0.77        36\n",
            "         Low       0.45      0.53      0.49        17\n",
            "      Medium       0.29      0.24      0.26        21\n",
            "\n",
            "    accuracy                           0.57        74\n",
            "   macro avg       0.50      0.52      0.51        74\n",
            "weighted avg       0.55      0.57      0.56        74\n",
            "\n",
            "Accuracy: 0.5676\n",
            "Precision (macro): 0.5003\n",
            "Recall (macro): 0.5151\n",
            "F1-Score (macro): 0.5056\n"
          ]
        }
      ]
    },
    {
      "cell_type": "markdown",
      "source": [
        "**Interpretation:**\n",
        "\n",
        "The SVM model using **Sleep_Hours** and **Device_Time** also achieves **57% accuracy**, performing best on **High** stress but struggling with **Low** and **Medium**, as shown by lower macro precision and recall."
      ],
      "metadata": {
        "id": "2m9o4I7j8pCO"
      }
    },
    {
      "cell_type": "markdown",
      "source": [
        "## **Training Models using all features:**"
      ],
      "metadata": {
        "id": "iGJOHN3rkClv"
      }
    },
    {
      "cell_type": "markdown",
      "source": [
        "**K-Nearest Neighbors (KNN):**"
      ],
      "metadata": {
        "id": "ImiBg7u5FA6O"
      }
    },
    {
      "cell_type": "code",
      "source": [
        "from sklearn.neighbors import KNeighborsClassifier\n",
        "from sklearn.metrics import classification_report, accuracy_score, precision_score, recall_score, f1_score\n",
        "\n",
        "# (Optional) Discretize 'y' for classification if not already done\n",
        "y_train_class = pd.cut(y_train, bins=[-float('inf'), 2, 3, float('inf')],\n",
        "                       labels=[\"Low\", \"Medium\", \"High\"], include_lowest=True, duplicates='drop')\n",
        "y_test_class = pd.cut(y_test, bins=[-float('inf'), 2, 3, float('inf')],\n",
        "                      labels=[\"Low\", \"Medium\", \"High\"], include_lowest=True, duplicates='drop')\n",
        "\n",
        "# Initialize and train the KNN model using all features\n",
        "knn_all = KNeighborsClassifier(n_neighbors=5)  # Adjust n_neighbors as needed\n",
        "knn_all.fit(X_train, y_train_class)\n",
        "\n",
        "# Make predictions\n",
        "y_pred_knn_all = knn_all.predict(X_test)\n",
        "\n",
        "# Evaluate the model\n",
        "print(\"KNN Classification Report (All Features):\")\n",
        "print(classification_report(y_test_class, y_pred_knn_all))\n",
        "\n",
        "# Calculate and print individual metrics\n",
        "acc_knn_all = accuracy_score(y_test_class, y_pred_knn_all)\n",
        "prec_knn_all = precision_score(y_test_class, y_pred_knn_all, average='macro')\n",
        "rec_knn_all = recall_score(y_test_class, y_pred_knn_all, average='macro')\n",
        "f1_knn_all = f1_score(y_test_class, y_pred_knn_all, average='macro')\n",
        "\n",
        "print(f\"Accuracy: {acc_knn_all:.4f}\")\n",
        "print(f\"Precision (macro): {prec_knn_all:.4f}\")\n",
        "print(f\"Recall (macro): {rec_knn_all:.4f}\")\n",
        "print(f\"F1-Score (macro): {f1_knn_all:.4f}\")\n"
      ],
      "metadata": {
        "colab": {
          "base_uri": "https://localhost:8080/"
        },
        "id": "6G9KyGUVFFJ4",
        "outputId": "9452efcd-059a-4918-ebd8-bcdc6159b264"
      },
      "execution_count": 36,
      "outputs": [
        {
          "output_type": "stream",
          "name": "stdout",
          "text": [
            "KNN Classification Report (All Features):\n",
            "              precision    recall  f1-score   support\n",
            "\n",
            "        High       0.70      0.86      0.78        36\n",
            "         Low       0.63      0.71      0.67        17\n",
            "      Medium       0.27      0.14      0.19        21\n",
            "\n",
            "    accuracy                           0.62        74\n",
            "   macro avg       0.54      0.57      0.54        74\n",
            "weighted avg       0.57      0.62      0.58        74\n",
            "\n",
            "Accuracy: 0.6216\n",
            "Precision (macro): 0.5363\n",
            "Recall (macro): 0.5700\n",
            "F1-Score (macro): 0.5431\n"
          ]
        }
      ]
    },
    {
      "cell_type": "markdown",
      "source": [
        "With **all features**, KNN reaches about **62% accuracy**, performing strongly on **High** stress but still struggling with **Medium**, as seen by its low precision and recall there. Overall, the **macro F1-score of ~54%** indicates that while the model handles some categories well, there’s room for improvement, especially for **Medium** stress levels."
      ],
      "metadata": {
        "id": "x0WZJdWNFQyk"
      }
    },
    {
      "cell_type": "markdown",
      "source": [
        "### **1- Logistic Regression:** \"Classifying Stress Levels Using Logistic Regression\""
      ],
      "metadata": {
        "id": "2VnLSDcwX7hV"
      }
    },
    {
      "cell_type": "code",
      "source": [
        "from imblearn.over_sampling import SMOTE\n",
        "# Bin the target variable into classes\n",
        "y_train_class = pd.cut(y_train, bins=[-float('inf'), 2, 3, float('inf')], labels=[\"Low\", \"Medium\", \"High\"], include_lowest=True, duplicates='drop')\n",
        "y_test_class = pd.cut(y_test, bins=[-float('inf'), 2, 3, float('inf')], labels=[\"Low\", \"Medium\", \"High\"], include_lowest=True, duplicates='drop')\n",
        "\n",
        "# Apply SMOTE to handle class imbalance\n",
        "smote = SMOTE(random_state=42)\n",
        "X_train_resampled, y_train_class_resampled = smote.fit_resample(X_train, y_train_class)\n",
        "\n",
        "# Initialize the Logistic Regression model with class weighting\n",
        "logreg = LogisticRegression(random_state=42, max_iter=1000, class_weight='balanced')\n",
        "\n",
        "# Train the model on the resampled data\n",
        "logreg.fit(X_train_resampled, y_train_class_resampled)\n",
        "\n",
        "# Make predictions\n",
        "y_pred_logreg = logreg.predict(X_test)\n",
        "\n",
        "# Evaluate the Logistic Regression model\n",
        "print(\"\\nLogistic Regression Classification Report:\")\n",
        "print(classification_report(y_test_class, y_pred_logreg))\n",
        "\n",
        "# Calculate and print individual metrics\n",
        "accuracy = accuracy_score(y_test_class, y_pred_logreg)\n",
        "precision = precision_score(y_test_class, y_pred_logreg, average='macro')\n",
        "recall = recall_score(y_test_class, y_pred_logreg, average='macro')\n",
        "f1 = f1_score(y_test_class, y_pred_logreg, average='macro')\n",
        "\n",
        "print(f\"Accuracy: {accuracy:.4f}\")\n",
        "print(f\"Precision (macro): {precision:.4f}\")\n",
        "print(f\"Recall (macro): {recall:.4f}\")\n",
        "print(f\"F1-Score (macro): {f1:.4f}\")\n"
      ],
      "metadata": {
        "colab": {
          "base_uri": "https://localhost:8080/"
        },
        "id": "cFWz5eRmEpmn",
        "outputId": "4040acdc-c6e3-4208-a9e4-1912a308d6ad"
      },
      "execution_count": 25,
      "outputs": [
        {
          "output_type": "stream",
          "name": "stdout",
          "text": [
            "\n",
            "Logistic Regression Classification Report:\n",
            "              precision    recall  f1-score   support\n",
            "\n",
            "        High       0.72      0.78      0.75        36\n",
            "         Low       0.79      0.88      0.83        17\n",
            "      Medium       0.44      0.33      0.38        21\n",
            "\n",
            "    accuracy                           0.68        74\n",
            "   macro avg       0.65      0.66      0.65        74\n",
            "weighted avg       0.65      0.68      0.66        74\n",
            "\n",
            "Accuracy: 0.6757\n",
            "Precision (macro): 0.6483\n",
            "Recall (macro): 0.6645\n",
            "F1-Score (macro): 0.6528\n"
          ]
        }
      ]
    },
    {
      "cell_type": "markdown",
      "source": [
        "- The accuracy is 67.57%, indicating moderate performance.\n",
        "- Precision, recall, and F1-score (macro averages) are consistent around 65%, reflecting balanced overall performance across all classes.\n",
        "\n",
        "--> The model struggles most with the Medium class, which pulls down overall metrics, but performs reasonably well for High and Low stress levels. Further tuning or a different algorithm may improve results."
      ],
      "metadata": {
        "id": "1VoicmosL1l8"
      }
    },
    {
      "cell_type": "markdown",
      "source": [
        "### **2- Linear Discriminant Analysis (LDA):** \"Stress Level Classification with Linear Discriminant Analysis\""
      ],
      "metadata": {
        "id": "CjuaL5GkYFZV"
      }
    },
    {
      "source": [
        "# Discretize 'y' for classification if needed\n",
        "y_train_class = pd.cut(y_train, bins=[-float('inf'), 2, 3, float('inf')], labels=[\"Low\", \"Medium\", \"High\"], include_lowest=True, duplicates='drop')\n",
        "y_test_class = pd.cut(y_test, bins=[-float('inf'), 2, 3, float('inf')], labels=[\"Low\", \"Medium\", \"High\"], include_lowest=True, duplicates='drop')\n",
        "\n",
        "# Initialize and train the LDA model\n",
        "lda = LinearDiscriminantAnalysis()\n",
        "lda.fit(X_train, y_train_class)\n",
        "\n",
        "# Make predictions\n",
        "y_pred_lda = lda.predict(X_test)\n",
        "\n",
        "# Evaluate the LDA model\n",
        "print(\"LDA Classification Report:\")\n",
        "print(classification_report(y_test_class, y_pred_lda))\n",
        "\n",
        "# Calculate and print individual metrics\n",
        "print(f\"Accuracy: {accuracy_score(y_test_class, y_pred_lda):.4f}\")\n",
        "print(f\"Precision (macro): {precision_score(y_test_class, y_pred_lda, average='macro'):.4f}\")\n",
        "print(f\"Recall (macro): {recall_score(y_test_class, y_pred_lda, average='macro'):.4f}\")\n",
        "print(f\"F1-Score (macro): {f1_score(y_test_class, y_pred_lda, average='macro'):.4f}\")"
      ],
      "cell_type": "code",
      "metadata": {
        "colab": {
          "base_uri": "https://localhost:8080/"
        },
        "id": "Q15fiFNW89UL",
        "outputId": "6966e58f-6ecf-4c82-9c02-99aa5831dde4"
      },
      "execution_count": 26,
      "outputs": [
        {
          "output_type": "stream",
          "name": "stdout",
          "text": [
            "LDA Classification Report:\n",
            "              precision    recall  f1-score   support\n",
            "\n",
            "        High       0.69      0.81      0.74        36\n",
            "         Low       0.88      0.88      0.88        17\n",
            "      Medium       0.53      0.38      0.44        21\n",
            "\n",
            "    accuracy                           0.70        74\n",
            "   macro avg       0.70      0.69      0.69        74\n",
            "weighted avg       0.69      0.70      0.69        74\n",
            "\n",
            "Accuracy: 0.7027\n",
            "Precision (macro): 0.7021\n",
            "Recall (macro): 0.6896\n",
            "F1-Score (macro): 0.6901\n"
          ]
        }
      ]
    },
    {
      "cell_type": "markdown",
      "source": [
        "- The accuracy is 70.27%, slightly better than Logistic Regression.\n",
        "\n",
        "- Precision, recall, and F1-score (macro averages) are all around 70%, reflecting balanced overall performance.\n",
        "\n",
        "--> LDA improves slightly over Logistic Regression, especially for High and Low classes, but still struggles with the Medium class. It might benefit from addressing class imbalance or feature engineering."
      ],
      "metadata": {
        "id": "4vfRNE05NUj6"
      }
    },
    {
      "cell_type": "markdown",
      "source": [
        "### **3- Random Forest Classifier:** \"Improving Stress Classification with Random Forest Classifier\""
      ],
      "metadata": {
        "id": "o8MFwctBYRME"
      }
    },
    {
      "source": [
        "from sklearn.metrics import confusion_matrix\n",
        "import seaborn as sns\n",
        "import matplotlib.pyplot as plt\n",
        "\n",
        "# Discretize 'y' for classification if needed\n",
        "y_train_class = pd.cut(y_train, bins=[-float('inf'), 2, 3, float('inf')], labels=[\"Low\", \"Medium\", \"High\"], include_lowest=True, duplicates='drop')\n",
        "y_test_class = pd.cut(y_test, bins=[-float('inf'), 2, 3, float('inf')], labels=[\"Low\", \"Medium\", \"High\"], include_lowest=True, duplicates='drop')\n",
        "\n",
        "# Initialize and train the Random Forest Classifier\n",
        "rf_classifier = RandomForestClassifier(random_state=42)  # You can adjust hyperparameters here\n",
        "rf_classifier.fit(X_train, y_train_class)\n",
        "\n",
        "# Make predictions\n",
        "y_pred_rf_class = rf_classifier.predict(X_test)\n",
        "\n",
        "# Evaluate the classifier\n",
        "print(\"Random Forest Classification Report:\")\n",
        "print(classification_report(y_test_class, y_pred_rf_class))\n",
        "\n",
        "# Generate the confusion matrix\n",
        "cm = confusion_matrix(y_test_class, y_pred_rf_class)\n",
        "\n",
        "# Plot the confusion matrix using Seaborn heatmap\n",
        "sns.heatmap(cm, annot=True, fmt=\"d\", cmap=\"Blues\", xticklabels=[\"Low\", \"Medium\", \"High\"], yticklabels=[\"Low\", \"Medium\", \"High\"])\n",
        "plt.xlabel(\"Predicted\")\n",
        "plt.ylabel(\"Actual\")\n",
        "plt.title(\"Random Forest Confusion Matrix\")\n",
        "plt.show()\n"
      ],
      "cell_type": "code",
      "metadata": {
        "colab": {
          "base_uri": "https://localhost:8080/",
          "height": 663
        },
        "id": "UPXdnYwn9Imu",
        "outputId": "03fb7e81-204a-4c1a-d7ef-4f5c6d29ee7a"
      },
      "execution_count": 27,
      "outputs": [
        {
          "output_type": "stream",
          "name": "stdout",
          "text": [
            "Random Forest Classification Report:\n",
            "              precision    recall  f1-score   support\n",
            "\n",
            "        High       0.71      0.89      0.79        36\n",
            "         Low       0.88      0.88      0.88        17\n",
            "      Medium       0.67      0.38      0.48        21\n",
            "\n",
            "    accuracy                           0.74        74\n",
            "   macro avg       0.75      0.72      0.72        74\n",
            "weighted avg       0.74      0.74      0.72        74\n",
            "\n"
          ]
        },
        {
          "output_type": "display_data",
          "data": {
            "text/plain": [
              "<Figure size 640x480 with 2 Axes>"
            ],
            "image/png": "[encoded data removed]"
          },
          "metadata": {}
        }
      ]
    },
    {
      "cell_type": "markdown",
      "source": [
        "- The accuracy is 74%, showing an improvement over Logistic Regression and LDA.\n",
        "\n",
        "- Precision, recall, and F1-score (macro averages) are around 72-75%, indicating balanced overall performance with a slight edge compared to earlier models.\n",
        "\n",
        "--> The confusion matrix shows minimal misclassifications for the Low class, but the model struggles with the Medium class, often misclassifying it as Low. Additionally, 12 High instances were misclassified as Low, indicating difficulty in distinguishing between these classes."
      ],
      "metadata": {
        "id": "WiI90nFZRKyb"
      }
    },
    {
      "cell_type": "markdown",
      "source": [
        "**Support Vector Machine (SVM):**"
      ],
      "metadata": {
        "id": "BlZyMQ81FaRa"
      }
    },
    {
      "cell_type": "code",
      "source": [
        "from sklearn.svm import SVC\n",
        "from sklearn.metrics import classification_report, accuracy_score, precision_score, recall_score, f1_score\n",
        "\n",
        "# (Optional) Discretize 'y' for classification if not already done\n",
        "y_train_class = pd.cut(y_train, bins=[-float('inf'), 2, 3, float('inf')],\n",
        "                       labels=[\"Low\", \"Medium\", \"High\"], include_lowest=True, duplicates='drop')\n",
        "y_test_class = pd.cut(y_test, bins=[-float('inf'), 2, 3, float('inf')],\n",
        "                      labels=[\"Low\", \"Medium\", \"High\"], include_lowest=True, duplicates='drop')\n",
        "\n",
        "# Initialize and train the SVM model using all features\n",
        "svm_all = SVC(kernel='rbf', random_state=42)  # Try 'linear', 'poly', etc. if you want\n",
        "svm_all.fit(X_train, y_train_class)\n",
        "\n",
        "# Make predictions\n",
        "y_pred_svm_all = svm_all.predict(X_test)\n",
        "\n",
        "# Evaluate the model\n",
        "print(\"SVM Classification Report (All Features):\")\n",
        "print(classification_report(y_test_class, y_pred_svm_all))\n",
        "\n",
        "# Calculate and print individual metrics\n",
        "acc_svm_all = accuracy_score(y_test_class, y_pred_svm_all)\n",
        "prec_svm_all = precision_score(y_test_class, y_pred_svm_all, average='macro')\n",
        "rec_svm_all = recall_score(y_test_class, y_pred_svm_all, average='macro')\n",
        "f1_svm_all = f1_score(y_test_class, y_pred_svm_all, average='macro')\n",
        "\n",
        "print(f\"Accuracy: {acc_svm_all:.4f}\")\n",
        "print(f\"Precision (macro): {prec_svm_all:.4f}\")\n",
        "print(f\"Recall (macro): {rec_svm_all:.4f}\")\n",
        "print(f\"F1-Score (macro): {f1_svm_all:.4f}\")\n"
      ],
      "metadata": {
        "colab": {
          "base_uri": "https://localhost:8080/"
        },
        "id": "eamIIDFuFd4N",
        "outputId": "95fc65a9-26b3-4878-9ee6-560e9fd9104c"
      },
      "execution_count": 37,
      "outputs": [
        {
          "output_type": "stream",
          "name": "stdout",
          "text": [
            "SVM Classification Report (All Features):\n",
            "              precision    recall  f1-score   support\n",
            "\n",
            "        High       0.51      0.97      0.67        36\n",
            "         Low       0.33      0.06      0.10        17\n",
            "      Medium       0.00      0.00      0.00        21\n",
            "\n",
            "    accuracy                           0.49        74\n",
            "   macro avg       0.28      0.34      0.26        74\n",
            "weighted avg       0.33      0.49      0.35        74\n",
            "\n",
            "Accuracy: 0.4865\n",
            "Precision (macro): 0.2827\n",
            "Recall (macro): 0.3437\n",
            "F1-Score (macro): 0.2577\n"
          ]
        }
      ]
    },
    {
      "cell_type": "markdown",
      "source": [
        "With **all features**, the SVM heavily favors the “High” class (97% recall) but struggles to correctly classify “Low” and “Medium,” leading to a low **49% accuracy** overall and a **macro F1-score of ~26%**. This suggests significant imbalances in the model’s predictions across different stress levels."
      ],
      "metadata": {
        "id": "RI-lK-4kFlul"
      }
    },
    {
      "cell_type": "markdown",
      "source": [
        "### **General Observations:**\n",
        "\n",
        "- All three models—Logistic Regression, LDA, and Random Forest—perform well for the Low and High stress classes, with Random Forest achieving the highest accuracy (74%). However, all models struggle significantly with the Medium class, consistently showing low recall and F1-scores for this category. Random Forest shows the best overall balance between precision and recall, making it the most effective model among the three. Further improvements may focus on addressing the Medium class's misclassifications through balancing techniques or additional feature engineering."
      ],
      "metadata": {
        "id": "DALWOjgnXSDj"
      }
    },
    {
      "cell_type": "markdown",
      "source": [
        "# **General Conclusion on Feature Selection and Model Accuracy:**"
      ],
      "metadata": {
        "id": "KcLhW4uQmale"
      }
    },
    {
      "cell_type": "markdown",
      "source": [
        "**When using machine learning models, the accuracy typically increases as more features are added because multiple features provide a richer representation of the problem, enabling models to capture complex patterns and relationships. With a single feature, the accuracy is generally low due to limited information, while adding a second feature often improves accuracy moderately by incorporating complementary data. However, the highest accuracy is achieved when using all relevant features, as models can leverage diverse and interacting information. Models like Random Forest benefit significantly in this scenario due to their ability to handle non-linear relationships and feature interactions. Ultimately, the choice of features should balance between maximizing predictive power and minimizing redundancy or noise.**"
      ],
      "metadata": {
        "id": "5KR_dkfWmd04"
      }
    }
  ]
}